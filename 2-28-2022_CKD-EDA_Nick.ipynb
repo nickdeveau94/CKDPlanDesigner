{
 "cells": [
  {
   "cell_type": "code",
   "execution_count": 1,
   "id": "a5adecb9-c6e2-416b-a96c-96de6edea384",
   "metadata": {},
   "outputs": [],
   "source": [
    "from scipy.io import arff\n",
    "import pandas as pd"
   ]
  },
  {
   "cell_type": "code",
   "execution_count": 2,
   "id": "890846e4-f61e-4fbb-8e3f-7f209793587d",
   "metadata": {},
   "outputs": [],
   "source": [
    "# df = pd.read_csv('data/processed/ckd_full.csv')"
   ]
  },
  {
   "cell_type": "code",
   "execution_count": 3,
   "id": "fedd897d-9764-44e5-9ad6-c7b5a03e88f1",
   "metadata": {},
   "outputs": [],
   "source": [
    "patients_df = pd.read_csv('synthea_data/patients.csv')\n",
    "obs_df = pd.read_csv('synthea_data/observations.csv')\n",
    "\n",
    "# uncomment for all observation types\n",
    "# set(pd.read_csv('synthea_data/observations.csv').DESCRIPTION.values)"
   ]
  },
  {
   "cell_type": "code",
   "execution_count": 5,
   "id": "411fcae1-5b8e-4a86-9150-2ebc28f972b0",
   "metadata": {},
   "outputs": [],
   "source": [
    "kidney_obs = obs_df[obs_df['DESCRIPTION'] == 'Glomerular filtration rate/1.73 sq M.predicted']\n",
    "kidney_obs = kidney_obs[['DATE', 'PATIENT', 'DESCRIPTION', 'VALUE', 'UNITS']].sort_values('DATE').drop_duplicates('PATIENT', keep='last')\n",
    "gfr_df = pd.pivot(kidney_obs, index='PATIENT', columns='DESCRIPTION', values='VALUE').reset_index()\n",
    "px_df = patients_df.merge(gfr_df, left_on='Id', right_on='PATIENT')\n",
    "\n",
    "sel_cols = ['Id',\n",
    " 'BIRTHDATE',\n",
    " 'DEATHDATE', \n",
    " 'RACE',\n",
    " 'ETHNICITY',\n",
    " 'GENDER',\n",
    " 'ZIP',\n",
    " 'Glomerular filtration rate/1.73 sq M.predicted']\n",
    "\n",
    "col_names = ['Id',\n",
    " 'BIRTHDATE',\n",
    " 'DEATHDATE', \n",
    " 'RACE',\n",
    " 'ETHNICITY',\n",
    " 'GENDER',\n",
    " 'ZIP',\n",
    " 'eGFR']\n",
    "\n",
    "px_df = px_df[sel_cols]\n",
    "px_df.columns = col_names\n",
    "px_df['eGFR'] = px_df.eGFR.astype(float)"
   ]
  },
  {
   "cell_type": "markdown",
   "id": "c490a1c3-ae94-439c-98d1-b3876c051066",
   "metadata": {},
   "source": [
    "### Build CKD Cohorts\n",
    "Source: https://www.medscape.com/answers/238798-105207/what-are-the-stages-of-chronic-kidney-disease-ckd#:~:text=Stage%201%3A%20Kidney%20damage%20with,%2Fmin%2F1.73%20m%202)\n",
    "- Stage 1: Kidney damage with normal or increased GFR (>90 mL/min/1.73 m 2)\n",
    "- Stage 2: Mild reduction in GFR (60-89 mL/min/1.73 m 2)\n",
    "- Stage 3a: Moderate reduction in GFR (45-59 mL/min/1.73 m 2)\n",
    "- Stage 3b: Moderate reduction in GFR (30-44 mL/min/1.73 m 2)\n",
    "- Stage 4: Severe reduction in GFR (15-29 mL/min/1.73 m 2)\n",
    "- Stage 5: Kidney failure (GFR < 15 mL/min/1.73 m 2 or dialysis)"
   ]
  },
  {
   "cell_type": "code",
   "execution_count": 6,
   "id": "a53a2853-237a-4bdb-9883-fb2778d36e43",
   "metadata": {},
   "outputs": [],
   "source": [
    "stage_2 = px_df[px_df.eGFR.between(60, 89)]\n",
    "stage_3a = px_df[px_df.eGFR.between(45, 59)]\n",
    "stage_3b = px_df[px_df.eGFR.between(30, 44)]\n",
    "stage_4 = px_df[px_df.eGFR.between(15, 29)]\n",
    "stage_5 = px_df[px_df.eGFR.between(0, 14)]"
   ]
  },
  {
   "cell_type": "code",
   "execution_count": 7,
   "id": "8fc89e55-ffbc-4cf0-acab-d446ee813182",
   "metadata": {},
   "outputs": [],
   "source": [
    "delay_px = pd.concat([stage_2, stage_3a])\n",
    "plan_px = pd.concat([stage_3b, stage_4])\n",
    "esrd_px = stage_5"
   ]
  },
  {
   "cell_type": "code",
   "execution_count": 8,
   "id": "ab04348e-c62e-49a1-a098-653ef1b83a5c",
   "metadata": {},
   "outputs": [
    {
     "name": "stdout",
     "output_type": "stream",
     "text": [
      "Delay: 118 patients\n",
      "Plan Transition: 40 patients\n",
      "End Stage: 40 patients\n"
     ]
    }
   ],
   "source": [
    "print('Delay: {} patients'.format(delay_px.shape[0]))\n",
    "print('Plan Transition: {} patients'.format(plan_px.shape[0]))\n",
    "print('End Stage: {} patients'.format(esrd_px.shape[0]))"
   ]
  },
  {
   "cell_type": "markdown",
   "id": "6d93b656-85b9-462e-8953-a7b586a53400",
   "metadata": {},
   "source": [
    "### Estimate Outcomes"
   ]
  },
  {
   "cell_type": "code",
   "execution_count": 9,
   "id": "6b2756f4-ad35-4e57-9672-ae0ac897c8dc",
   "metadata": {},
   "outputs": [
    {
     "data": {
      "text/html": [
       "<div>\n",
       "<style scoped>\n",
       "    .dataframe tbody tr th:only-of-type {\n",
       "        vertical-align: middle;\n",
       "    }\n",
       "\n",
       "    .dataframe tbody tr th {\n",
       "        vertical-align: top;\n",
       "    }\n",
       "\n",
       "    .dataframe thead th {\n",
       "        text-align: right;\n",
       "    }\n",
       "</style>\n",
       "<table border=\"1\" class=\"dataframe\">\n",
       "  <thead>\n",
       "    <tr style=\"text-align: right;\">\n",
       "      <th></th>\n",
       "      <th>Id</th>\n",
       "      <th>BIRTHDATE</th>\n",
       "      <th>DEATHDATE</th>\n",
       "      <th>RACE</th>\n",
       "      <th>ETHNICITY</th>\n",
       "      <th>GENDER</th>\n",
       "      <th>ZIP</th>\n",
       "      <th>eGFR</th>\n",
       "    </tr>\n",
       "  </thead>\n",
       "  <tbody>\n",
       "    <tr>\n",
       "      <th>15</th>\n",
       "      <td>844d1c39-6ca2-48df-a3de-f9a12633f69c</td>\n",
       "      <td>1963-07-20</td>\n",
       "      <td>NaN</td>\n",
       "      <td>white</td>\n",
       "      <td>nonhispanic</td>\n",
       "      <td>F</td>\n",
       "      <td>NaN</td>\n",
       "      <td>8.9</td>\n",
       "    </tr>\n",
       "    <tr>\n",
       "      <th>16</th>\n",
       "      <td>b2b612b0-d4ac-4b83-8d33-4ed6b295c01c</td>\n",
       "      <td>1946-09-23</td>\n",
       "      <td>2012-01-12</td>\n",
       "      <td>white</td>\n",
       "      <td>nonhispanic</td>\n",
       "      <td>F</td>\n",
       "      <td>1887.0</td>\n",
       "      <td>10.9</td>\n",
       "    </tr>\n",
       "    <tr>\n",
       "      <th>30</th>\n",
       "      <td>adfc3c2f-30be-430d-8f07-9070dab88c64</td>\n",
       "      <td>1953-03-07</td>\n",
       "      <td>2019-03-23</td>\n",
       "      <td>white</td>\n",
       "      <td>nonhispanic</td>\n",
       "      <td>F</td>\n",
       "      <td>NaN</td>\n",
       "      <td>8.3</td>\n",
       "    </tr>\n",
       "    <tr>\n",
       "      <th>34</th>\n",
       "      <td>8a9df121-e012-457c-ade0-ead804d93818</td>\n",
       "      <td>1923-05-15</td>\n",
       "      <td>2001-11-18</td>\n",
       "      <td>white</td>\n",
       "      <td>nonhispanic</td>\n",
       "      <td>F</td>\n",
       "      <td>NaN</td>\n",
       "      <td>11.3</td>\n",
       "    </tr>\n",
       "    <tr>\n",
       "      <th>36</th>\n",
       "      <td>efa20606-8972-4bd7-823e-2011fe9a54e1</td>\n",
       "      <td>1923-05-15</td>\n",
       "      <td>1984-12-07</td>\n",
       "      <td>white</td>\n",
       "      <td>nonhispanic</td>\n",
       "      <td>F</td>\n",
       "      <td>1089.0</td>\n",
       "      <td>13.8</td>\n",
       "    </tr>\n",
       "  </tbody>\n",
       "</table>\n",
       "</div>"
      ],
      "text/plain": [
       "                                      Id   BIRTHDATE   DEATHDATE   RACE  \\\n",
       "15  844d1c39-6ca2-48df-a3de-f9a12633f69c  1963-07-20         NaN  white   \n",
       "16  b2b612b0-d4ac-4b83-8d33-4ed6b295c01c  1946-09-23  2012-01-12  white   \n",
       "30  adfc3c2f-30be-430d-8f07-9070dab88c64  1953-03-07  2019-03-23  white   \n",
       "34  8a9df121-e012-457c-ade0-ead804d93818  1923-05-15  2001-11-18  white   \n",
       "36  efa20606-8972-4bd7-823e-2011fe9a54e1  1923-05-15  1984-12-07  white   \n",
       "\n",
       "      ETHNICITY GENDER     ZIP  eGFR  \n",
       "15  nonhispanic      F     NaN   8.9  \n",
       "16  nonhispanic      F  1887.0  10.9  \n",
       "30  nonhispanic      F     NaN   8.3  \n",
       "34  nonhispanic      F     NaN  11.3  \n",
       "36  nonhispanic      F  1089.0  13.8  "
      ]
     },
     "execution_count": 9,
     "metadata": {},
     "output_type": "execute_result"
    }
   ],
   "source": [
    "esrd_px.head()"
   ]
  },
  {
   "cell_type": "code",
   "execution_count": null,
   "id": "cae82ce2-4b56-4461-8443-4bb3212f29ac",
   "metadata": {},
   "outputs": [],
   "source": []
  },
  {
   "cell_type": "markdown",
   "id": "97f339b7-e567-4042-a900-b4eb941884d7",
   "metadata": {},
   "source": [
    "### Define Classes"
   ]
  },
  {
   "cell_type": "markdown",
   "id": "58012242-da24-4356-9778-49b2f1bec1fa",
   "metadata": {},
   "source": [
    "#### Disease"
   ]
  },
  {
   "cell_type": "code",
   "execution_count": 11,
   "id": "fdfb19b6-9348-4918-b4a9-6bcf925ccc86",
   "metadata": {},
   "outputs": [],
   "source": [
    "class DiseaseStage(object):\n",
    "    def __init__(self):\n",
    "        pass"
   ]
  },
  {
   "cell_type": "markdown",
   "id": "7b584d9e-acbf-4f8a-a32c-e440ba0d6810",
   "metadata": {},
   "source": [
    "#### Patient Related"
   ]
  },
  {
   "cell_type": "code",
   "execution_count": 12,
   "id": "ce1429b2-1e53-411f-9e8c-47f144da2c6f",
   "metadata": {},
   "outputs": [
    {
     "ename": "NameError",
     "evalue": "name 'Careplan' is not defined",
     "output_type": "error",
     "traceback": [
      "\u001b[0;31m---------------------------------------------------------------------------\u001b[0m",
      "\u001b[0;31mNameError\u001b[0m                                 Traceback (most recent call last)",
      "\u001b[0;32m<ipython-input-12-04c2c12374ee>\u001b[0m in \u001b[0;36m<module>\u001b[0;34m\u001b[0m\n\u001b[0;32m----> 1\u001b[0;31m \u001b[0;32mclass\u001b[0m \u001b[0mPatient\u001b[0m\u001b[0;34m(\u001b[0m\u001b[0mobject\u001b[0m\u001b[0;34m)\u001b[0m\u001b[0;34m:\u001b[0m\u001b[0;34m\u001b[0m\u001b[0;34m\u001b[0m\u001b[0m\n\u001b[0m\u001b[1;32m      2\u001b[0m     def __init__(self,\n\u001b[1;32m      3\u001b[0m                  \u001b[0mpatient_id\u001b[0m\u001b[0;34m:\u001b[0m \u001b[0mstr\u001b[0m\u001b[0;34m,\u001b[0m\u001b[0;34m\u001b[0m\u001b[0;34m\u001b[0m\u001b[0m\n\u001b[1;32m      4\u001b[0m                  \u001b[0meGFR\u001b[0m\u001b[0;34m:\u001b[0m \u001b[0mfloat\u001b[0m\u001b[0;34m,\u001b[0m\u001b[0;34m\u001b[0m\u001b[0;34m\u001b[0m\u001b[0m\n\u001b[1;32m      5\u001b[0m                  \u001b[0mdob\u001b[0m\u001b[0;34m:\u001b[0m \u001b[0mstr\u001b[0m\u001b[0;34m=\u001b[0m\u001b[0;32mNone\u001b[0m\u001b[0;34m,\u001b[0m\u001b[0;34m\u001b[0m\u001b[0;34m\u001b[0m\u001b[0m\n",
      "\u001b[0;32m<ipython-input-12-04c2c12374ee>\u001b[0m in \u001b[0;36mPatient\u001b[0;34m()\u001b[0m\n\u001b[1;32m     30\u001b[0m             \u001b[0mself\u001b[0m\u001b[0;34m.\u001b[0m\u001b[0mckd_stage\u001b[0m \u001b[0;34m=\u001b[0m \u001b[0;36m2\u001b[0m\u001b[0;34m\u001b[0m\u001b[0;34m\u001b[0m\u001b[0m\n\u001b[1;32m     31\u001b[0m \u001b[0;34m\u001b[0m\u001b[0m\n\u001b[0;32m---> 32\u001b[0;31m     \u001b[0;32mdef\u001b[0m \u001b[0mgenerate_careplan\u001b[0m\u001b[0;34m(\u001b[0m\u001b[0mself\u001b[0m\u001b[0;34m,\u001b[0m \u001b[0mplan\u001b[0m\u001b[0;34m:\u001b[0m \u001b[0mCareplan\u001b[0m\u001b[0;34m=\u001b[0m\u001b[0;32mNone\u001b[0m\u001b[0;34m)\u001b[0m\u001b[0;34m:\u001b[0m\u001b[0;34m\u001b[0m\u001b[0;34m\u001b[0m\u001b[0m\n\u001b[0m\u001b[1;32m     33\u001b[0m         \u001b[0;32mif\u001b[0m \u001b[0mself\u001b[0m\u001b[0;34m.\u001b[0m\u001b[0mckd_stage\u001b[0m \u001b[0;34m<=\u001b[0m \u001b[0;36m3\u001b[0m\u001b[0;34m:\u001b[0m\u001b[0;34m\u001b[0m\u001b[0;34m\u001b[0m\u001b[0m\n\u001b[1;32m     34\u001b[0m             \u001b[0mself\u001b[0m\u001b[0;34m.\u001b[0m\u001b[0mcareplan\u001b[0m \u001b[0;34m=\u001b[0m \u001b[0mDelayPlan\u001b[0m\u001b[0;34m(\u001b[0m\u001b[0;34m)\u001b[0m\u001b[0;34m\u001b[0m\u001b[0;34m\u001b[0m\u001b[0m\n",
      "\u001b[0;31mNameError\u001b[0m: name 'Careplan' is not defined"
     ]
    }
   ],
   "source": []
  },
  {
   "cell_type": "markdown",
   "id": "d80aa839-ec91-46ab-9d4b-5c3b5db9931b",
   "metadata": {},
   "source": [
    "#### Plan Related"
   ]
  },
  {
   "cell_type": "code",
   "execution_count": 18,
   "id": "82266e51-0406-44e2-802d-59edcebefc8c",
   "metadata": {},
   "outputs": [],
   "source": [
    "#### CAREPLANS ####\n",
    "class Careplan(object):\n",
    "    def __init__(self,\n",
    "                 components: list=None,\n",
    "                 patient=None):\n",
    "        \n",
    "        self.components = components\n",
    "        self.savings = 1\n",
    "        self.patient = patient\n",
    "        \n",
    "    def get_components(self):\n",
    "        return [comp for comp in self.components]\n",
    "        \n",
    "    def get_savings(self):\n",
    "        for comp in self.components:\n",
    "            self.savings *= comp.est_savings\n",
    "        return self.savings\n",
    "    \n",
    "            \n",
    "\n",
    "class DelayPlan(Careplan):\n",
    "    def __init__(self):\n",
    "        super().__init__()\n",
    "        self.components = [InterventionA(),\n",
    "                           InterventionB()]\n",
    "        \n",
    "        self.name = 'Delay'\n",
    "        \n",
    "class PrepTransitionPlan(Careplan):\n",
    "    def __init__(self):\n",
    "        super().__init__()\n",
    "        self.components = [InterventionC()]\n",
    "        \n",
    "        self.name = 'PrepTransition'\n",
    "        \n",
    "class ESRDPlan(Careplan):\n",
    "    def __init__(self):\n",
    "        super().__init__()\n",
    "        self.components = [PalliativeAction1()]\n",
    "        self.name = 'EndOfLife'\n",
    "\n",
    "\n",
    "#### PLAN COMPONENTS ####\n",
    "class Intervention(object):\n",
    "    def __init__(self,\n",
    "                 est_savings: float=1,\n",
    "                 freq='weekly'):\n",
    "        self.est_savings = est_savings\n",
    "        self.freq = freq\n",
    "\n",
    "\n",
    "class DepressionTreatment(Intervention):\n",
    "    def __init__(self,\n",
    "                 est_savings: float=.5,\n",
    "                 freq='daily'):\n",
    "        super().__init__(est_savings,\n",
    "                         freq)\n",
    "        self.desc = 'Depression Treatment'\n",
    "\n",
    "\n",
    "class Dialysis(Intervention):\n",
    "    def __init__(self,\n",
    "                 est_savings: float=.3):\n",
    "        super().__init__(est_savings)\n",
    "        self.desc = 'Dialysis'\n",
    "        \n",
    "class DietaryProgram(Intervention):\n",
    "    def __init__(self,\n",
    "                 est_savings: float=.7):\n",
    "        super().__init__(est_savings)\n",
    "        self.desc = 'Dietary Program'\n",
    "        \n",
    "\n",
    "class EducationEngagement(Intervention):\n",
    "    def __init__(self,\n",
    "                 est_savings: float=1):\n",
    "        super().__init__(est_savings)\n",
    "        self.desc = 'Education and Engagement'\n",
    "        \n",
    "class WrapAround(Intervention):\n",
    "    def __init__(self,\n",
    "                 est_savings: float=1):\n",
    "        super().__init__(est_savings)\n",
    "        self.desc = 'High Acuity Wrap-Around Services'\n",
    "        \n",
    "class MTM(Intervention):\n",
    "    def __init__(self,\n",
    "                 est_savings: float=1):\n",
    "        super().__init__(est_savings)\n",
    "        self.desc = 'MTM'\n",
    "        \n",
    "class VascularAccess(Intervention):\n",
    "    def __init__(self,\n",
    "                 est_savings: float=1):\n",
    "        super().__init__(est_savings)\n",
    "        self.desc = 'Vascular Access'"
   ]
  },
  {
   "cell_type": "markdown",
   "id": "19657e17-0f9c-4ef7-b2a4-99cbe444b1e0",
   "metadata": {},
   "source": [
    "### CKD Stages"
   ]
  },
  {
   "cell_type": "code",
   "execution_count": null,
   "id": "5189fb89-d4fd-4a3d-b405-99bcdddefdc8",
   "metadata": {},
   "outputs": [],
   "source": [
    "class CKDStage(object):\n",
    "    def __init__(self):\n",
    "        pass\n",
    "    \n",
    "class Stage1(CKDStage):\n",
    "    def __init__(self):\n",
    "        pass\n",
    "    \n",
    "class Stage2(CKDStage):\n",
    "    def __init__(self):\n",
    "        pass\n",
    "    \n",
    "class Stage3A(CKDStage):\n",
    "    def __init__(self):\n",
    "        pass\n",
    "    \n",
    "class Stage3B(CKDStage):\n",
    "    def __init__(self):\n",
    "        pass\n",
    "    \n",
    "class Stage4(CKDStage):\n",
    "    def __init__(self):\n",
    "        passs\n",
    "    \n",
    "class Stage5(CKDStage):\n",
    "    def __init__(self):\n",
    "        pass\n",
    "    "
   ]
  },
  {
   "cell_type": "code",
   "execution_count": null,
   "id": "66f4ab5d-95d0-4bd0-8f60-ac85712052d6",
   "metadata": {},
   "outputs": [],
   "source": []
  },
  {
   "cell_type": "code",
   "execution_count": 15,
   "id": "a476acc6-e0e5-41af-a319-248f73ebc2b2",
   "metadata": {},
   "outputs": [],
   "source": [
    "class Patient(object):\n",
    "    def __init__(self,\n",
    "                 patient_id: str,\n",
    "                 eGFR: float,\n",
    "                 dob: str=None,\n",
    "                 dod: str=None,\n",
    "                 ethnicity: str=None,\n",
    "                 race: str=None,\n",
    "                 gender: str=None,\n",
    "                 zipcode: str=None):\n",
    "        \n",
    "        self.patient_id = patient_id\n",
    "        \n",
    "        self.eGFR = eGFR\n",
    "        self.assign_stage()\n",
    "        \n",
    "        self.careplan = None\n",
    "        self.low_SES = False\n",
    "\n",
    "    def assign_stage(self):\n",
    "        if self.eGFR < 15:\n",
    "            self.ckd_stage = 5\n",
    "        elif self.eGFR <= 29:\n",
    "            self.ckd_stage = 4\n",
    "        elif self.eGFR <= 44:\n",
    "            self.ckd_stage = 3.5\n",
    "        elif self.eGFR <= 59:\n",
    "            self.ckd_stage = 3\n",
    "        elif self.eGFR <= 89:\n",
    "            self.ckd_stage = 2\n",
    "        \n",
    "    def generate_careplan(self, plan: Careplan=None):\n",
    "        if self.ckd_stage <= 3:\n",
    "            self.careplan = DelayPlan()\n",
    "        elif self.ckd_stage <= 4:\n",
    "            self.careplan = PrepTransitionPlan()\n",
    "        elif self.ckd_stage <= 5:\n",
    "            self.careplan = ESRDPlan()\n",
    "            \n",
    "            \n",
    "        \n",
    "    def describe_plan_components(self):\n",
    "        return [comp.desc for comp in self.careplan.components]   \n"
   ]
  },
  {
   "cell_type": "markdown",
   "id": "66ca034d-0b98-4f75-af7c-4172bab5b5f6",
   "metadata": {},
   "source": [
    "### Risk Factors"
   ]
  },
  {
   "cell_type": "code",
   "execution_count": 23,
   "id": "55e8f032-1d4a-428b-be97-5df89ee2caf3",
   "metadata": {},
   "outputs": [],
   "source": [
    "class RiskFactor(object):\n",
    "    def __init__(self, name):\n",
    "        self.name = name\n",
    "    \n",
    "    \n",
    "#### BEHAVIORAL RISK FACTORS ######    \n",
    "class BehavioralRiskFactor(RiskFactor):\n",
    "    def __init__(self, name):\n",
    "        super().__init__(name)\n",
    "        \n",
    "class Depression(BehavioralRiskFactor):\n",
    "    def __init__(self, name):\n",
    "        super().__init__(name)\n",
    "        \n",
    "class EngagedWithNephro(BehavioralRiskFactor):\n",
    "    def __init__(self, name):\n",
    "        super().__init__(name)\n",
    "        \n",
    "class PoorDiet(BehavioralRiskFactor):\n",
    "    def __init__(self, name):\n",
    "        super().__init__(name)\n",
    "        \n",
    "        \n",
    "#### DEMOGRAPHIC RISK FACTORS ######    \n",
    "class DemographicRiskFactor(RiskFactor):\n",
    "    def __init__(self, name):\n",
    "        super().__init__(name)\n",
    "        \n",
    "class CKDLiterate(DemographicRiskFactor):\n",
    "    def __init__(self, name):\n",
    "        super().__init__(name)\n",
    "        \n",
    "class Race(DemographicRiskFactor):\n",
    "    def __init__(self, name):\n",
    "        super().__init__(name)\n",
    "        \n",
    "        \n",
    "#### PHYSIO RISK FACTORS ######\n",
    "class PhysioRiskFactor(RiskFactor):\n",
    "    def __init__(self, name):\n",
    "        super().__init__(name)\n",
    "        \n",
    "class Diabetes(PhysioRiskFactor):\n",
    "    def __init__(self, name):\n",
    "        super().__init__(name)\n",
    "\n",
    "class eGFR(PhysioRiskFactor):\n",
    "    def __init__(self, name):\n",
    "        super().__init__(name)\n",
    "\n",
    "class Hypertension(PhysioRiskFactor):\n",
    "    def __init__(self, name):\n",
    "        super().__init__(name)\n",
    "        \n",
    "class Malnourished(PhysioRiskFactor):\n",
    "    def __init__(self, name):\n",
    "        super().__init__(name)\n",
    "        \n",
    "class Obesity(PhysioRiskFactor):\n",
    "    def __init__(self, name):\n",
    "        super().__init__(name)\n",
    "        \n",
    "class Smoking(PhysioRiskFactor):\n",
    "    def __init__(self, name):\n",
    "        super().__init__(name)"
   ]
  },
  {
   "cell_type": "markdown",
   "id": "b61a3eea-5782-4fd3-868d-0cd6258525a9",
   "metadata": {},
   "source": [
    "#### Testing"
   ]
  },
  {
   "cell_type": "code",
   "execution_count": 386,
   "id": "e4d445b8-10ee-4386-b6f4-362e673387ea",
   "metadata": {},
   "outputs": [],
   "source": [
    "stage_2_patient = Patient(patient_id='kdjsn',\n",
    "             eGFR=70)\n",
    "\n",
    "stage_5_patient = Patient(patient_id='kdjsn',\n",
    "             eGFR=13)\n",
    "iv1 = InterventionA(est_savings=.9)\n",
    "iv2 = InterventionA(est_savings=.5)\n",
    "plan1 = Careplan(components=[iv1, iv2])"
   ]
  },
  {
   "cell_type": "code",
   "execution_count": 387,
   "id": "4e67e707-7f9d-4f50-87e0-bcfb667408ba",
   "metadata": {},
   "outputs": [],
   "source": [
    "stage_2_patient.generate_careplan()"
   ]
  },
  {
   "cell_type": "code",
   "execution_count": 388,
   "id": "2b16c6ec-b67b-453f-a322-0783b8b1d620",
   "metadata": {},
   "outputs": [
    {
     "data": {
      "text/plain": [
       "[<__main__.InterventionA at 0x7f94208d3390>,\n",
       " <__main__.InterventionB at 0x7f94208d34e0>]"
      ]
     },
     "execution_count": 388,
     "metadata": {},
     "output_type": "execute_result"
    }
   ],
   "source": [
    "stage_2_patient.careplan.get_components()"
   ]
  },
  {
   "cell_type": "code",
   "execution_count": 389,
   "id": "39ddcdc1-404d-4da3-b032-cbe9a9df137a",
   "metadata": {},
   "outputs": [
    {
     "data": {
      "text/plain": [
       "5"
      ]
     },
     "execution_count": 389,
     "metadata": {},
     "output_type": "execute_result"
    }
   ],
   "source": [
    "stage_5_patient.ckd_stage"
   ]
  },
  {
   "cell_type": "code",
   "execution_count": 390,
   "id": "97220229-fd46-45f8-b9c7-58d45a11baee",
   "metadata": {},
   "outputs": [],
   "source": [
    "stage_5_patient.generate_careplan()"
   ]
  },
  {
   "cell_type": "code",
   "execution_count": 391,
   "id": "e644d255-9f91-4453-97a1-4d9b8d2fcb3d",
   "metadata": {},
   "outputs": [
    {
     "data": {
      "text/plain": [
       "[<__main__.PalliativeAction1 at 0x7f94208d3710>]"
      ]
     },
     "execution_count": 391,
     "metadata": {},
     "output_type": "execute_result"
    }
   ],
   "source": [
    "stage_5_patient.careplan.get_components()"
   ]
  },
  {
   "cell_type": "code",
   "execution_count": 392,
   "id": "4ae0f2de-7b8c-4373-a809-51d62ce181dd",
   "metadata": {},
   "outputs": [
    {
     "name": "stdout",
     "output_type": "stream",
     "text": [
      "2\n"
     ]
    }
   ],
   "source": [
    "IDX = 10\n",
    "tmp_patient = Patient(patient_id=px_df.iloc[IDX]['Id'],\n",
    "                      eGFR=px_df.iloc[IDX]['eGFR'])\n",
    "print(tmp_patient.ckd_stage)"
   ]
  },
  {
   "cell_type": "code",
   "execution_count": 393,
   "id": "25c415c8-75c5-4724-aa87-026267ef1f0b",
   "metadata": {},
   "outputs": [],
   "source": [
    "tmp_patient.generate_careplan()"
   ]
  },
  {
   "cell_type": "code",
   "execution_count": 394,
   "id": "cdb26ef1-4499-46ec-a3a2-eed9304d6ce7",
   "metadata": {},
   "outputs": [
    {
     "name": "stdout",
     "output_type": "stream",
     "text": [
      "Delay\n",
      "Intervention A\n",
      "Intervention B\n"
     ]
    }
   ],
   "source": [
    "tmp_patient_plan_components = tmp_patient.careplan.get_components()\n",
    "print(tmp_patient.careplan.name)\n",
    "for comp in tmp_patient_plan_components:\n",
    "    print(comp.desc)"
   ]
  },
  {
   "cell_type": "code",
   "execution_count": null,
   "id": "6d5f451d-bda6-4aca-8499-950f852d3bb6",
   "metadata": {},
   "outputs": [],
   "source": []
  },
  {
   "cell_type": "code",
   "execution_count": null,
   "id": "33f8fec9-362c-430d-a8d0-ac56b835edd7",
   "metadata": {},
   "outputs": [],
   "source": []
  },
  {
   "cell_type": "code",
   "execution_count": null,
   "id": "4c5ed465-4a2b-4ded-8b5a-c9245b42d7eb",
   "metadata": {},
   "outputs": [],
   "source": []
  }
 ],
 "metadata": {
  "kernelspec": {
   "display_name": "nick",
   "language": "python",
   "name": "nick"
  },
  "language_info": {
   "codemirror_mode": {
    "name": "ipython",
    "version": 3
   },
   "file_extension": ".py",
   "mimetype": "text/x-python",
   "name": "python",
   "nbconvert_exporter": "python",
   "pygments_lexer": "ipython3",
   "version": "3.6.13"
  }
 },
 "nbformat": 4,
 "nbformat_minor": 5
}
