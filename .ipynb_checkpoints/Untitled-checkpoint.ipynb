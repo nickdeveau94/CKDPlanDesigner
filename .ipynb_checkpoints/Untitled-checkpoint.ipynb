{
 "cells": [
  {
   "cell_type": "code",
   "execution_count": 14,
   "id": "12c5fa76-edf7-4a25-86e0-87db443d1eba",
   "metadata": {},
   "outputs": [
    {
     "name": "stdout",
     "output_type": "stream",
     "text": [
      "The autoreload extension is already loaded. To reload it, use:\n",
      "  %reload_ext autoreload\n"
     ]
    }
   ],
   "source": [
    "from CKDPlanDesigner import plans, patients\n",
    "\n",
    "\n",
    "%load_ext autoreload\n",
    "%autoreload"
   ]
  },
  {
   "cell_type": "code",
   "execution_count": 29,
   "id": "dbf0834d-6931-4186-849d-66522bd8b8ff",
   "metadata": {},
   "outputs": [],
   "source": [
    "from importlib import reload  \n",
    "reload(patients)\n",
    "\n",
    "patient_config = {'patient_id': 123,\n",
    "                  'eGFR': 70,\n",
    "                  'depression': True\n",
    "                 }\n",
    "\n",
    "p1 = patients.Patient(**patient_config)"
   ]
  },
  {
   "cell_type": "code",
   "execution_count": 30,
   "id": "af2c8ac0-e874-495a-b2d2-c55658c37eb5",
   "metadata": {},
   "outputs": [
    {
     "data": {
      "text/plain": [
       "{'patient_id': 123, 'eGFR': 70, 'depression': True}"
      ]
     },
     "execution_count": 30,
     "metadata": {},
     "output_type": "execute_result"
    }
   ],
   "source": [
    "p1.patient_config"
   ]
  },
  {
   "cell_type": "code",
   "execution_count": 31,
   "id": "511d914a-95f4-48b8-8dd9-93b52e86ec42",
   "metadata": {},
   "outputs": [
    {
     "data": {
      "text/plain": [
       "{'patient_id': 123, 'eGFR': 70, 'depression': True}"
      ]
     },
     "execution_count": 31,
     "metadata": {},
     "output_type": "execute_result"
    }
   ],
   "source": [
    "p1.stage.patient_config"
   ]
  },
  {
   "cell_type": "code",
   "execution_count": 32,
   "id": "4ae52e7d-ee7f-4568-b7fa-b2f5d86188d1",
   "metadata": {},
   "outputs": [],
   "source": [
    "p1.generate_careplan()"
   ]
  },
  {
   "cell_type": "code",
   "execution_count": 33,
   "id": "a88aa483-d49e-46cf-982e-8a0410cf2f91",
   "metadata": {},
   "outputs": [
    {
     "data": {
      "text/plain": [
       "{'patient_id': 123, 'eGFR': 70, 'depression': True}"
      ]
     },
     "execution_count": 33,
     "metadata": {},
     "output_type": "execute_result"
    }
   ],
   "source": [
    "p1.careplan.patient_config"
   ]
  },
  {
   "cell_type": "code",
   "execution_count": 34,
   "id": "25c135b6-c742-4e33-b526-026c38346a7c",
   "metadata": {},
   "outputs": [
    {
     "ename": "AttributeError",
     "evalue": "'DelayPlan' object has no attribute 'components'",
     "output_type": "error",
     "traceback": [
      "\u001b[0;31m---------------------------------------------------------------------------\u001b[0m",
      "\u001b[0;31mAttributeError\u001b[0m                            Traceback (most recent call last)",
      "\u001b[0;32m<ipython-input-34-6063363387d4>\u001b[0m in \u001b[0;36m<module>\u001b[0;34m\u001b[0m\n\u001b[0;32m----> 1\u001b[0;31m \u001b[0mp1\u001b[0m\u001b[0;34m.\u001b[0m\u001b[0mcareplan\u001b[0m\u001b[0;34m.\u001b[0m\u001b[0mlist_components\u001b[0m\u001b[0;34m(\u001b[0m\u001b[0;34m)\u001b[0m\u001b[0;34m\u001b[0m\u001b[0;34m\u001b[0m\u001b[0m\n\u001b[0m",
      "\u001b[0;32m~/projects/bmi210/bmi210Project/project_code/src/CKDPlanDesigner/plans.py\u001b[0m in \u001b[0;36mlist_components\u001b[0;34m(self)\u001b[0m\n\u001b[1;32m     21\u001b[0m     \u001b[0;32mdef\u001b[0m \u001b[0mconsolidate_components\u001b[0m\u001b[0;34m(\u001b[0m\u001b[0mself\u001b[0m\u001b[0;34m)\u001b[0m\u001b[0;34m:\u001b[0m\u001b[0;34m\u001b[0m\u001b[0;34m\u001b[0m\u001b[0m\n\u001b[1;32m     22\u001b[0m         \u001b[0mself\u001b[0m\u001b[0;34m.\u001b[0m\u001b[0mall_components\u001b[0m \u001b[0;34m=\u001b[0m \u001b[0mself\u001b[0m\u001b[0;34m.\u001b[0m\u001b[0mphysio_components\u001b[0m \u001b[0;34m+\u001b[0m\u001b[0;31m \u001b[0m\u001b[0;31m\\\u001b[0m\u001b[0;34m\u001b[0m\u001b[0;34m\u001b[0m\u001b[0m\n\u001b[0;32m---> 23\u001b[0;31m                               \u001b[0mself\u001b[0m\u001b[0;34m.\u001b[0m\u001b[0mdemo_components\u001b[0m \u001b[0;34m+\u001b[0m\u001b[0;31m \u001b[0m\u001b[0;31m \u001b[0m\u001b[0;31m\\\u001b[0m\u001b[0;34m\u001b[0m\u001b[0;34m\u001b[0m\u001b[0m\n\u001b[0m\u001b[1;32m     24\u001b[0m                               \u001b[0mself\u001b[0m\u001b[0;34m.\u001b[0m\u001b[0mbehavior_components\u001b[0m\u001b[0;34m\u001b[0m\u001b[0;34m\u001b[0m\u001b[0m\n\u001b[1;32m     25\u001b[0m \u001b[0;34m\u001b[0m\u001b[0m\n",
      "\u001b[0;31mAttributeError\u001b[0m: 'DelayPlan' object has no attribute 'components'"
     ]
    }
   ],
   "source": [
    "p1.careplan.con"
   ]
  },
  {
   "cell_type": "code",
   "execution_count": null,
   "id": "f561dad6-66bd-4ce4-bc59-3887a0b04784",
   "metadata": {},
   "outputs": [],
   "source": []
  }
 ],
 "metadata": {
  "kernelspec": {
   "display_name": "nick",
   "language": "python",
   "name": "nick"
  },
  "language_info": {
   "codemirror_mode": {
    "name": "ipython",
    "version": 3
   },
   "file_extension": ".py",
   "mimetype": "text/x-python",
   "name": "python",
   "nbconvert_exporter": "python",
   "pygments_lexer": "ipython3",
   "version": "3.6.13"
  }
 },
 "nbformat": 4,
 "nbformat_minor": 5
}
