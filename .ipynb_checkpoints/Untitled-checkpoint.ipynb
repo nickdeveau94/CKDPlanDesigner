{
 "cells": [
  {
   "cell_type": "code",
   "execution_count": 58,
   "id": "12c5fa76-edf7-4a25-86e0-87db443d1eba",
   "metadata": {},
   "outputs": [
    {
     "name": "stdout",
     "output_type": "stream",
     "text": [
      "The autoreload extension is already loaded. To reload it, use:\n",
      "  %reload_ext autoreload\n"
     ]
    }
   ],
   "source": [
    "from CKDPlanDesigner import plans, patients\n",
    "import pandas as pd\n",
    "\n",
    "\n",
    "%load_ext autoreload\n",
    "%autoreload"
   ]
  },
  {
   "cell_type": "markdown",
   "id": "4ded9ceb-2e7d-4de3-be22-efaddf10d3bb",
   "metadata": {},
   "source": [
    "### Load Data"
   ]
  },
  {
   "cell_type": "code",
   "execution_count": 103,
   "id": "a3404b3d-7da5-474c-aa6e-1f5bf0ac3abd",
   "metadata": {},
   "outputs": [
    {
     "data": {
      "text/html": [
       "<div>\n",
       "<style scoped>\n",
       "    .dataframe tbody tr th:only-of-type {\n",
       "        vertical-align: middle;\n",
       "    }\n",
       "\n",
       "    .dataframe tbody tr th {\n",
       "        vertical-align: top;\n",
       "    }\n",
       "\n",
       "    .dataframe thead th {\n",
       "        text-align: right;\n",
       "    }\n",
       "</style>\n",
       "<table border=\"1\" class=\"dataframe\">\n",
       "  <thead>\n",
       "    <tr style=\"text-align: right;\">\n",
       "      <th></th>\n",
       "      <th>START</th>\n",
       "      <th>STOP</th>\n",
       "      <th>PATIENT</th>\n",
       "      <th>ENCOUNTER</th>\n",
       "      <th>CODE</th>\n",
       "      <th>DESCRIPTION</th>\n",
       "    </tr>\n",
       "  </thead>\n",
       "  <tbody>\n",
       "    <tr>\n",
       "      <th>0</th>\n",
       "      <td>2001-05-01</td>\n",
       "      <td>NaN</td>\n",
       "      <td>1d604da9-9a81-4ba9-80c2-de3375d59b40</td>\n",
       "      <td>8f104aa7-4ca9-4473-885a-bba2437df588</td>\n",
       "      <td>40055000</td>\n",
       "      <td>Chronic sinusitis (disorder)</td>\n",
       "    </tr>\n",
       "    <tr>\n",
       "      <th>1</th>\n",
       "      <td>2011-08-09</td>\n",
       "      <td>2011-08-16</td>\n",
       "      <td>8d4c4326-e9de-4f45-9a4c-f8c36bff89ae</td>\n",
       "      <td>9d35ec9f-352a-4629-92ef-38eae38437e7</td>\n",
       "      <td>444814009</td>\n",
       "      <td>Viral sinusitis (disorder)</td>\n",
       "    </tr>\n",
       "    <tr>\n",
       "      <th>2</th>\n",
       "      <td>2011-11-16</td>\n",
       "      <td>2011-11-26</td>\n",
       "      <td>8d4c4326-e9de-4f45-9a4c-f8c36bff89ae</td>\n",
       "      <td>ae7555a9-eaff-4c09-98a7-21bc6ed1b1fd</td>\n",
       "      <td>195662009</td>\n",
       "      <td>Acute viral pharyngitis (disorder)</td>\n",
       "    </tr>\n",
       "    <tr>\n",
       "      <th>3</th>\n",
       "      <td>2011-05-13</td>\n",
       "      <td>2011-05-27</td>\n",
       "      <td>10339b10-3cd1-4ac3-ac13-ec26728cb592</td>\n",
       "      <td>e1ab4933-07a1-49f0-b4bd-05500919061d</td>\n",
       "      <td>10509002</td>\n",
       "      <td>Acute bronchitis (disorder)</td>\n",
       "    </tr>\n",
       "    <tr>\n",
       "      <th>4</th>\n",
       "      <td>2011-02-06</td>\n",
       "      <td>2011-02-14</td>\n",
       "      <td>f5dcd418-09fe-4a2f-baa0-3da800bd8c3a</td>\n",
       "      <td>b8f76eba-7795-4dcd-a544-f27ac2ef3d46</td>\n",
       "      <td>195662009</td>\n",
       "      <td>Acute viral pharyngitis (disorder)</td>\n",
       "    </tr>\n",
       "    <tr>\n",
       "      <th>...</th>\n",
       "      <td>...</td>\n",
       "      <td>...</td>\n",
       "      <td>...</td>\n",
       "      <td>...</td>\n",
       "      <td>...</td>\n",
       "      <td>...</td>\n",
       "    </tr>\n",
       "    <tr>\n",
       "      <th>8371</th>\n",
       "      <td>1984-12-29</td>\n",
       "      <td>NaN</td>\n",
       "      <td>fc817953-cc8b-45db-9c85-7c0ced8fa90d</td>\n",
       "      <td>87cfa8a4-126e-4c58-a839-e8b725828d0f</td>\n",
       "      <td>64859006</td>\n",
       "      <td>Osteoporosis (disorder)</td>\n",
       "    </tr>\n",
       "    <tr>\n",
       "      <th>8372</th>\n",
       "      <td>1988-08-24</td>\n",
       "      <td>NaN</td>\n",
       "      <td>fc817953-cc8b-45db-9c85-7c0ced8fa90d</td>\n",
       "      <td>97c0226c-92b4-4e78-b81f-4225d8473ba3</td>\n",
       "      <td>40055000</td>\n",
       "      <td>Chronic sinusitis (disorder)</td>\n",
       "    </tr>\n",
       "    <tr>\n",
       "      <th>8373</th>\n",
       "      <td>2009-08-08</td>\n",
       "      <td>NaN</td>\n",
       "      <td>fc817953-cc8b-45db-9c85-7c0ced8fa90d</td>\n",
       "      <td>1c91f459-adf0-4fe6-abdb-d248a91b9d85</td>\n",
       "      <td>230690007</td>\n",
       "      <td>Stroke</td>\n",
       "    </tr>\n",
       "    <tr>\n",
       "      <th>8374</th>\n",
       "      <td>2010-11-18</td>\n",
       "      <td>2010-11-25</td>\n",
       "      <td>fc817953-cc8b-45db-9c85-7c0ced8fa90d</td>\n",
       "      <td>8aabb13d-f4ac-4037-95ab-00e0e48a1b34</td>\n",
       "      <td>444814009</td>\n",
       "      <td>Viral sinusitis (disorder)</td>\n",
       "    </tr>\n",
       "    <tr>\n",
       "      <th>8375</th>\n",
       "      <td>2012-04-23</td>\n",
       "      <td>2012-05-14</td>\n",
       "      <td>fc817953-cc8b-45db-9c85-7c0ced8fa90d</td>\n",
       "      <td>eab80b1b-de1d-4281-9dae-e8a7036a815f</td>\n",
       "      <td>444814009</td>\n",
       "      <td>Viral sinusitis (disorder)</td>\n",
       "    </tr>\n",
       "  </tbody>\n",
       "</table>\n",
       "<p>8376 rows × 6 columns</p>\n",
       "</div>"
      ],
      "text/plain": [
       "           START        STOP                               PATIENT  \\\n",
       "0     2001-05-01         NaN  1d604da9-9a81-4ba9-80c2-de3375d59b40   \n",
       "1     2011-08-09  2011-08-16  8d4c4326-e9de-4f45-9a4c-f8c36bff89ae   \n",
       "2     2011-11-16  2011-11-26  8d4c4326-e9de-4f45-9a4c-f8c36bff89ae   \n",
       "3     2011-05-13  2011-05-27  10339b10-3cd1-4ac3-ac13-ec26728cb592   \n",
       "4     2011-02-06  2011-02-14  f5dcd418-09fe-4a2f-baa0-3da800bd8c3a   \n",
       "...          ...         ...                                   ...   \n",
       "8371  1984-12-29         NaN  fc817953-cc8b-45db-9c85-7c0ced8fa90d   \n",
       "8372  1988-08-24         NaN  fc817953-cc8b-45db-9c85-7c0ced8fa90d   \n",
       "8373  2009-08-08         NaN  fc817953-cc8b-45db-9c85-7c0ced8fa90d   \n",
       "8374  2010-11-18  2010-11-25  fc817953-cc8b-45db-9c85-7c0ced8fa90d   \n",
       "8375  2012-04-23  2012-05-14  fc817953-cc8b-45db-9c85-7c0ced8fa90d   \n",
       "\n",
       "                                 ENCOUNTER       CODE  \\\n",
       "0     8f104aa7-4ca9-4473-885a-bba2437df588   40055000   \n",
       "1     9d35ec9f-352a-4629-92ef-38eae38437e7  444814009   \n",
       "2     ae7555a9-eaff-4c09-98a7-21bc6ed1b1fd  195662009   \n",
       "3     e1ab4933-07a1-49f0-b4bd-05500919061d   10509002   \n",
       "4     b8f76eba-7795-4dcd-a544-f27ac2ef3d46  195662009   \n",
       "...                                    ...        ...   \n",
       "8371  87cfa8a4-126e-4c58-a839-e8b725828d0f   64859006   \n",
       "8372  97c0226c-92b4-4e78-b81f-4225d8473ba3   40055000   \n",
       "8373  1c91f459-adf0-4fe6-abdb-d248a91b9d85  230690007   \n",
       "8374  8aabb13d-f4ac-4037-95ab-00e0e48a1b34  444814009   \n",
       "8375  eab80b1b-de1d-4281-9dae-e8a7036a815f  444814009   \n",
       "\n",
       "                             DESCRIPTION  \n",
       "0           Chronic sinusitis (disorder)  \n",
       "1             Viral sinusitis (disorder)  \n",
       "2     Acute viral pharyngitis (disorder)  \n",
       "3            Acute bronchitis (disorder)  \n",
       "4     Acute viral pharyngitis (disorder)  \n",
       "...                                  ...  \n",
       "8371             Osteoporosis (disorder)  \n",
       "8372        Chronic sinusitis (disorder)  \n",
       "8373                              Stroke  \n",
       "8374          Viral sinusitis (disorder)  \n",
       "8375          Viral sinusitis (disorder)  \n",
       "\n",
       "[8376 rows x 6 columns]"
      ]
     },
     "execution_count": 103,
     "metadata": {},
     "output_type": "execute_result"
    }
   ],
   "source": [
    "sel_cond_df"
   ]
  },
  {
   "cell_type": "code",
   "execution_count": 143,
   "id": "626f5316-d2cb-40e2-aed6-3d9eed612f01",
   "metadata": {},
   "outputs": [
    {
     "name": "stderr",
     "output_type": "stream",
     "text": [
      "/Users/nicholasdeveau/opt/anaconda3/envs/nick/lib/python3.6/site-packages/ipykernel_launcher.py:13: SettingWithCopyWarning: \n",
      "A value is trying to be set on a copy of a slice from a DataFrame.\n",
      "Try using .loc[row_indexer,col_indexer] = value instead\n",
      "\n",
      "See the caveats in the documentation: https://pandas.pydata.org/pandas-docs/stable/user_guide/indexing.html#returning-a-view-versus-a-copy\n",
      "  del sys.path[0]\n"
     ]
    }
   ],
   "source": [
    "cond_df = pd.read_csv('../bmi210Project_data/synthea_data/conditions.csv')\n",
    "depressions_desc = [val for val in set(cond_df.DESCRIPTION) if 'depr' in val]\n",
    "ht_desc = [val for val in set(cond_df.DESCRIPTION) if 'Hypertension' in val]\n",
    "bmi_desc = [val for val in set(cond_df.DESCRIPTION) if 'Body mass index' in val]\n",
    "diabet_desc = [val for val in set(cond_df.DESCRIPTION) if 'diabet' in val]\n",
    "\n",
    "cond_sel_vals = depressions_desc + \\\n",
    "                ht_desc + \\\n",
    "                bmi_desc + \\\n",
    "                diabet_desc\n",
    "\n",
    "sel_cond_df = cond_df[cond_df.DESCRIPTION.isin(cond_sel_vals)]\n",
    "sel_cond_df['VALUE'] = 1\n",
    "sel_cond_df = sel_cond_df[['PATIENT', 'DESCRIPTION', 'VALUE']]\n",
    "cond_df_wide = pd.pivot(sel_cond_df, index='PATIENT', columns='DESCRIPTION', values='VALUE').fillna(0).reset_index()\n",
    "# pd.pivot(sel_cond_df, index='PATIENT', columns='DESCRIPTION').reset_index()"
   ]
  },
  {
   "cell_type": "code",
   "execution_count": 93,
   "id": "43b08df4-3636-4544-8747-5f489f5c886c",
   "metadata": {},
   "outputs": [],
   "source": [
    "obs_df = pd.read_csv('../bmi210Project_data/synthea_data/observations.csv')\n",
    "smoking_desc  = [val for val in set(obs_df['DESCRIPTION']) if 'smok' in val]"
   ]
  },
  {
   "cell_type": "code",
   "execution_count": null,
   "id": "d5297fa2-62f5-481e-80e3-41eb96a2cc61",
   "metadata": {},
   "outputs": [],
   "source": []
  },
  {
   "cell_type": "code",
   "execution_count": 186,
   "id": "e5f9c1dd-5aff-4009-a25b-d3422aa5427a",
   "metadata": {},
   "outputs": [],
   "source": [
    "sel_obs_df = obs_df[obs_df.DESCRIPTION.isin(smoking_desc)].sort_values('DATE').drop_duplicates('PATIENT', keep='last')\n",
    "smoking_df = sel_obs_df[['PATIENT', 'DESCRIPTION', 'VALUE']]\n",
    "smoking_df_wide = pd.pivot(smoking_df, index='PATIENT', columns='DESCRIPTION', values='VALUE').fillna(0).reset_index()\n",
    "\n",
    "smoking_mapping = {'Never smoker': 0,\n",
    "                   'Former smoker': 1,\n",
    "                   'Current every day smoker': 1}\n",
    "\n",
    "smoking_df_wide['Tobacco smoking status NHIS'] = smoking_df_wide['Tobacco smoking status NHIS'].map(smoking_mapping)"
   ]
  },
  {
   "cell_type": "code",
   "execution_count": 140,
   "id": "a83dc498-e72b-4e1e-9f09-957b0f75174d",
   "metadata": {},
   "outputs": [],
   "source": [
    "patients_df = pd.read_csv('../bmi210Project_data/synthea_data/patients.csv')\n",
    "obs_df = pd.read_csv('../bmi210Project_data/synthea_data/observations.csv')\n",
    "\n",
    "# uncomment for all observation types\n",
    "# set(pd.read_csv('synthea_data/observations.csv').DESCRIPTION.values)\n",
    "\n",
    "kidney_obs = obs_df[obs_df['DESCRIPTION'] == 'Glomerular filtration rate/1.73 sq M.predicted']\n",
    "kidney_obs = kidney_obs[['DATE', 'PATIENT', 'DESCRIPTION', 'VALUE', 'UNITS']].sort_values('DATE').drop_duplicates('PATIENT', keep='last')\n",
    "gfr_df = pd.pivot(kidney_obs, index='PATIENT', columns='DESCRIPTION', values='VALUE').reset_index()\n",
    "px_df = patients_df.merge(gfr_df, left_on='Id', right_on='PATIENT')\n",
    "\n",
    "sel_cols = ['Id',\n",
    " 'BIRTHDATE',\n",
    " 'RACE',\n",
    " 'ETHNICITY',\n",
    " 'GENDER',\n",
    " 'ZIP',\n",
    " 'Glomerular filtration rate/1.73 sq M.predicted']\n",
    "\n",
    "col_names = ['Id',\n",
    " 'BIRTHDATE',\n",
    " 'RACE',\n",
    " 'ETHNICITY',\n",
    " 'GENDER',\n",
    " 'ZIP',\n",
    " 'eGFR']\n",
    "\n",
    "px_df = px_df[sel_cols]\n",
    "px_df.columns = col_names\n",
    "px_df['eGFR'] = px_df.eGFR.astype(float)"
   ]
  },
  {
   "cell_type": "code",
   "execution_count": 228,
   "id": "53cd7258-aea4-4438-95f9-6b037741c69a",
   "metadata": {},
   "outputs": [],
   "source": [
    "tmp = px_df.merge(cond_df_wide, how='left', left_on='Id', right_on='PATIENT').drop('Id', 1)\n",
    "tmp = tmp.merge(obs_df_wide, how='left', on='PATIENT')\n",
    "# tmp = tmp.merge(smoking_df_wide, how='left', on='PATIENT')\n",
    "\n",
    "diabetes_indicator = tmp[diabet_desc].max(axis=1)\n",
    "depression_indicator = tmp[depressions_desc].max(axis=1)\n",
    "bmi_indicator = tmp[bmi_desc].max(axis=1)\n",
    "ht_indicator = tmp[ht_desc].max(axis=1)\n",
    "smoking_indicator = tmp[smoking_desc].max(axis=1)\n",
    "# smoking_indicator = tmp[smoking_desc].max(axis=1)\n",
    "\n",
    "final_df = pd.concat([tmp.PATIENT,\n",
    "                      diabetes_indicator,\n",
    "                      depression_indicator,\n",
    "                      bmi_indicator,\n",
    "                      ht_indicator,\n",
    "                      smoking_indicator], axis=1)\n",
    "final_df.columns = ['PATIENT',\n",
    "                    'diabetes',\n",
    "                    'depression',\n",
    "                    'bmi',\n",
    "                    'ht',\n",
    "                    'smoking']\n",
    "\n",
    "final_df = final_df.merge(px_df, how='left', left_on='PATIENT', right_on='Id')\n",
    "final_df = final_df[[col for col in final_df.columns if col != 'Id']]\n",
    "final_df.columns = ['patient_id',\n",
    "                    't2d',\n",
    "                    'depression',\n",
    "                    'bmi',\n",
    "                    'hypertension',\n",
    "                    'smoking',\n",
    "                    'dob',\n",
    "                    'race',\n",
    "                    'ethnicity',\n",
    "                    'gender',\n",
    "                    'zip',\n",
    "                    'eGFR']\n",
    "final_df['t2d'] = final_df['t2d'].astype(bool)\n",
    "final_df['depression'] = final_df['depression'].astype(bool)\n",
    "final_df['bmi'] = final_df['bmi'].astype(bool)\n",
    "final_df['hypertension'] = final_df['hypertension'].astype(bool)\n",
    "final_df['smoking'] = final_df['smoking'].astype(bool)"
   ]
  },
  {
   "cell_type": "code",
   "execution_count": 260,
   "id": "dbf0834d-6931-4186-849d-66522bd8b8ff",
   "metadata": {},
   "outputs": [],
   "source": [
    "from importlib import reload  \n",
    "reload(patients)\n",
    "\n",
    "# patient_config = {'patient_id': 123,\n",
    "#                   'eGFR': 70,\n",
    "#                   'depression': True\n",
    "#                  }\n",
    "\n",
    "patient_config = final_df.to_dict(orient='index')[24]\n",
    "p1 = patients.Patient(**patient_config)"
   ]
  },
  {
   "cell_type": "code",
   "execution_count": 265,
   "id": "4ae52e7d-ee7f-4568-b7fa-b2f5d86188d1",
   "metadata": {},
   "outputs": [],
   "source": [
    "p1.generate_careplan()"
   ]
  },
  {
   "cell_type": "code",
   "execution_count": 258,
   "id": "6fdd69c7-4c9c-49d4-abe3-3dc6ba816113",
   "metadata": {},
   "outputs": [
    {
     "data": {
      "text/plain": [
       "{'patient_id': 'baffdce5-d444-4c8c-a815-e7d00a01f7ca',\n",
       " 't2d': False,\n",
       " 'depression': False,\n",
       " 'bmi': True,\n",
       " 'hypertension': True,\n",
       " 'smoking': False,\n",
       " 'dob': '1939-06-22',\n",
       " 'race': 'white',\n",
       " 'ethnicity': 'nonhispanic',\n",
       " 'gender': 'F',\n",
       " 'zip': 2129.0,\n",
       " 'eGFR': 69.0}"
      ]
     },
     "execution_count": 258,
     "metadata": {},
     "output_type": "execute_result"
    }
   ],
   "source": [
    "p1.patient_config"
   ]
  },
  {
   "cell_type": "code",
   "execution_count": 266,
   "id": "a88aa483-d49e-46cf-982e-8a0410cf2f91",
   "metadata": {},
   "outputs": [],
   "source": [
    "cp = p1.careplan"
   ]
  },
  {
   "cell_type": "code",
   "execution_count": 268,
   "id": "68c9d6f3-f87f-4e4b-90df-e297749001d5",
   "metadata": {},
   "outputs": [
    {
     "data": {
      "text/plain": [
       "[<CKDPlanDesigner.interventions.Type2D at 0x7fb795ed1f98>,\n",
       " <CKDPlanDesigner.interventions.Hypertension at 0x7fb795f658d0>,\n",
       " <CKDPlanDesigner.interventions.Hypertension at 0x7fb78201b080>,\n",
       " <CKDPlanDesigner.interventions.Hypertension at 0x7fb7814ae908>,\n",
       " <CKDPlanDesigner.interventions.Hypertension at 0x7fb7710956a0>,\n",
       " <CKDPlanDesigner.interventions.Hypertension at 0x7fb794337eb8>,\n",
       " <CKDPlanDesigner.interventions.DietaryProgram at 0x7fb795f67940>,\n",
       " <CKDPlanDesigner.interventions.DietaryProgram at 0x7fb795f652b0>,\n",
       " <CKDPlanDesigner.interventions.DietaryProgram at 0x7fb78201b978>,\n",
       " <CKDPlanDesigner.interventions.DietaryProgram at 0x7fb7814aef28>,\n",
       " <CKDPlanDesigner.interventions.DietaryProgram at 0x7fb771095a58>,\n",
       " <CKDPlanDesigner.interventions.DietaryProgram at 0x7fb794337c18>]"
      ]
     },
     "execution_count": 268,
     "metadata": {},
     "output_type": "execute_result"
    }
   ],
   "source": [
    "cp.list_components()"
   ]
  },
  {
   "cell_type": "code",
   "execution_count": 49,
   "id": "25c135b6-c742-4e33-b526-026c38346a7c",
   "metadata": {},
   "outputs": [],
   "source": [
    "p1.careplan.()"
   ]
  },
  {
   "cell_type": "code",
   "execution_count": null,
   "id": "f561dad6-66bd-4ce4-bc59-3887a0b04784",
   "metadata": {},
   "outputs": [],
   "source": []
  }
 ],
 "metadata": {
  "kernelspec": {
   "display_name": "nick",
   "language": "python",
   "name": "nick"
  },
  "language_info": {
   "codemirror_mode": {
    "name": "ipython",
    "version": 3
   },
   "file_extension": ".py",
   "mimetype": "text/x-python",
   "name": "python",
   "nbconvert_exporter": "python",
   "pygments_lexer": "ipython3",
   "version": "3.6.13"
  }
 },
 "nbformat": 4,
 "nbformat_minor": 5
}
