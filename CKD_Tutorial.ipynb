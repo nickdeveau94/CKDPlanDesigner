{
 "cells": [
  {
   "cell_type": "markdown",
   "id": "7a28a8b4-986e-410a-92e9-60f301f4090c",
   "metadata": {},
   "source": [
    "# CKD Plan Designer Tutorial"
   ]
  },
  {
   "cell_type": "markdown",
   "id": "e3ce6045-ff9b-4c9c-a269-916bebe9e460",
   "metadata": {},
   "source": [
    "## Install CKDPlanDesigner Package"
   ]
  },
  {
   "cell_type": "code",
   "execution_count": 26,
   "id": "e8b31d2c-d350-4a06-b403-40ba34cf9d30",
   "metadata": {},
   "outputs": [
    {
     "name": "stdout",
     "output_type": "stream",
     "text": [
      "Obtaining file:///Users/nicholasdeveau/projects/bmi210/bmi210Project/project_code\n",
      "  Preparing metadata (setup.py) ... \u001b[?25ldone\n",
      "\u001b[?25hInstalling collected packages: CKDPlanDesigner\n",
      "  Attempting uninstall: CKDPlanDesigner\n",
      "    Found existing installation: CKDPlanDesigner 0.0.0\n",
      "    Uninstalling CKDPlanDesigner-0.0.0:\n",
      "      Successfully uninstalled CKDPlanDesigner-0.0.0\n",
      "  Running setup.py develop for CKDPlanDesigner\n",
      "Successfully installed CKDPlanDesigner-0.0.0\n"
     ]
    }
   ],
   "source": [
    "! pip install -e project_code/"
   ]
  },
  {
   "cell_type": "markdown",
   "id": "08344a32-d393-499b-a340-306a6a9b4dad",
   "metadata": {},
   "source": [
    "## Load Data\n",
    "- This tutorial uses the freely available synthea example dataset\n",
    "    - Download it here: https://synthetichealth.github.io/synthea-sample-data/downloads/synthea_sample_data_csv_apr2020.zip\n",
    "    - unzip it to SYNTHEA_PATH\n",
    " "
   ]
  },
  {
   "cell_type": "code",
   "execution_count": 27,
   "id": "5167e07f-2a4a-4309-b3fd-e3871d801ae8",
   "metadata": {},
   "outputs": [],
   "source": [
    "import pandas as pd\n",
    "import os\n",
    "\n",
    "from CKDPlanDesigner.utils import data_preprocessing as pre\n",
    "\n",
    "SYNTHEA_PATH = '/Users/nicholasdeveau/projects/bmi210/bmi210Project_data/synthea_data/'"
   ]
  },
  {
   "cell_type": "markdown",
   "id": "a3349974-4f88-40dc-a43e-144f0aaca54f",
   "metadata": {},
   "source": [
    "#### Here we build our patient dataframe\n",
    "- This contains a vecor for each patient containing the required information for plan designing "
   ]
  },
  {
   "cell_type": "code",
   "execution_count": 28,
   "id": "8b6656b1-fcc5-42cd-b53c-7da2673bc738",
   "metadata": {},
   "outputs": [
    {
     "name": "stderr",
     "output_type": "stream",
     "text": [
      "/Users/nicholasdeveau/projects/bmi210/bmi210Project/project_code/src/CKDPlanDesigner/utils/data_preprocessing.py:38: SettingWithCopyWarning: \n",
      "A value is trying to be set on a copy of a slice from a DataFrame.\n",
      "Try using .loc[row_indexer,col_indexer] = value instead\n",
      "\n",
      "See the caveats in the documentation: https://pandas.pydata.org/pandas-docs/stable/user_guide/indexing.html#returning-a-view-versus-a-copy\n",
      "  sel_cond_df['VALUE'] = 1\n"
     ]
    }
   ],
   "source": [
    "patients_df = pre.preprocess_synthea_data(SYNTHEA_PATH)"
   ]
  },
  {
   "cell_type": "code",
   "execution_count": 29,
   "id": "a11a7592-de1f-4e36-a977-28f596d77f3b",
   "metadata": {},
   "outputs": [
    {
     "data": {
      "text/html": [
       "<div>\n",
       "<style scoped>\n",
       "    .dataframe tbody tr th:only-of-type {\n",
       "        vertical-align: middle;\n",
       "    }\n",
       "\n",
       "    .dataframe tbody tr th {\n",
       "        vertical-align: top;\n",
       "    }\n",
       "\n",
       "    .dataframe thead th {\n",
       "        text-align: right;\n",
       "    }\n",
       "</style>\n",
       "<table border=\"1\" class=\"dataframe\">\n",
       "  <thead>\n",
       "    <tr style=\"text-align: right;\">\n",
       "      <th></th>\n",
       "      <th>patient_id</th>\n",
       "      <th>t2d</th>\n",
       "      <th>depression</th>\n",
       "      <th>bmi</th>\n",
       "      <th>hypertension</th>\n",
       "      <th>smoking</th>\n",
       "      <th>dob</th>\n",
       "      <th>race</th>\n",
       "      <th>ethnicity</th>\n",
       "      <th>gender</th>\n",
       "      <th>zip</th>\n",
       "      <th>eGFR</th>\n",
       "      <th>age</th>\n",
       "    </tr>\n",
       "  </thead>\n",
       "  <tbody>\n",
       "    <tr>\n",
       "      <th>0</th>\n",
       "      <td>c8403116-d069-4130-aa02-39954fc971b5</td>\n",
       "      <td>True</td>\n",
       "      <td>False</td>\n",
       "      <td>False</td>\n",
       "      <td>False</td>\n",
       "      <td>False</td>\n",
       "      <td>1967-03-26</td>\n",
       "      <td>white</td>\n",
       "      <td>nonhispanic</td>\n",
       "      <td>F</td>\n",
       "      <td>NaN</td>\n",
       "      <td>66.9</td>\n",
       "      <td>55</td>\n",
       "    </tr>\n",
       "    <tr>\n",
       "      <th>1</th>\n",
       "      <td>73f124a4-e69e-4b8c-a447-e72d23dc54be</td>\n",
       "      <td>True</td>\n",
       "      <td>False</td>\n",
       "      <td>False</td>\n",
       "      <td>True</td>\n",
       "      <td>True</td>\n",
       "      <td>1967-06-14</td>\n",
       "      <td>white</td>\n",
       "      <td>nonhispanic</td>\n",
       "      <td>F</td>\n",
       "      <td>2170.0</td>\n",
       "      <td>70.5</td>\n",
       "      <td>55</td>\n",
       "    </tr>\n",
       "    <tr>\n",
       "      <th>2</th>\n",
       "      <td>31459cc4-45ed-4dee-b160-9f1a148a7724</td>\n",
       "      <td>False</td>\n",
       "      <td>False</td>\n",
       "      <td>True</td>\n",
       "      <td>False</td>\n",
       "      <td>False</td>\n",
       "      <td>1968-08-15</td>\n",
       "      <td>white</td>\n",
       "      <td>nonhispanic</td>\n",
       "      <td>M</td>\n",
       "      <td>NaN</td>\n",
       "      <td>75.4</td>\n",
       "      <td>54</td>\n",
       "    </tr>\n",
       "    <tr>\n",
       "      <th>3</th>\n",
       "      <td>799d0738-d5cd-4161-bdb8-e3c49e21ec66</td>\n",
       "      <td>False</td>\n",
       "      <td>False</td>\n",
       "      <td>True</td>\n",
       "      <td>True</td>\n",
       "      <td>True</td>\n",
       "      <td>1939-12-12</td>\n",
       "      <td>white</td>\n",
       "      <td>nonhispanic</td>\n",
       "      <td>M</td>\n",
       "      <td>2360.0</td>\n",
       "      <td>82.0</td>\n",
       "      <td>83</td>\n",
       "    </tr>\n",
       "    <tr>\n",
       "      <th>4</th>\n",
       "      <td>bae73dce-20fa-4a6a-8e46-b2ed541f9296</td>\n",
       "      <td>True</td>\n",
       "      <td>True</td>\n",
       "      <td>False</td>\n",
       "      <td>False</td>\n",
       "      <td>True</td>\n",
       "      <td>1958-04-27</td>\n",
       "      <td>white</td>\n",
       "      <td>nonhispanic</td>\n",
       "      <td>M</td>\n",
       "      <td>NaN</td>\n",
       "      <td>83.6</td>\n",
       "      <td>64</td>\n",
       "    </tr>\n",
       "    <tr>\n",
       "      <th>...</th>\n",
       "      <td>...</td>\n",
       "      <td>...</td>\n",
       "      <td>...</td>\n",
       "      <td>...</td>\n",
       "      <td>...</td>\n",
       "      <td>...</td>\n",
       "      <td>...</td>\n",
       "      <td>...</td>\n",
       "      <td>...</td>\n",
       "      <td>...</td>\n",
       "      <td>...</td>\n",
       "      <td>...</td>\n",
       "      <td>...</td>\n",
       "    </tr>\n",
       "    <tr>\n",
       "      <th>111</th>\n",
       "      <td>83c686df-0a1e-4950-9a2b-c84da98a2652</td>\n",
       "      <td>True</td>\n",
       "      <td>False</td>\n",
       "      <td>False</td>\n",
       "      <td>False</td>\n",
       "      <td>False</td>\n",
       "      <td>1962-01-24</td>\n",
       "      <td>asian</td>\n",
       "      <td>nonhispanic</td>\n",
       "      <td>F</td>\n",
       "      <td>NaN</td>\n",
       "      <td>81.7</td>\n",
       "      <td>60</td>\n",
       "    </tr>\n",
       "    <tr>\n",
       "      <th>112</th>\n",
       "      <td>9dfbf6ed-2378-4c27-9ff7-7e5c0619c236</td>\n",
       "      <td>True</td>\n",
       "      <td>False</td>\n",
       "      <td>True</td>\n",
       "      <td>False</td>\n",
       "      <td>False</td>\n",
       "      <td>1962-11-08</td>\n",
       "      <td>white</td>\n",
       "      <td>nonhispanic</td>\n",
       "      <td>F</td>\n",
       "      <td>NaN</td>\n",
       "      <td>88.6</td>\n",
       "      <td>60</td>\n",
       "    </tr>\n",
       "    <tr>\n",
       "      <th>113</th>\n",
       "      <td>1bacaab1-708b-42fe-8f12-fbe97a725440</td>\n",
       "      <td>True</td>\n",
       "      <td>False</td>\n",
       "      <td>True</td>\n",
       "      <td>False</td>\n",
       "      <td>False</td>\n",
       "      <td>1950-07-25</td>\n",
       "      <td>white</td>\n",
       "      <td>nonhispanic</td>\n",
       "      <td>F</td>\n",
       "      <td>2186.0</td>\n",
       "      <td>79.4</td>\n",
       "      <td>72</td>\n",
       "    </tr>\n",
       "    <tr>\n",
       "      <th>114</th>\n",
       "      <td>73fc00f8-a341-4f62-be27-07c35c3460bc</td>\n",
       "      <td>True</td>\n",
       "      <td>False</td>\n",
       "      <td>True</td>\n",
       "      <td>False</td>\n",
       "      <td>False</td>\n",
       "      <td>1941-05-04</td>\n",
       "      <td>white</td>\n",
       "      <td>nonhispanic</td>\n",
       "      <td>F</td>\n",
       "      <td>1027.0</td>\n",
       "      <td>84.8</td>\n",
       "      <td>81</td>\n",
       "    </tr>\n",
       "    <tr>\n",
       "      <th>115</th>\n",
       "      <td>023a7d29-32b3-4db5-89c8-b88bd7582ec0</td>\n",
       "      <td>True</td>\n",
       "      <td>False</td>\n",
       "      <td>False</td>\n",
       "      <td>False</td>\n",
       "      <td>True</td>\n",
       "      <td>1922-02-14</td>\n",
       "      <td>asian</td>\n",
       "      <td>hispanic</td>\n",
       "      <td>F</td>\n",
       "      <td>2141.0</td>\n",
       "      <td>89.4</td>\n",
       "      <td>100</td>\n",
       "    </tr>\n",
       "  </tbody>\n",
       "</table>\n",
       "<p>116 rows × 13 columns</p>\n",
       "</div>"
      ],
      "text/plain": [
       "                               patient_id    t2d  depression    bmi  \\\n",
       "0    c8403116-d069-4130-aa02-39954fc971b5   True       False  False   \n",
       "1    73f124a4-e69e-4b8c-a447-e72d23dc54be   True       False  False   \n",
       "2    31459cc4-45ed-4dee-b160-9f1a148a7724  False       False   True   \n",
       "3    799d0738-d5cd-4161-bdb8-e3c49e21ec66  False       False   True   \n",
       "4    bae73dce-20fa-4a6a-8e46-b2ed541f9296   True        True  False   \n",
       "..                                    ...    ...         ...    ...   \n",
       "111  83c686df-0a1e-4950-9a2b-c84da98a2652   True       False  False   \n",
       "112  9dfbf6ed-2378-4c27-9ff7-7e5c0619c236   True       False   True   \n",
       "113  1bacaab1-708b-42fe-8f12-fbe97a725440   True       False   True   \n",
       "114  73fc00f8-a341-4f62-be27-07c35c3460bc   True       False   True   \n",
       "115  023a7d29-32b3-4db5-89c8-b88bd7582ec0   True       False  False   \n",
       "\n",
       "     hypertension  smoking         dob   race    ethnicity gender     zip  \\\n",
       "0           False    False  1967-03-26  white  nonhispanic      F     NaN   \n",
       "1            True     True  1967-06-14  white  nonhispanic      F  2170.0   \n",
       "2           False    False  1968-08-15  white  nonhispanic      M     NaN   \n",
       "3            True     True  1939-12-12  white  nonhispanic      M  2360.0   \n",
       "4           False     True  1958-04-27  white  nonhispanic      M     NaN   \n",
       "..            ...      ...         ...    ...          ...    ...     ...   \n",
       "111         False    False  1962-01-24  asian  nonhispanic      F     NaN   \n",
       "112         False    False  1962-11-08  white  nonhispanic      F     NaN   \n",
       "113         False    False  1950-07-25  white  nonhispanic      F  2186.0   \n",
       "114         False    False  1941-05-04  white  nonhispanic      F  1027.0   \n",
       "115         False     True  1922-02-14  asian     hispanic      F  2141.0   \n",
       "\n",
       "     eGFR  age  \n",
       "0    66.9   55  \n",
       "1    70.5   55  \n",
       "2    75.4   54  \n",
       "3    82.0   83  \n",
       "4    83.6   64  \n",
       "..    ...  ...  \n",
       "111  81.7   60  \n",
       "112  88.6   60  \n",
       "113  79.4   72  \n",
       "114  84.8   81  \n",
       "115  89.4  100  \n",
       "\n",
       "[116 rows x 13 columns]"
      ]
     },
     "execution_count": 29,
     "metadata": {},
     "output_type": "execute_result"
    }
   ],
   "source": [
    "patients_df"
   ]
  },
  {
   "cell_type": "markdown",
   "id": "873368e9-14c2-4aa5-9a05-01537333a026",
   "metadata": {},
   "source": [
    "## Working With a Patient"
   ]
  },
  {
   "cell_type": "code",
   "execution_count": 30,
   "id": "882e1d49-8fff-4aec-9d3f-f20a47befe07",
   "metadata": {},
   "outputs": [
    {
     "name": "stdout",
     "output_type": "stream",
     "text": [
      "The autoreload extension is already loaded. To reload it, use:\n",
      "  %reload_ext autoreload\n"
     ]
    }
   ],
   "source": [
    "from CKDPlanDesigner.models import patients, plans, interventions\n",
    "%load_ext autoreload\n",
    "%autoreload patients\n",
    "%autoreload plans\n",
    "%autoreload interventions"
   ]
  },
  {
   "cell_type": "code",
   "execution_count": 31,
   "id": "c7c06e81-bb73-43a3-84ef-5edd28e8e6e7",
   "metadata": {},
   "outputs": [],
   "source": [
    "patient1_config = patients_df.to_dict(orient='index')[5]"
   ]
  },
  {
   "cell_type": "code",
   "execution_count": 32,
   "id": "7313ff51-4f1f-4e55-b9a9-ae9954dd06f2",
   "metadata": {},
   "outputs": [],
   "source": [
    "def get_age(date_str):\n",
    "    try:\n",
    "        delta = datetime.datetime.now() - datetime.datetime.strptime(str(date_str), '%Y-%M-%d')\n",
    "        return delta.days // 365\n",
    "    except:\n",
    "        return 55 # average age"
   ]
  },
  {
   "cell_type": "code",
   "execution_count": 33,
   "id": "997f9f5d-b4ec-4a5f-9137-d1794ba4950b",
   "metadata": {},
   "outputs": [
    {
     "data": {
      "text/plain": [
       "55"
      ]
     },
     "execution_count": 33,
     "metadata": {},
     "output_type": "execute_result"
    }
   ],
   "source": [
    "get_age(patient1_config['dob'])"
   ]
  },
  {
   "cell_type": "code",
   "execution_count": 34,
   "id": "09cbab4a-d7ce-4aad-b9b0-54793d0304fd",
   "metadata": {},
   "outputs": [
    {
     "data": {
      "text/html": [
       "<div>\n",
       "<style scoped>\n",
       "    .dataframe tbody tr th:only-of-type {\n",
       "        vertical-align: middle;\n",
       "    }\n",
       "\n",
       "    .dataframe tbody tr th {\n",
       "        vertical-align: top;\n",
       "    }\n",
       "\n",
       "    .dataframe thead th {\n",
       "        text-align: right;\n",
       "    }\n",
       "</style>\n",
       "<table border=\"1\" class=\"dataframe\">\n",
       "  <thead>\n",
       "    <tr style=\"text-align: right;\">\n",
       "      <th></th>\n",
       "      <th>patient_id</th>\n",
       "      <th>t2d</th>\n",
       "      <th>depression</th>\n",
       "      <th>bmi</th>\n",
       "      <th>hypertension</th>\n",
       "      <th>smoking</th>\n",
       "      <th>dob</th>\n",
       "      <th>race</th>\n",
       "      <th>ethnicity</th>\n",
       "      <th>gender</th>\n",
       "      <th>zip</th>\n",
       "      <th>eGFR</th>\n",
       "      <th>age</th>\n",
       "    </tr>\n",
       "  </thead>\n",
       "  <tbody>\n",
       "    <tr>\n",
       "      <th>13</th>\n",
       "      <td>844d1c39-6ca2-48df-a3de-f9a12633f69c</td>\n",
       "      <td>True</td>\n",
       "      <td>False</td>\n",
       "      <td>False</td>\n",
       "      <td>False</td>\n",
       "      <td>False</td>\n",
       "      <td>1963-07-20</td>\n",
       "      <td>white</td>\n",
       "      <td>nonhispanic</td>\n",
       "      <td>F</td>\n",
       "      <td>NaN</td>\n",
       "      <td>8.9</td>\n",
       "      <td>59</td>\n",
       "    </tr>\n",
       "    <tr>\n",
       "      <th>64</th>\n",
       "      <td>af08878c-08dc-4938-aebd-cd5da315c479</td>\n",
       "      <td>True</td>\n",
       "      <td>False</td>\n",
       "      <td>True</td>\n",
       "      <td>False</td>\n",
       "      <td>False</td>\n",
       "      <td>1949-07-06</td>\n",
       "      <td>white</td>\n",
       "      <td>nonhispanic</td>\n",
       "      <td>M</td>\n",
       "      <td>NaN</td>\n",
       "      <td>5.6</td>\n",
       "      <td>73</td>\n",
       "    </tr>\n",
       "    <tr>\n",
       "      <th>78</th>\n",
       "      <td>5c06120a-9af5-4204-951b-7a8bfc465df3</td>\n",
       "      <td>True</td>\n",
       "      <td>False</td>\n",
       "      <td>True</td>\n",
       "      <td>True</td>\n",
       "      <td>False</td>\n",
       "      <td>1960-01-27</td>\n",
       "      <td>asian</td>\n",
       "      <td>nonhispanic</td>\n",
       "      <td>F</td>\n",
       "      <td>NaN</td>\n",
       "      <td>10.7</td>\n",
       "      <td>62</td>\n",
       "    </tr>\n",
       "    <tr>\n",
       "      <th>102</th>\n",
       "      <td>a96344e6-afe6-4eeb-9f95-00c62c152e8f</td>\n",
       "      <td>True</td>\n",
       "      <td>False</td>\n",
       "      <td>False</td>\n",
       "      <td>False</td>\n",
       "      <td>False</td>\n",
       "      <td>1982-01-14</td>\n",
       "      <td>black</td>\n",
       "      <td>nonhispanic</td>\n",
       "      <td>M</td>\n",
       "      <td>NaN</td>\n",
       "      <td>12.1</td>\n",
       "      <td>40</td>\n",
       "    </tr>\n",
       "  </tbody>\n",
       "</table>\n",
       "</div>"
      ],
      "text/plain": [
       "                               patient_id   t2d  depression    bmi  \\\n",
       "13   844d1c39-6ca2-48df-a3de-f9a12633f69c  True       False  False   \n",
       "64   af08878c-08dc-4938-aebd-cd5da315c479  True       False   True   \n",
       "78   5c06120a-9af5-4204-951b-7a8bfc465df3  True       False   True   \n",
       "102  a96344e6-afe6-4eeb-9f95-00c62c152e8f  True       False  False   \n",
       "\n",
       "     hypertension  smoking         dob   race    ethnicity gender  zip  eGFR  \\\n",
       "13          False    False  1963-07-20  white  nonhispanic      F  NaN   8.9   \n",
       "64          False    False  1949-07-06  white  nonhispanic      M  NaN   5.6   \n",
       "78           True    False  1960-01-27  asian  nonhispanic      F  NaN  10.7   \n",
       "102         False    False  1982-01-14  black  nonhispanic      M  NaN  12.1   \n",
       "\n",
       "     age  \n",
       "13    59  \n",
       "64    73  \n",
       "78    62  \n",
       "102   40  "
      ]
     },
     "execution_count": 34,
     "metadata": {},
     "output_type": "execute_result"
    }
   ],
   "source": [
    "patients_df[(patients_df.age <= 74) & (patients_df.eGFR < 20)]"
   ]
  },
  {
   "cell_type": "code",
   "execution_count": 35,
   "id": "6e9d3072-c056-4ac4-9555-66e31d847e70",
   "metadata": {},
   "outputs": [],
   "source": [
    "# patient_config = {'patient_id': 123,2\n",
    "#                   'eGFR': 70,\n",
    "#                   'depression': True\n",
    "#                  }\n",
    "\n",
    "\n",
    "# select the first patient and convert feature vector to a dictionary\n",
    "# we pass this dictionary to the patient class on instantiation\n",
    "patient1_config = patients_df.to_dict(orient='index')[13]\n",
    "p1 = patients.Patient(**patient1_config)\n",
    "\n",
    "patient2_config = patients_df.to_dict(orient='index')[44]\n",
    "# patient2_config = patients_df.to_dict(orient='index')[15]\n",
    "p2 = patients.Patient(**patient2_config)"
   ]
  },
  {
   "cell_type": "markdown",
   "id": "97f73ada-0f6b-48fa-8914-414a375532ad",
   "metadata": {},
   "source": [
    "#### Look at patient 1's charecteristics"
   ]
  },
  {
   "cell_type": "code",
   "execution_count": 36,
   "id": "74b936ce-c308-4206-a295-2dae79c1d30b",
   "metadata": {},
   "outputs": [
    {
     "data": {
      "text/plain": [
       "{'patient_id': '844d1c39-6ca2-48df-a3de-f9a12633f69c',\n",
       " 't2d': True,\n",
       " 'depression': False,\n",
       " 'bmi': False,\n",
       " 'hypertension': False,\n",
       " 'smoking': False,\n",
       " 'dob': '1963-07-20',\n",
       " 'race': 'white',\n",
       " 'ethnicity': 'nonhispanic',\n",
       " 'gender': 'F',\n",
       " 'zip': nan,\n",
       " 'eGFR': 8.9,\n",
       " 'age': 59}"
      ]
     },
     "execution_count": 36,
     "metadata": {},
     "output_type": "execute_result"
    }
   ],
   "source": [
    "p1.patient_config"
   ]
  },
  {
   "cell_type": "code",
   "execution_count": 37,
   "id": "30c05c8b-a422-4580-b46b-a8d490f7e327",
   "metadata": {},
   "outputs": [
    {
     "data": {
      "text/plain": [
       "<CKDPlanDesigner.models.stages.Stage5 at 0x7ff0a279bac8>"
      ]
     },
     "execution_count": 37,
     "metadata": {},
     "output_type": "execute_result"
    }
   ],
   "source": [
    "# we automatically assign a CKD stage when a patient is created\n",
    "p1.stage"
   ]
  },
  {
   "cell_type": "markdown",
   "id": "9c13e24a-43a4-4515-b5e6-297eed671ec4",
   "metadata": {},
   "source": [
    "### Generate a care plan"
   ]
  },
  {
   "cell_type": "code",
   "execution_count": 38,
   "id": "c2469b60-63e0-4bfd-9df7-e7c719b4eb2d",
   "metadata": {},
   "outputs": [
    {
     "name": "stdout",
     "output_type": "stream",
     "text": [
      "Plan: Smart Dialysis\n"
     ]
    }
   ],
   "source": [
    "p1.generate_careplan()\n",
    "print(p1.careplan.plan_name)"
   ]
  },
  {
   "cell_type": "code",
   "execution_count": 13,
   "id": "770d7b6f-7ea9-48d8-899d-b9927f052d7b",
   "metadata": {},
   "outputs": [
    {
     "data": {
      "text/plain": [
       "{'patient_id': '844d1c39-6ca2-48df-a3de-f9a12633f69c',\n",
       " 't2d': True,\n",
       " 'depression': False,\n",
       " 'bmi': False,\n",
       " 'hypertension': False,\n",
       " 'smoking': False,\n",
       " 'dob': '1963-07-20',\n",
       " 'race': 'white',\n",
       " 'ethnicity': 'nonhispanic',\n",
       " 'gender': 'F',\n",
       " 'zip': nan,\n",
       " 'eGFR': 8.9,\n",
       " 'age': 59}"
      ]
     },
     "execution_count": 13,
     "metadata": {},
     "output_type": "execute_result"
    }
   ],
   "source": [
    "p1.patient_config"
   ]
  },
  {
   "cell_type": "code",
   "execution_count": 39,
   "id": "48fc1d11-3731-45bf-b18f-3da891edcfc5",
   "metadata": {},
   "outputs": [
    {
     "data": {
      "text/plain": [
       "<CKDPlanDesigner.models.plans.SmartDialysisPlan at 0x7ff0a279b6d8>"
      ]
     },
     "execution_count": 39,
     "metadata": {},
     "output_type": "execute_result"
    }
   ],
   "source": [
    "p1.careplan"
   ]
  },
  {
   "cell_type": "code",
   "execution_count": 41,
   "id": "73217ee3-36f4-4756-bf63-c80bea72b0cc",
   "metadata": {},
   "outputs": [
    {
     "name": "stdout",
     "output_type": "stream",
     "text": [
      "Plan Components\n"
     ]
    },
    {
     "data": {
      "text/plain": [
       "['Dialysis', 'Education and Engagement', 'Nephro Engagement']"
      ]
     },
     "execution_count": 41,
     "metadata": {},
     "output_type": "execute_result"
    }
   ],
   "source": [
    "p1.careplan.list_components(show_savings=False)"
   ]
  },
  {
   "cell_type": "code",
   "execution_count": 16,
   "id": "1e670b9e-2f62-4548-9dbe-35dd1c504640",
   "metadata": {},
   "outputs": [
    {
     "data": {
      "text/plain": [
       "'Discuss desicion wrt. palliaive care vs. dialysis, emphasizing there is little evidence for outcomes benefit with dialysis at this stage.'"
      ]
     },
     "execution_count": 16,
     "metadata": {},
     "output_type": "execute_result"
    }
   ],
   "source": [
    "p1.careplan.all_components[1].desc_long"
   ]
  },
  {
   "cell_type": "markdown",
   "id": "8eae8b3e-3f2e-462c-a534-fc3dc1978c20",
   "metadata": {},
   "source": [
    "### Try it out for a different patient\n",
    "- This patient has more co-morbidities. Check them out!\n",
    "- Because of this, we should expect a more comprehensive care plan even though they're still just stage 2"
   ]
  },
  {
   "cell_type": "code",
   "execution_count": 17,
   "id": "003e07c3-4935-45dd-8709-bf6c8f585881",
   "metadata": {},
   "outputs": [],
   "source": [
    "import yaml"
   ]
  },
  {
   "cell_type": "code",
   "execution_count": 18,
   "id": "49a94a58-aa2a-4ec4-b210-823300629bcb",
   "metadata": {},
   "outputs": [],
   "source": [
    "# yaml_path = os.path.join('/Users/nicholasdeveau/projects/bmi210/bmi210Project/project_code/src/CKDPlanDesigner/configs/ix_config.yaml')\n",
    "# ix_config_yaml = open(yaml_path)\n",
    "# ix_config = yaml.load(ix_config_yaml, Loader=yaml.FullLoader)"
   ]
  },
  {
   "cell_type": "code",
   "execution_count": 19,
   "id": "231b2944-fb6b-46a6-bac3-ba7e134905ea",
   "metadata": {},
   "outputs": [
    {
     "data": {
      "text/plain": [
       "{'patient_id': 'c9942738-49f3-4459-818f-8da20072ff76',\n",
       " 't2d': True,\n",
       " 'depression': True,\n",
       " 'bmi': False,\n",
       " 'hypertension': True,\n",
       " 'smoking': True,\n",
       " 'dob': '1935-10-27',\n",
       " 'race': 'white',\n",
       " 'ethnicity': 'nonhispanic',\n",
       " 'gender': 'M',\n",
       " 'zip': 2474.0,\n",
       " 'eGFR': 9.5,\n",
       " 'age': 87}"
      ]
     },
     "execution_count": 19,
     "metadata": {},
     "output_type": "execute_result"
    }
   ],
   "source": [
    "p2.patient_config"
   ]
  },
  {
   "cell_type": "code",
   "execution_count": 20,
   "id": "9153e3e9-71c9-47bb-9827-6e8fbd31add2",
   "metadata": {},
   "outputs": [
    {
     "data": {
      "text/plain": [
       "<CKDPlanDesigner.models.stages.Stage5 at 0x7ff0900c3358>"
      ]
     },
     "execution_count": 20,
     "metadata": {},
     "output_type": "execute_result"
    }
   ],
   "source": [
    "p2.stage"
   ]
  },
  {
   "cell_type": "code",
   "execution_count": 21,
   "id": "43a3fa7b-19ba-4671-996c-1663a4c1c53d",
   "metadata": {},
   "outputs": [
    {
     "name": "stdout",
     "output_type": "stream",
     "text": [
      "Plan Components\n"
     ]
    },
    {
     "data": {
      "text/plain": [
       "['ComfortAndPain']"
      ]
     },
     "execution_count": 21,
     "metadata": {},
     "output_type": "execute_result"
    }
   ],
   "source": [
    "p2.generate_careplan()\n",
    "p2.careplan.list_components(show_savings=False)"
   ]
  },
  {
   "cell_type": "code",
   "execution_count": 22,
   "id": "67cfd598-8043-4a6f-9b80-3a8408382320",
   "metadata": {},
   "outputs": [
    {
     "data": {
      "text/plain": [
       "{'patient_id': 'c9942738-49f3-4459-818f-8da20072ff76',\n",
       " 't2d': True,\n",
       " 'depression': True,\n",
       " 'bmi': False,\n",
       " 'hypertension': True,\n",
       " 'smoking': True,\n",
       " 'dob': '1935-10-27',\n",
       " 'race': 'white',\n",
       " 'ethnicity': 'nonhispanic',\n",
       " 'gender': 'M',\n",
       " 'zip': 2474.0,\n",
       " 'eGFR': 9.5,\n",
       " 'age': 87}"
      ]
     },
     "execution_count": 22,
     "metadata": {},
     "output_type": "execute_result"
    }
   ],
   "source": [
    "p2.patient_config"
   ]
  },
  {
   "cell_type": "code",
   "execution_count": 23,
   "id": "ad501848-bf36-4ec3-9778-75c19d3a978f",
   "metadata": {},
   "outputs": [
    {
     "data": {
      "text/plain": [
       "{'patient_id': 'c9942738-49f3-4459-818f-8da20072ff76',\n",
       " 't2d': True,\n",
       " 'depression': True,\n",
       " 'bmi': False,\n",
       " 'hypertension': True,\n",
       " 'smoking': True,\n",
       " 'dob': '1935-10-27',\n",
       " 'race': 'white',\n",
       " 'ethnicity': 'nonhispanic',\n",
       " 'gender': 'M',\n",
       " 'zip': 2474.0,\n",
       " 'eGFR': 9.5,\n",
       " 'age': 87}"
      ]
     },
     "execution_count": 23,
     "metadata": {},
     "output_type": "execute_result"
    }
   ],
   "source": [
    "p2.patient_config"
   ]
  },
  {
   "cell_type": "code",
   "execution_count": 24,
   "id": "9d84f051-b294-493a-b572-c1ec5b48b735",
   "metadata": {},
   "outputs": [
    {
     "name": "stdout",
     "output_type": "stream",
     "text": [
      "Plan Components\n"
     ]
    },
    {
     "data": {
      "text/plain": [
       "[('ComfortAndPain', 'Cost Reduction: 1')]"
      ]
     },
     "execution_count": 24,
     "metadata": {},
     "output_type": "execute_result"
    }
   ],
   "source": [
    "p2.careplan.list_components()"
   ]
  },
  {
   "cell_type": "code",
   "execution_count": 25,
   "id": "61534a39-fc83-4327-90bc-99e8c6e5170a",
   "metadata": {},
   "outputs": [
    {
     "name": "stdout",
     "output_type": "stream",
     "text": [
      "Plan Components\n"
     ]
    },
    {
     "data": {
      "text/plain": [
       "['ComfortAndPain']"
      ]
     },
     "execution_count": 25,
     "metadata": {},
     "output_type": "execute_result"
    }
   ],
   "source": [
    "p2.careplan.list_components(show_savings=False)"
   ]
  },
  {
   "cell_type": "code",
   "execution_count": null,
   "id": "1f794fdc-b5df-402e-8d39-1daf7a8ea314",
   "metadata": {},
   "outputs": [],
   "source": [
    "\"\"\"\n",
    "1) profile patient (patient_config)\n",
    "2) classified into disease (patient.stage)\n",
    "3) unoptimized charecteristics (trey creating this in the ontology)\n",
    "    3a) unoptimmized = some min number of \"bad\" criteria (from patient_config)\n",
    "\"\"\""
   ]
  },
  {
   "cell_type": "markdown",
   "id": "5d27ba3c-7061-4308-8e22-1f6b01882c68",
   "metadata": {},
   "source": [
    "### Generate some Patients"
   ]
  },
  {
   "cell_type": "code",
   "execution_count": 76,
   "id": "c648d1aa-9be1-446f-8176-82ffbfe316a0",
   "metadata": {},
   "outputs": [],
   "source": [
    "def generate_px_info(idx):\n",
    "    patient_config = patients_df.to_dict(orient='index')[idx]\n",
    "    if patient_config['eGFR'] >=0 :\n",
    "        px = patients.Patient(**patient_config)\n",
    "        px.generate_careplan()\n",
    "        plan_comps = px.careplan.list_components(show_savings=False)\n",
    "        return (patient_config, plan_comps)\n",
    "    else:\n",
    "        return None, None"
   ]
  },
  {
   "cell_type": "code",
   "execution_count": 77,
   "id": "58a6420c-66cd-4898-996b-916d3519da71",
   "metadata": {},
   "outputs": [
    {
     "data": {
      "text/plain": [
       "{'patient_id': nan,\n",
       " 't2d': True,\n",
       " 'depression': True,\n",
       " 'bmi': True,\n",
       " 'hypertension': True,\n",
       " 'smoking': True,\n",
       " 'dob': nan,\n",
       " 'race': nan,\n",
       " 'ethnicity': nan,\n",
       " 'gender': nan,\n",
       " 'zip': nan,\n",
       " 'eGFR': nan,\n",
       " 'age': 55}"
      ]
     },
     "execution_count": 77,
     "metadata": {},
     "output_type": "execute_result"
    }
   ],
   "source": [
    "patients_df.to_dict(orient='index')[22]"
   ]
  },
  {
   "cell_type": "code",
   "execution_count": 81,
   "id": "488076c0-1c12-4936-9ddd-3aaad89eb510",
   "metadata": {},
   "outputs": [
    {
     "name": "stdout",
     "output_type": "stream",
     "text": [
      "Plan Components\n",
      "Plan Components\n",
      "Plan Components\n",
      "Plan Components\n",
      "Plan Components\n",
      "Plan Components\n",
      "Plan Components\n",
      "Plan Components\n",
      "Plan Components\n",
      "Plan Components\n",
      "Plan Components\n",
      "Plan Components\n",
      "Plan Components\n",
      "Plan Components\n",
      "Plan Components\n",
      "Plan Components\n",
      "Plan Components\n",
      "Plan Components\n",
      "Plan Components\n",
      "Plan Components\n",
      "Plan Components\n",
      "Plan Components\n",
      "Plan Components\n",
      "Plan Components\n"
     ]
    }
   ],
   "source": [
    "data_export = dict()\n",
    "for i in range(0, 100, 4):\n",
    "    config, comps = generate_px_info(i)\n",
    "    if config:\n",
    "        tmp = {'config': config, 'comps': comps}\n",
    "        data_export[i] = tmp"
   ]
  },
  {
   "cell_type": "code",
   "execution_count": 83,
   "id": "3ac5ad8f-799f-4afc-8962-8cb7aff9600e",
   "metadata": {},
   "outputs": [],
   "source": [
    "import json"
   ]
  },
  {
   "cell_type": "code",
   "execution_count": 93,
   "id": "c2718142-a403-43f9-9eb4-400afa172639",
   "metadata": {},
   "outputs": [],
   "source": [
    "with open('patient_export_for_trey.json', 'w') as f:\n",
    "    json.dump(json.dumps(data_export), f)"
   ]
  },
  {
   "cell_type": "code",
   "execution_count": 96,
   "id": "2d8dfde8-a354-4ebb-9c27-9f19a056186d",
   "metadata": {},
   "outputs": [],
   "source": [
    "import json\n",
    "\n",
    "with open('patient_export_for_trey.json', 'r') as f:\n",
    "    tmp = json.loads(json.load(f))\n",
    "    \n",
    "tmp"
   ]
  },
  {
   "cell_type": "code",
   "execution_count": 97,
   "id": "091a7f18-2829-4de7-9e9d-3cf58f28a278",
   "metadata": {},
   "outputs": [
    {
     "data": {
      "text/plain": [
       "{'0': {'config': {'patient_id': 'c8403116-d069-4130-aa02-39954fc971b5',\n",
       "   't2d': True,\n",
       "   'depression': False,\n",
       "   'bmi': False,\n",
       "   'hypertension': False,\n",
       "   'smoking': False,\n",
       "   'dob': '1967-03-26',\n",
       "   'race': 'white',\n",
       "   'ethnicity': 'nonhispanic',\n",
       "   'gender': 'F',\n",
       "   'zip': nan,\n",
       "   'eGFR': 66.9,\n",
       "   'age': 55},\n",
       "  'comps': ['T2D Management']},\n",
       " '4': {'config': {'patient_id': 'bae73dce-20fa-4a6a-8e46-b2ed541f9296',\n",
       "   't2d': True,\n",
       "   'depression': True,\n",
       "   'bmi': False,\n",
       "   'hypertension': False,\n",
       "   'smoking': True,\n",
       "   'dob': '1958-04-27',\n",
       "   'race': 'white',\n",
       "   'ethnicity': 'nonhispanic',\n",
       "   'gender': 'M',\n",
       "   'zip': nan,\n",
       "   'eGFR': 83.6,\n",
       "   'age': 64},\n",
       "  'comps': ['T2D Management', 'Depression Treatment']},\n",
       " '8': {'config': {'patient_id': 'd7f42940-d51d-4fc2-a604-03297e02f656',\n",
       "   't2d': False,\n",
       "   'depression': False,\n",
       "   'bmi': True,\n",
       "   'hypertension': False,\n",
       "   'smoking': False,\n",
       "   'dob': '1958-07-12',\n",
       "   'race': 'white',\n",
       "   'ethnicity': 'nonhispanic',\n",
       "   'gender': 'M',\n",
       "   'zip': nan,\n",
       "   'eGFR': 80.3,\n",
       "   'age': 64},\n",
       "  'comps': ['Dietary Program', 'Education and Engagement']},\n",
       " '12': {'config': {'patient_id': 'a708bca4-8fc9-4567-8c22-8b13d44f4f45',\n",
       "   't2d': True,\n",
       "   'depression': False,\n",
       "   'bmi': False,\n",
       "   'hypertension': False,\n",
       "   'smoking': False,\n",
       "   'dob': '1944-04-14',\n",
       "   'race': 'black',\n",
       "   'ethnicity': 'nonhispanic',\n",
       "   'gender': 'M',\n",
       "   'zip': nan,\n",
       "   'eGFR': 23.1,\n",
       "   'age': 78},\n",
       "  'comps': ['Additional Time - Health Equity',\n",
       "   'Education and Engagement',\n",
       "   'Nephro Engagement']},\n",
       " '16': {'config': {'patient_id': 'b4f1aa40-1a13-43cc-9528-8dcde700ecf0',\n",
       "   't2d': True,\n",
       "   'depression': False,\n",
       "   'bmi': False,\n",
       "   'hypertension': False,\n",
       "   'smoking': False,\n",
       "   'dob': '1950-03-16',\n",
       "   'race': 'white',\n",
       "   'ethnicity': 'nonhispanic',\n",
       "   'gender': 'M',\n",
       "   'zip': nan,\n",
       "   'eGFR': 80.2,\n",
       "   'age': 72},\n",
       "  'comps': ['T2D Management']},\n",
       " '20': {'config': {'patient_id': '5666bbaf-828b-4fd1-a4f9-eeead450816d',\n",
       "   't2d': True,\n",
       "   'depression': False,\n",
       "   'bmi': True,\n",
       "   'hypertension': False,\n",
       "   'smoking': False,\n",
       "   'dob': '1953-04-25',\n",
       "   'race': 'asian',\n",
       "   'ethnicity': 'nonhispanic',\n",
       "   'gender': 'F',\n",
       "   'zip': nan,\n",
       "   'eGFR': 86.5,\n",
       "   'age': 69},\n",
       "  'comps': ['T2D Management',\n",
       "   'Additional Time - Health Equity',\n",
       "   'Dietary Program',\n",
       "   'Education and Engagement']},\n",
       " '24': {'config': {'patient_id': '0447625b-b860-483c-9f30-17ed375b1493',\n",
       "   't2d': False,\n",
       "   'depression': False,\n",
       "   'bmi': True,\n",
       "   'hypertension': False,\n",
       "   'smoking': False,\n",
       "   'dob': '1961-03-14',\n",
       "   'race': 'white',\n",
       "   'ethnicity': 'nonhispanic',\n",
       "   'gender': 'F',\n",
       "   'zip': nan,\n",
       "   'eGFR': 65.4,\n",
       "   'age': 61},\n",
       "  'comps': ['Dietary Program', 'Education and Engagement']},\n",
       " '28': {'config': {'patient_id': '4a757679-50a3-4392-8929-bec0876f4744',\n",
       "   't2d': True,\n",
       "   'depression': False,\n",
       "   'bmi': True,\n",
       "   'hypertension': True,\n",
       "   'smoking': False,\n",
       "   'dob': '1937-09-07',\n",
       "   'race': 'white',\n",
       "   'ethnicity': 'nonhispanic',\n",
       "   'gender': 'M',\n",
       "   'zip': nan,\n",
       "   'eGFR': 66.0,\n",
       "   'age': 85},\n",
       "  'comps': ['Hypertension Management',\n",
       "   'T2D Management',\n",
       "   'Dietary Program',\n",
       "   'Education and Engagement']},\n",
       " '32': {'config': {'patient_id': 'b109dfad-954d-4a5a-91ee-6581dfeb7f93',\n",
       "   't2d': True,\n",
       "   'depression': False,\n",
       "   'bmi': False,\n",
       "   'hypertension': False,\n",
       "   'smoking': False,\n",
       "   'dob': '1969-10-07',\n",
       "   'race': 'white',\n",
       "   'ethnicity': 'nonhispanic',\n",
       "   'gender': 'F',\n",
       "   'zip': 1851.0,\n",
       "   'eGFR': 83.8,\n",
       "   'age': 53},\n",
       "  'comps': ['T2D Management']},\n",
       " '36': {'config': {'patient_id': '6c7ce9c1-78a9-4b72-beff-366cf7aeef5c',\n",
       "   't2d': True,\n",
       "   'depression': False,\n",
       "   'bmi': False,\n",
       "   'hypertension': False,\n",
       "   'smoking': False,\n",
       "   'dob': '1964-10-30',\n",
       "   'race': 'white',\n",
       "   'ethnicity': 'nonhispanic',\n",
       "   'gender': 'F',\n",
       "   'zip': nan,\n",
       "   'eGFR': 76.9,\n",
       "   'age': 58},\n",
       "  'comps': ['T2D Management']},\n",
       " '40': {'config': {'patient_id': '668ad49e-46d7-45ec-a4b4-dab0961d180b',\n",
       "   't2d': True,\n",
       "   'depression': False,\n",
       "   'bmi': True,\n",
       "   'hypertension': False,\n",
       "   'smoking': True,\n",
       "   'dob': '1958-03-28',\n",
       "   'race': 'white',\n",
       "   'ethnicity': 'nonhispanic',\n",
       "   'gender': 'M',\n",
       "   'zip': nan,\n",
       "   'eGFR': 87.8,\n",
       "   'age': 64},\n",
       "  'comps': ['T2D Management', 'Dietary Program', 'Education and Engagement']},\n",
       " '44': {'config': {'patient_id': 'c9942738-49f3-4459-818f-8da20072ff76',\n",
       "   't2d': True,\n",
       "   'depression': True,\n",
       "   'bmi': False,\n",
       "   'hypertension': True,\n",
       "   'smoking': True,\n",
       "   'dob': '1935-10-27',\n",
       "   'race': 'white',\n",
       "   'ethnicity': 'nonhispanic',\n",
       "   'gender': 'M',\n",
       "   'zip': 2474.0,\n",
       "   'eGFR': 9.5,\n",
       "   'age': 87},\n",
       "  'comps': ['ComfortAndPain']},\n",
       " '48': {'config': {'patient_id': '55cc31db-baec-40b5-9b4d-276944000751',\n",
       "   't2d': True,\n",
       "   'depression': False,\n",
       "   'bmi': True,\n",
       "   'hypertension': True,\n",
       "   'smoking': True,\n",
       "   'dob': '1963-08-07',\n",
       "   'race': 'white',\n",
       "   'ethnicity': 'nonhispanic',\n",
       "   'gender': 'M',\n",
       "   'zip': 2364.0,\n",
       "   'eGFR': 78.3,\n",
       "   'age': 59},\n",
       "  'comps': ['Hypertension Management',\n",
       "   'T2D Management',\n",
       "   'Dietary Program',\n",
       "   'Education and Engagement']},\n",
       " '52': {'config': {'patient_id': '2d3e8561-04d7-48eb-8bac-a978d10f5641',\n",
       "   't2d': False,\n",
       "   'depression': False,\n",
       "   'bmi': True,\n",
       "   'hypertension': False,\n",
       "   'smoking': False,\n",
       "   'dob': '1969-05-22',\n",
       "   'race': 'white',\n",
       "   'ethnicity': 'nonhispanic',\n",
       "   'gender': 'M',\n",
       "   'zip': 2138.0,\n",
       "   'eGFR': 77.1,\n",
       "   'age': 53},\n",
       "  'comps': ['Dietary Program', 'Education and Engagement']},\n",
       " '56': {'config': {'patient_id': '7a297104-f0bd-4ca6-aa19-c910e2a45f01',\n",
       "   't2d': False,\n",
       "   'depression': False,\n",
       "   'bmi': True,\n",
       "   'hypertension': False,\n",
       "   'smoking': False,\n",
       "   'dob': '1967-05-17',\n",
       "   'race': 'white',\n",
       "   'ethnicity': 'nonhispanic',\n",
       "   'gender': 'M',\n",
       "   'zip': 1001.0,\n",
       "   'eGFR': 67.2,\n",
       "   'age': 55},\n",
       "  'comps': ['Dietary Program', 'Education and Engagement']},\n",
       " '60': {'config': {'patient_id': '4e83ed9f-f2ed-4add-8434-2fc116de704b',\n",
       "   't2d': True,\n",
       "   'depression': False,\n",
       "   'bmi': False,\n",
       "   'hypertension': False,\n",
       "   'smoking': True,\n",
       "   'dob': '1942-02-05',\n",
       "   'race': 'white',\n",
       "   'ethnicity': 'nonhispanic',\n",
       "   'gender': 'F',\n",
       "   'zip': nan,\n",
       "   'eGFR': 67.2,\n",
       "   'age': 80},\n",
       "  'comps': ['T2D Management']},\n",
       " '64': {'config': {'patient_id': 'af08878c-08dc-4938-aebd-cd5da315c479',\n",
       "   't2d': True,\n",
       "   'depression': False,\n",
       "   'bmi': True,\n",
       "   'hypertension': False,\n",
       "   'smoking': False,\n",
       "   'dob': '1949-07-06',\n",
       "   'race': 'white',\n",
       "   'ethnicity': 'nonhispanic',\n",
       "   'gender': 'M',\n",
       "   'zip': nan,\n",
       "   'eGFR': 5.6,\n",
       "   'age': 73},\n",
       "  'comps': ['Dialysis', 'Education and Engagement', 'Nephro Engagement']},\n",
       " '68': {'config': {'patient_id': '3ef4c7dc-28c2-4436-b0cc-fa858e2e6c90',\n",
       "   't2d': True,\n",
       "   'depression': False,\n",
       "   'bmi': False,\n",
       "   'hypertension': False,\n",
       "   'smoking': False,\n",
       "   'dob': '1957-05-12',\n",
       "   'race': 'white',\n",
       "   'ethnicity': 'nonhispanic',\n",
       "   'gender': 'F',\n",
       "   'zip': 1604.0,\n",
       "   'eGFR': 71.4,\n",
       "   'age': 65},\n",
       "  'comps': ['T2D Management']},\n",
       " '72': {'config': {'patient_id': 'a3abc11b-0fd1-4eb9-a69a-9075b4737612',\n",
       "   't2d': True,\n",
       "   'depression': False,\n",
       "   'bmi': False,\n",
       "   'hypertension': False,\n",
       "   'smoking': False,\n",
       "   'dob': '1911-11-19',\n",
       "   'race': 'white',\n",
       "   'ethnicity': 'nonhispanic',\n",
       "   'gender': 'M',\n",
       "   'zip': nan,\n",
       "   'eGFR': 82.4,\n",
       "   'age': 111},\n",
       "  'comps': ['T2D Management']},\n",
       " '76': {'config': {'patient_id': 'a1f0728e-75f6-4120-b460-b8394bd08c1c',\n",
       "   't2d': False,\n",
       "   'depression': False,\n",
       "   'bmi': True,\n",
       "   'hypertension': False,\n",
       "   'smoking': False,\n",
       "   'dob': '1954-06-10',\n",
       "   'race': 'asian',\n",
       "   'ethnicity': 'nonhispanic',\n",
       "   'gender': 'M',\n",
       "   'zip': 2155.0,\n",
       "   'eGFR': 88.7,\n",
       "   'age': 68},\n",
       "  'comps': ['Additional Time - Health Equity',\n",
       "   'Dietary Program',\n",
       "   'Education and Engagement']},\n",
       " '80': {'config': {'patient_id': '076688b0-f0d5-4c45-8bc6-b206684fa9ac',\n",
       "   't2d': True,\n",
       "   'depression': False,\n",
       "   'bmi': False,\n",
       "   'hypertension': False,\n",
       "   'smoking': False,\n",
       "   'dob': '1959-04-24',\n",
       "   'race': 'white',\n",
       "   'ethnicity': 'nonhispanic',\n",
       "   'gender': 'F',\n",
       "   'zip': nan,\n",
       "   'eGFR': 79.4,\n",
       "   'age': 63},\n",
       "  'comps': ['T2D Management']},\n",
       " '84': {'config': {'patient_id': '3dd2dd29-7cd0-48f7-b859-136c6e9d36e0',\n",
       "   't2d': True,\n",
       "   'depression': False,\n",
       "   'bmi': True,\n",
       "   'hypertension': False,\n",
       "   'smoking': True,\n",
       "   'dob': '1920-05-01',\n",
       "   'race': 'black',\n",
       "   'ethnicity': 'nonhispanic',\n",
       "   'gender': 'M',\n",
       "   'zip': 2126.0,\n",
       "   'eGFR': 88.2,\n",
       "   'age': 102},\n",
       "  'comps': ['T2D Management',\n",
       "   'Additional Time - Health Equity',\n",
       "   'Dietary Program',\n",
       "   'Education and Engagement']},\n",
       " '88': {'config': {'patient_id': 'cf12424d-63da-4fbb-b93f-22308793cafa',\n",
       "   't2d': True,\n",
       "   'depression': False,\n",
       "   'bmi': False,\n",
       "   'hypertension': False,\n",
       "   'smoking': True,\n",
       "   'dob': '1964-02-18',\n",
       "   'race': 'white',\n",
       "   'ethnicity': 'nonhispanic',\n",
       "   'gender': 'M',\n",
       "   'zip': 2492.0,\n",
       "   'eGFR': 78.8,\n",
       "   'age': 58},\n",
       "  'comps': ['T2D Management']},\n",
       " '96': {'config': {'patient_id': 'aa041f6e-348c-4fcc-b3a4-c65d2d38b996',\n",
       "   't2d': True,\n",
       "   'depression': False,\n",
       "   'bmi': False,\n",
       "   'hypertension': False,\n",
       "   'smoking': False,\n",
       "   'dob': '1965-05-18',\n",
       "   'race': 'black',\n",
       "   'ethnicity': 'nonhispanic',\n",
       "   'gender': 'F',\n",
       "   'zip': 2180.0,\n",
       "   'eGFR': 22.5,\n",
       "   'age': 57},\n",
       "  'comps': ['Additional Time - Health Equity',\n",
       "   'Education and Engagement',\n",
       "   'Nephro Engagement']}}"
      ]
     },
     "execution_count": 97,
     "metadata": {},
     "output_type": "execute_result"
    }
   ],
   "source": [
    "tmp"
   ]
  },
  {
   "cell_type": "code",
   "execution_count": null,
   "id": "acfddbce-56df-4ede-86b5-a3bcd93ddf33",
   "metadata": {},
   "outputs": [],
   "source": []
  }
 ],
 "metadata": {
  "kernelspec": {
   "display_name": "nick",
   "language": "python",
   "name": "nick"
  },
  "language_info": {
   "codemirror_mode": {
    "name": "ipython",
    "version": 3
   },
   "file_extension": ".py",
   "mimetype": "text/x-python",
   "name": "python",
   "nbconvert_exporter": "python",
   "pygments_lexer": "ipython3",
   "version": "3.6.13"
  }
 },
 "nbformat": 4,
 "nbformat_minor": 5
}
