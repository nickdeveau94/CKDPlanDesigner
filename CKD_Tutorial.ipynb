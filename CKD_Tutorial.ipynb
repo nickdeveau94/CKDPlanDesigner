{
 "cells": [
  {
   "cell_type": "markdown",
   "id": "7a28a8b4-986e-410a-92e9-60f301f4090c",
   "metadata": {},
   "source": [
    "# CKD Plan Designer Tutorial"
   ]
  },
  {
   "cell_type": "markdown",
   "id": "e3ce6045-ff9b-4c9c-a269-916bebe9e460",
   "metadata": {},
   "source": [
    "## Install CKDPlanDesigner Package"
   ]
  },
  {
   "cell_type": "code",
   "execution_count": 63,
   "id": "e8b31d2c-d350-4a06-b403-40ba34cf9d30",
   "metadata": {},
   "outputs": [
    {
     "name": "stdout",
     "output_type": "stream",
     "text": [
      "Obtaining file:///Users/nicholasdeveau/projects/bmi210/bmi210Project/project_code\n",
      "  Preparing metadata (setup.py) ... \u001b[?25ldone\n",
      "\u001b[?25hInstalling collected packages: CKDPlanDesigner\n",
      "  Attempting uninstall: CKDPlanDesigner\n",
      "    Found existing installation: CKDPlanDesigner 0.0.0\n",
      "    Uninstalling CKDPlanDesigner-0.0.0:\n",
      "      Successfully uninstalled CKDPlanDesigner-0.0.0\n",
      "  Running setup.py develop for CKDPlanDesigner\n",
      "Successfully installed CKDPlanDesigner-0.0.0\n"
     ]
    }
   ],
   "source": [
    "! pip install -e project_code/"
   ]
  },
  {
   "cell_type": "markdown",
   "id": "08344a32-d393-499b-a340-306a6a9b4dad",
   "metadata": {},
   "source": [
    "## Load Data\n",
    "- This tutorial uses the freely available synthea example dataset\n",
    "    - Download it here: https://synthetichealth.github.io/synthea-sample-data/downloads/synthea_sample_data_csv_apr2020.zip\n",
    "    - unzip it to SYNTHEA_PATH\n",
    " "
   ]
  },
  {
   "cell_type": "code",
   "execution_count": 64,
   "id": "5167e07f-2a4a-4309-b3fd-e3871d801ae8",
   "metadata": {},
   "outputs": [
    {
     "name": "stdout",
     "output_type": "stream",
     "text": [
      "The autoreload extension is already loaded. To reload it, use:\n",
      "  %reload_ext autoreload\n"
     ]
    }
   ],
   "source": [
    "import pandas as pd\n",
    "import os\n",
    "\n",
    "from CKDPlanDesigner.utils import data_preprocessing as pre\n",
    "\n",
    "%load_ext autoreload\n",
    "%autoreload"
   ]
  },
  {
   "cell_type": "code",
   "execution_count": 68,
   "id": "aab6ca27-a6c8-4951-a11c-0e6c4647d782",
   "metadata": {},
   "outputs": [],
   "source": [
    "SYNTHEA_PATH = '/Users/nicholasdeveau/projects/bmi210/bmi210Project_data/synthea_data/'"
   ]
  },
  {
   "cell_type": "markdown",
   "id": "a3349974-4f88-40dc-a43e-144f0aaca54f",
   "metadata": {},
   "source": [
    "#### Here we build our patient dataframe\n",
    "- This contains a vecor for each patient containing the required information for plan designing "
   ]
  },
  {
   "cell_type": "code",
   "execution_count": 69,
   "id": "8b6656b1-fcc5-42cd-b53c-7da2673bc738",
   "metadata": {},
   "outputs": [],
   "source": [
    "patients_df = pre.preprocess_synthea_data(SYNTHEA_PATH)"
   ]
  },
  {
   "cell_type": "code",
   "execution_count": 71,
   "id": "92b841d9-0cb2-471a-a10a-0af551e2f966",
   "metadata": {},
   "outputs": [
    {
     "data": {
      "text/html": [
       "<div>\n",
       "<style scoped>\n",
       "    .dataframe tbody tr th:only-of-type {\n",
       "        vertical-align: middle;\n",
       "    }\n",
       "\n",
       "    .dataframe tbody tr th {\n",
       "        vertical-align: top;\n",
       "    }\n",
       "\n",
       "    .dataframe thead th {\n",
       "        text-align: right;\n",
       "    }\n",
       "</style>\n",
       "<table border=\"1\" class=\"dataframe\">\n",
       "  <thead>\n",
       "    <tr style=\"text-align: right;\">\n",
       "      <th></th>\n",
       "      <th>patient_id</th>\n",
       "      <th>t2d</th>\n",
       "      <th>depression</th>\n",
       "      <th>bmi</th>\n",
       "      <th>hypertension</th>\n",
       "      <th>smoking</th>\n",
       "      <th>dob</th>\n",
       "      <th>race</th>\n",
       "      <th>ethnicity</th>\n",
       "      <th>gender</th>\n",
       "      <th>zip</th>\n",
       "      <th>eGFR</th>\n",
       "    </tr>\n",
       "  </thead>\n",
       "  <tbody>\n",
       "    <tr>\n",
       "      <th>0</th>\n",
       "      <td>c8403116-d069-4130-aa02-39954fc971b5</td>\n",
       "      <td>True</td>\n",
       "      <td>False</td>\n",
       "      <td>False</td>\n",
       "      <td>False</td>\n",
       "      <td>False</td>\n",
       "      <td>1967-03-26</td>\n",
       "      <td>white</td>\n",
       "      <td>nonhispanic</td>\n",
       "      <td>F</td>\n",
       "      <td>NaN</td>\n",
       "      <td>66.9</td>\n",
       "    </tr>\n",
       "    <tr>\n",
       "      <th>1</th>\n",
       "      <td>73f124a4-e69e-4b8c-a447-e72d23dc54be</td>\n",
       "      <td>True</td>\n",
       "      <td>False</td>\n",
       "      <td>False</td>\n",
       "      <td>True</td>\n",
       "      <td>True</td>\n",
       "      <td>1967-06-14</td>\n",
       "      <td>white</td>\n",
       "      <td>nonhispanic</td>\n",
       "      <td>F</td>\n",
       "      <td>2170.0</td>\n",
       "      <td>70.5</td>\n",
       "    </tr>\n",
       "    <tr>\n",
       "      <th>2</th>\n",
       "      <td>31459cc4-45ed-4dee-b160-9f1a148a7724</td>\n",
       "      <td>False</td>\n",
       "      <td>False</td>\n",
       "      <td>True</td>\n",
       "      <td>False</td>\n",
       "      <td>False</td>\n",
       "      <td>1968-08-15</td>\n",
       "      <td>white</td>\n",
       "      <td>nonhispanic</td>\n",
       "      <td>M</td>\n",
       "      <td>NaN</td>\n",
       "      <td>75.4</td>\n",
       "    </tr>\n",
       "    <tr>\n",
       "      <th>3</th>\n",
       "      <td>1d7fe784-8667-47e8-b733-8e6ec0fbb5f9</td>\n",
       "      <td>False</td>\n",
       "      <td>False</td>\n",
       "      <td>True</td>\n",
       "      <td>False</td>\n",
       "      <td>False</td>\n",
       "      <td>1940-04-05</td>\n",
       "      <td>white</td>\n",
       "      <td>nonhispanic</td>\n",
       "      <td>F</td>\n",
       "      <td>NaN</td>\n",
       "      <td>83.0</td>\n",
       "    </tr>\n",
       "    <tr>\n",
       "      <th>4</th>\n",
       "      <td>cdef53d5-0537-4073-8874-79fa5e0346e6</td>\n",
       "      <td>True</td>\n",
       "      <td>False</td>\n",
       "      <td>True</td>\n",
       "      <td>True</td>\n",
       "      <td>True</td>\n",
       "      <td>1940-04-05</td>\n",
       "      <td>white</td>\n",
       "      <td>nonhispanic</td>\n",
       "      <td>F</td>\n",
       "      <td>NaN</td>\n",
       "      <td>145.2</td>\n",
       "    </tr>\n",
       "  </tbody>\n",
       "</table>\n",
       "</div>"
      ],
      "text/plain": [
       "                             patient_id    t2d  depression    bmi  \\\n",
       "0  c8403116-d069-4130-aa02-39954fc971b5   True       False  False   \n",
       "1  73f124a4-e69e-4b8c-a447-e72d23dc54be   True       False  False   \n",
       "2  31459cc4-45ed-4dee-b160-9f1a148a7724  False       False   True   \n",
       "3  1d7fe784-8667-47e8-b733-8e6ec0fbb5f9  False       False   True   \n",
       "4  cdef53d5-0537-4073-8874-79fa5e0346e6   True       False   True   \n",
       "\n",
       "   hypertension  smoking         dob   race    ethnicity gender     zip   eGFR  \n",
       "0         False    False  1967-03-26  white  nonhispanic      F     NaN   66.9  \n",
       "1          True     True  1967-06-14  white  nonhispanic      F  2170.0   70.5  \n",
       "2         False    False  1968-08-15  white  nonhispanic      M     NaN   75.4  \n",
       "3         False    False  1940-04-05  white  nonhispanic      F     NaN   83.0  \n",
       "4          True     True  1940-04-05  white  nonhispanic      F     NaN  145.2  "
      ]
     },
     "execution_count": 71,
     "metadata": {},
     "output_type": "execute_result"
    }
   ],
   "source": [
    "patients_df.head()"
   ]
  },
  {
   "cell_type": "markdown",
   "id": "873368e9-14c2-4aa5-9a05-01537333a026",
   "metadata": {},
   "source": [
    "## Working With a Patient"
   ]
  },
  {
   "cell_type": "code",
   "execution_count": 72,
   "id": "882e1d49-8fff-4aec-9d3f-f20a47befe07",
   "metadata": {},
   "outputs": [
    {
     "name": "stdout",
     "output_type": "stream",
     "text": [
      "The autoreload extension is already loaded. To reload it, use:\n",
      "  %reload_ext autoreload\n"
     ]
    }
   ],
   "source": [
    "from CKDPlanDesigner.models import patients\n",
    "%load_ext autoreload\n",
    "%autoreload"
   ]
  },
  {
   "cell_type": "code",
   "execution_count": 74,
   "id": "c7c06e81-bb73-43a3-84ef-5edd28e8e6e7",
   "metadata": {},
   "outputs": [],
   "source": [
    "patient1_config = patients_df.to_dict(orient='index')[0]"
   ]
  },
  {
   "cell_type": "code",
   "execution_count": 77,
   "id": "7313ff51-4f1f-4e55-b9a9-ae9954dd06f2",
   "metadata": {},
   "outputs": [
    {
     "data": {
      "text/plain": [
       "{'patient_id': 'c8403116-d069-4130-aa02-39954fc971b5',\n",
       " 't2d': True,\n",
       " 'depression': False,\n",
       " 'bmi': False,\n",
       " 'hypertension': False,\n",
       " 'smoking': False,\n",
       " 'dob': '1967-03-26',\n",
       " 'race': 'white',\n",
       " 'ethnicity': 'nonhispanic',\n",
       " 'gender': 'F',\n",
       " 'zip': nan,\n",
       " 'eGFR': 66.9}"
      ]
     },
     "execution_count": 77,
     "metadata": {},
     "output_type": "execute_result"
    }
   ],
   "source": [
    "patient1_config"
   ]
  },
  {
   "cell_type": "code",
   "execution_count": 76,
   "id": "6e9d3072-c056-4ac4-9555-66e31d847e70",
   "metadata": {},
   "outputs": [],
   "source": [
    "# patient_config = {'patient_id': 123,2\n",
    "#                   'eGFR': 70,\n",
    "#                   'depression': True\n",
    "#                  }\n",
    "\n",
    "\n",
    "# select the first patient and convert feature vector to a dictionary\n",
    "# we pass this dictionary to the patient class on instantiation\n",
    "patient1_config = patients_df.to_dict(orient='index')[0]\n",
    "p1 = patients.Patient(**patient1_config)\n",
    "\n",
    "patient2_config = patients_df.to_dict(orient='index')[40]\n",
    "p2 = patients.Patient(**patient2_config)"
   ]
  },
  {
   "cell_type": "markdown",
   "id": "97f73ada-0f6b-48fa-8914-414a375532ad",
   "metadata": {},
   "source": [
    "#### Look at patient 1's charecteristics"
   ]
  },
  {
   "cell_type": "code",
   "execution_count": 54,
   "id": "74b936ce-c308-4206-a295-2dae79c1d30b",
   "metadata": {},
   "outputs": [
    {
     "data": {
      "text/plain": [
       "{'patient_id': 'c8403116-d069-4130-aa02-39954fc971b5',\n",
       " 't2d': True,\n",
       " 'depression': False,\n",
       " 'bmi': False,\n",
       " 'hypertension': False,\n",
       " 'smoking': False,\n",
       " 'dob': '1967-03-26',\n",
       " 'race': 'white',\n",
       " 'ethnicity': 'nonhispanic',\n",
       " 'gender': 'F',\n",
       " 'zip': nan,\n",
       " 'eGFR': 66.9}"
      ]
     },
     "execution_count": 54,
     "metadata": {},
     "output_type": "execute_result"
    }
   ],
   "source": [
    "p1.patient_config"
   ]
  },
  {
   "cell_type": "code",
   "execution_count": 55,
   "id": "30c05c8b-a422-4580-b46b-a8d490f7e327",
   "metadata": {},
   "outputs": [
    {
     "data": {
      "text/plain": [
       "<CKDPlanDesigner.models.stages.Stage2 at 0x7fad40a0a898>"
      ]
     },
     "execution_count": 55,
     "metadata": {},
     "output_type": "execute_result"
    }
   ],
   "source": [
    "# we automatically assign a CKD stage when a patient is created\n",
    "p1.stage"
   ]
  },
  {
   "cell_type": "markdown",
   "id": "9c13e24a-43a4-4515-b5e6-297eed671ec4",
   "metadata": {},
   "source": [
    "### Generate a care plan"
   ]
  },
  {
   "cell_type": "code",
   "execution_count": 83,
   "id": "c2469b60-63e0-4bfd-9df7-e7c719b4eb2d",
   "metadata": {},
   "outputs": [
    {
     "name": "stdout",
     "output_type": "stream",
     "text": [
      "Plan: Delay\n"
     ]
    }
   ],
   "source": [
    "p1.generate_careplan()\n",
    "print(p1.careplan.plan_name)"
   ]
  },
  {
   "cell_type": "code",
   "execution_count": 86,
   "id": "770d7b6f-7ea9-48d8-899d-b9927f052d7b",
   "metadata": {},
   "outputs": [
    {
     "data": {
      "text/plain": [
       "{'patient_id': 'c8403116-d069-4130-aa02-39954fc971b5',\n",
       " 't2d': True,\n",
       " 'depression': False,\n",
       " 'bmi': False,\n",
       " 'hypertension': False,\n",
       " 'smoking': False,\n",
       " 'dob': '1967-03-26',\n",
       " 'race': 'white',\n",
       " 'ethnicity': 'nonhispanic',\n",
       " 'gender': 'F',\n",
       " 'zip': nan,\n",
       " 'eGFR': 66.9}"
      ]
     },
     "execution_count": 86,
     "metadata": {},
     "output_type": "execute_result"
    }
   ],
   "source": [
    "p1.patient_config"
   ]
  },
  {
   "cell_type": "code",
   "execution_count": 84,
   "id": "48fc1d11-3731-45bf-b18f-3da891edcfc5",
   "metadata": {},
   "outputs": [
    {
     "data": {
      "text/plain": [
       "<CKDPlanDesigner.models.plans.DelayPlan at 0x7fad21fab438>"
      ]
     },
     "execution_count": 84,
     "metadata": {},
     "output_type": "execute_result"
    }
   ],
   "source": [
    "p1.careplan"
   ]
  },
  {
   "cell_type": "code",
   "execution_count": 85,
   "id": "73217ee3-36f4-4756-bf63-c80bea72b0cc",
   "metadata": {},
   "outputs": [
    {
     "name": "stdout",
     "output_type": "stream",
     "text": [
      "Plan Components\n"
     ]
    },
    {
     "data": {
      "text/plain": [
       "[('T2D Management', 'Cost Reduction: 0.65')]"
      ]
     },
     "execution_count": 85,
     "metadata": {},
     "output_type": "execute_result"
    }
   ],
   "source": [
    "p1.careplan.list_components()"
   ]
  },
  {
   "cell_type": "markdown",
   "id": "8eae8b3e-3f2e-462c-a534-fc3dc1978c20",
   "metadata": {},
   "source": [
    "### Try it out for a different patient\n",
    "- This patient has more co-morbidities. Check them out!\n",
    "- Because of this, we should expect a more comprehensive care plan even though they're still just stage 2"
   ]
  },
  {
   "cell_type": "code",
   "execution_count": 58,
   "id": "231b2944-fb6b-46a6-bac3-ba7e134905ea",
   "metadata": {},
   "outputs": [
    {
     "data": {
      "text/plain": [
       "{'patient_id': nan,\n",
       " 't2d': True,\n",
       " 'depression': True,\n",
       " 'bmi': True,\n",
       " 'hypertension': True,\n",
       " 'smoking': True,\n",
       " 'dob': nan,\n",
       " 'race': nan,\n",
       " 'ethnicity': nan,\n",
       " 'gender': nan,\n",
       " 'zip': nan,\n",
       " 'eGFR': nan}"
      ]
     },
     "execution_count": 58,
     "metadata": {},
     "output_type": "execute_result"
    }
   ],
   "source": [
    "p2.patient_config"
   ]
  },
  {
   "cell_type": "code",
   "execution_count": 59,
   "id": "9153e3e9-71c9-47bb-9827-6e8fbd31add2",
   "metadata": {},
   "outputs": [
    {
     "data": {
      "text/plain": [
       "<CKDPlanDesigner.models.stages.Stage2 at 0x7fad40a0a4e0>"
      ]
     },
     "execution_count": 59,
     "metadata": {},
     "output_type": "execute_result"
    }
   ],
   "source": [
    "p2.stage"
   ]
  },
  {
   "cell_type": "code",
   "execution_count": 87,
   "id": "43a3fa7b-19ba-4671-996c-1663a4c1c53d",
   "metadata": {},
   "outputs": [
    {
     "name": "stdout",
     "output_type": "stream",
     "text": [
      "Plan Components\n"
     ]
    },
    {
     "data": {
      "text/plain": [
       "['Hypertension Management',\n",
       " 'T2D Management',\n",
       " 'Additional Time - Health Equity',\n",
       " 'Depression Treatment',\n",
       " 'Dietary Program']"
      ]
     },
     "execution_count": 87,
     "metadata": {},
     "output_type": "execute_result"
    }
   ],
   "source": [
    "p2.generate_careplan()\n",
    "p2.careplan.list_components(show_savings=False)"
   ]
  },
  {
   "cell_type": "code",
   "execution_count": 88,
   "id": "67cfd598-8043-4a6f-9b80-3a8408382320",
   "metadata": {},
   "outputs": [
    {
     "data": {
      "text/plain": [
       "{'patient_id': nan,\n",
       " 't2d': True,\n",
       " 'depression': True,\n",
       " 'bmi': True,\n",
       " 'hypertension': True,\n",
       " 'smoking': True,\n",
       " 'dob': nan,\n",
       " 'race': nan,\n",
       " 'ethnicity': nan,\n",
       " 'gender': nan,\n",
       " 'zip': nan,\n",
       " 'eGFR': nan}"
      ]
     },
     "execution_count": 88,
     "metadata": {},
     "output_type": "execute_result"
    }
   ],
   "source": [
    "p2.patient_config"
   ]
  },
  {
   "cell_type": "code",
   "execution_count": 89,
   "id": "9d84f051-b294-493a-b572-c1ec5b48b735",
   "metadata": {},
   "outputs": [
    {
     "data": {
      "text/plain": [
       "<CKDPlanDesigner.models.stages.Stage2 at 0x7fad4114b3c8>"
      ]
     },
     "execution_count": 89,
     "metadata": {},
     "output_type": "execute_result"
    }
   ],
   "source": [
    "p2.stage"
   ]
  },
  {
   "cell_type": "code",
   "execution_count": 91,
   "id": "61534a39-fc83-4327-90bc-99e8c6e5170a",
   "metadata": {},
   "outputs": [
    {
     "name": "stdout",
     "output_type": "stream",
     "text": [
      "Plan Components\n"
     ]
    },
    {
     "data": {
      "text/plain": [
       "['Hypertension Management',\n",
       " 'T2D Management',\n",
       " 'Additional Time - Health Equity',\n",
       " 'Depression Treatment',\n",
       " 'Dietary Program']"
      ]
     },
     "execution_count": 91,
     "metadata": {},
     "output_type": "execute_result"
    }
   ],
   "source": [
    "p2.careplan.list_components(show_savings=False)"
   ]
  },
  {
   "cell_type": "code",
   "execution_count": null,
   "id": "1f794fdc-b5df-402e-8d39-1daf7a8ea314",
   "metadata": {},
   "outputs": [],
   "source": [
    "\"\"\"\n",
    "1) profile patient (patient_config)\n",
    "2) classified into disease (patient.stage)\n",
    "3) unoptimized charecteristics (trey creating this in the ontology)\n",
    "    3a) unoptimmized = some min number of \"bad\" criteria (from patient_config)\n",
    "\"\"\""
   ]
  },
  {
   "cell_type": "code",
   "execution_count": null,
   "id": "2d8dfde8-a354-4ebb-9c27-9f19a056186d",
   "metadata": {},
   "outputs": [],
   "source": []
  }
 ],
 "metadata": {
  "kernelspec": {
   "display_name": "nick",
   "language": "python",
   "name": "nick"
  },
  "language_info": {
   "codemirror_mode": {
    "name": "ipython",
    "version": 3
   },
   "file_extension": ".py",
   "mimetype": "text/x-python",
   "name": "python",
   "nbconvert_exporter": "python",
   "pygments_lexer": "ipython3",
   "version": "3.6.13"
  }
 },
 "nbformat": 4,
 "nbformat_minor": 5
}
