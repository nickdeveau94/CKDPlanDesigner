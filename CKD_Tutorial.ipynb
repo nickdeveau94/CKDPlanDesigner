{
 "cells": [
  {
   "cell_type": "markdown",
   "id": "7a28a8b4-986e-410a-92e9-60f301f4090c",
   "metadata": {},
   "source": [
    "# CKD Plan Designer Tutorial"
   ]
  },
  {
   "cell_type": "markdown",
   "id": "e3ce6045-ff9b-4c9c-a269-916bebe9e460",
   "metadata": {},
   "source": [
    "## Install CKDPlanDesigner Package"
   ]
  },
  {
   "cell_type": "code",
   "execution_count": 1,
   "id": "e8b31d2c-d350-4a06-b403-40ba34cf9d30",
   "metadata": {},
   "outputs": [
    {
     "name": "stdout",
     "output_type": "stream",
     "text": [
      "Obtaining file:///Users/nicholasdeveau/projects/bmi210/bmi210Project/project_code\n",
      "  Preparing metadata (setup.py) ... \u001b[?25ldone\n",
      "\u001b[?25hInstalling collected packages: CKDPlanDesigner\n",
      "  Attempting uninstall: CKDPlanDesigner\n",
      "    Found existing installation: CKDPlanDesigner 0.0.0\n",
      "    Uninstalling CKDPlanDesigner-0.0.0:\n",
      "      Successfully uninstalled CKDPlanDesigner-0.0.0\n",
      "  Running setup.py develop for CKDPlanDesigner\n",
      "Successfully installed CKDPlanDesigner-0.0.0\n"
     ]
    }
   ],
   "source": [
    "! pip install -e project_code/"
   ]
  },
  {
   "cell_type": "markdown",
   "id": "08344a32-d393-499b-a340-306a6a9b4dad",
   "metadata": {},
   "source": [
    "## Load Data\n",
    "- This tutorial uses the freely available synthea example dataset\n",
    "    - Download it here: https://synthetichealth.github.io/synthea-sample-data/downloads/synthea_sample_data_csv_apr2020.zip\n",
    "    - unzip it to SYNTHEA_PATH\n",
    " "
   ]
  },
  {
   "cell_type": "code",
   "execution_count": 1,
   "id": "5167e07f-2a4a-4309-b3fd-e3871d801ae8",
   "metadata": {},
   "outputs": [],
   "source": [
    "import pandas as pd\n",
    "import os\n",
    "\n",
    "from CKDPlanDesigner.utils import data_preprocessing as pre"
   ]
  },
  {
   "cell_type": "code",
   "execution_count": 2,
   "id": "aab6ca27-a6c8-4951-a11c-0e6c4647d782",
   "metadata": {},
   "outputs": [],
   "source": [
    "SYNTHEA_PATH = '/Users/nicholasdeveau/projects/bmi210/bmi210Project_data/synthea_data/'"
   ]
  },
  {
   "cell_type": "markdown",
   "id": "a3349974-4f88-40dc-a43e-144f0aaca54f",
   "metadata": {},
   "source": [
    "#### Here we build our patient dataframe\n",
    "- This contains a vecor for each patient containing the required information for plan designing "
   ]
  },
  {
   "cell_type": "code",
   "execution_count": 3,
   "id": "8b6656b1-fcc5-42cd-b53c-7da2673bc738",
   "metadata": {},
   "outputs": [
    {
     "name": "stderr",
     "output_type": "stream",
     "text": [
      "/Users/nicholasdeveau/projects/bmi210/bmi210Project/project_code/src/CKDPlanDesigner/utils/data_preprocessing.py:30: SettingWithCopyWarning: \n",
      "A value is trying to be set on a copy of a slice from a DataFrame.\n",
      "Try using .loc[row_indexer,col_indexer] = value instead\n",
      "\n",
      "See the caveats in the documentation: https://pandas.pydata.org/pandas-docs/stable/user_guide/indexing.html#returning-a-view-versus-a-copy\n",
      "  sel_cond_df['VALUE'] = 1\n"
     ]
    }
   ],
   "source": [
    "patients_df = pre.preprocess_synthea_data(SYNTHEA_PATH)"
   ]
  },
  {
   "cell_type": "code",
   "execution_count": 4,
   "id": "92b841d9-0cb2-471a-a10a-0af551e2f966",
   "metadata": {},
   "outputs": [
    {
     "data": {
      "text/html": [
       "<div>\n",
       "<style scoped>\n",
       "    .dataframe tbody tr th:only-of-type {\n",
       "        vertical-align: middle;\n",
       "    }\n",
       "\n",
       "    .dataframe tbody tr th {\n",
       "        vertical-align: top;\n",
       "    }\n",
       "\n",
       "    .dataframe thead th {\n",
       "        text-align: right;\n",
       "    }\n",
       "</style>\n",
       "<table border=\"1\" class=\"dataframe\">\n",
       "  <thead>\n",
       "    <tr style=\"text-align: right;\">\n",
       "      <th></th>\n",
       "      <th>patient_id</th>\n",
       "      <th>t2d</th>\n",
       "      <th>depression</th>\n",
       "      <th>bmi</th>\n",
       "      <th>hypertension</th>\n",
       "      <th>smoking</th>\n",
       "      <th>dob</th>\n",
       "      <th>race</th>\n",
       "      <th>ethnicity</th>\n",
       "      <th>gender</th>\n",
       "      <th>zip</th>\n",
       "      <th>eGFR</th>\n",
       "    </tr>\n",
       "  </thead>\n",
       "  <tbody>\n",
       "    <tr>\n",
       "      <th>47</th>\n",
       "      <td>ba190ea7-9318-4b89-a17a-907a71ef24fa</td>\n",
       "      <td>True</td>\n",
       "      <td>False</td>\n",
       "      <td>True</td>\n",
       "      <td>True</td>\n",
       "      <td>True</td>\n",
       "      <td>1923-05-15</td>\n",
       "      <td>white</td>\n",
       "      <td>nonhispanic</td>\n",
       "      <td>F</td>\n",
       "      <td>NaN</td>\n",
       "      <td>18.0</td>\n",
       "    </tr>\n",
       "    <tr>\n",
       "      <th>53</th>\n",
       "      <td>3f336702-bf73-4fc8-bd59-3ba77fd65d0d</td>\n",
       "      <td>True</td>\n",
       "      <td>False</td>\n",
       "      <td>True</td>\n",
       "      <td>False</td>\n",
       "      <td>True</td>\n",
       "      <td>1923-06-22</td>\n",
       "      <td>white</td>\n",
       "      <td>nonhispanic</td>\n",
       "      <td>M</td>\n",
       "      <td>NaN</td>\n",
       "      <td>16.0</td>\n",
       "    </tr>\n",
       "    <tr>\n",
       "      <th>56</th>\n",
       "      <td>d0bbc03d-df4e-44e3-ad4c-b5739dd67887</td>\n",
       "      <td>True</td>\n",
       "      <td>False</td>\n",
       "      <td>False</td>\n",
       "      <td>True</td>\n",
       "      <td>False</td>\n",
       "      <td>1949-03-16</td>\n",
       "      <td>white</td>\n",
       "      <td>nonhispanic</td>\n",
       "      <td>M</td>\n",
       "      <td>NaN</td>\n",
       "      <td>18.9</td>\n",
       "    </tr>\n",
       "    <tr>\n",
       "      <th>67</th>\n",
       "      <td>a49b8342-1954-48dc-9322-24bbfe3662c5</td>\n",
       "      <td>True</td>\n",
       "      <td>False</td>\n",
       "      <td>False</td>\n",
       "      <td>False</td>\n",
       "      <td>False</td>\n",
       "      <td>1913-05-30</td>\n",
       "      <td>black</td>\n",
       "      <td>nonhispanic</td>\n",
       "      <td>M</td>\n",
       "      <td>2119.0</td>\n",
       "      <td>16.9</td>\n",
       "    </tr>\n",
       "    <tr>\n",
       "      <th>91</th>\n",
       "      <td>6dafa93d-3698-4124-9bbd-7429cc2a7374</td>\n",
       "      <td>False</td>\n",
       "      <td>False</td>\n",
       "      <td>True</td>\n",
       "      <td>True</td>\n",
       "      <td>False</td>\n",
       "      <td>1953-01-20</td>\n",
       "      <td>white</td>\n",
       "      <td>nonhispanic</td>\n",
       "      <td>M</td>\n",
       "      <td>1602.0</td>\n",
       "      <td>19.3</td>\n",
       "    </tr>\n",
       "    <tr>\n",
       "      <th>93</th>\n",
       "      <td>dda6a788-814a-48f2-8ebe-bc57e4cefd92</td>\n",
       "      <td>True</td>\n",
       "      <td>False</td>\n",
       "      <td>True</td>\n",
       "      <td>False</td>\n",
       "      <td>True</td>\n",
       "      <td>1942-07-23</td>\n",
       "      <td>white</td>\n",
       "      <td>nonhispanic</td>\n",
       "      <td>F</td>\n",
       "      <td>2140.0</td>\n",
       "      <td>16.1</td>\n",
       "    </tr>\n",
       "    <tr>\n",
       "      <th>107</th>\n",
       "      <td>e234ae17-7d4d-4d7f-8eb6-38edc1ebebc2</td>\n",
       "      <td>False</td>\n",
       "      <td>False</td>\n",
       "      <td>True</td>\n",
       "      <td>True</td>\n",
       "      <td>True</td>\n",
       "      <td>1911-12-23</td>\n",
       "      <td>white</td>\n",
       "      <td>nonhispanic</td>\n",
       "      <td>M</td>\n",
       "      <td>NaN</td>\n",
       "      <td>18.0</td>\n",
       "    </tr>\n",
       "    <tr>\n",
       "      <th>109</th>\n",
       "      <td>a2e8d9a7-0eb0-4441-adb5-7cc720380f4e</td>\n",
       "      <td>False</td>\n",
       "      <td>False</td>\n",
       "      <td>True</td>\n",
       "      <td>False</td>\n",
       "      <td>False</td>\n",
       "      <td>1911-12-23</td>\n",
       "      <td>white</td>\n",
       "      <td>nonhispanic</td>\n",
       "      <td>M</td>\n",
       "      <td>NaN</td>\n",
       "      <td>19.3</td>\n",
       "    </tr>\n",
       "    <tr>\n",
       "      <th>141</th>\n",
       "      <td>941f66eb-5ca6-45cc-b205-6de1f1a59233</td>\n",
       "      <td>True</td>\n",
       "      <td>False</td>\n",
       "      <td>True</td>\n",
       "      <td>True</td>\n",
       "      <td>False</td>\n",
       "      <td>1965-02-12</td>\n",
       "      <td>black</td>\n",
       "      <td>nonhispanic</td>\n",
       "      <td>M</td>\n",
       "      <td>NaN</td>\n",
       "      <td>18.0</td>\n",
       "    </tr>\n",
       "    <tr>\n",
       "      <th>143</th>\n",
       "      <td>2e00e359-abc8-49aa-b98c-c0cc554acf34</td>\n",
       "      <td>False</td>\n",
       "      <td>False</td>\n",
       "      <td>True</td>\n",
       "      <td>False</td>\n",
       "      <td>True</td>\n",
       "      <td>1951-02-22</td>\n",
       "      <td>white</td>\n",
       "      <td>nonhispanic</td>\n",
       "      <td>F</td>\n",
       "      <td>NaN</td>\n",
       "      <td>16.2</td>\n",
       "    </tr>\n",
       "    <tr>\n",
       "      <th>155</th>\n",
       "      <td>42d200ef-0872-4318-8326-08cd7056b2db</td>\n",
       "      <td>True</td>\n",
       "      <td>False</td>\n",
       "      <td>True</td>\n",
       "      <td>False</td>\n",
       "      <td>False</td>\n",
       "      <td>1948-03-23</td>\n",
       "      <td>white</td>\n",
       "      <td>nonhispanic</td>\n",
       "      <td>F</td>\n",
       "      <td>NaN</td>\n",
       "      <td>20.0</td>\n",
       "    </tr>\n",
       "    <tr>\n",
       "      <th>176</th>\n",
       "      <td>703e4c46-ded2-4797-97fe-57fedda2825f</td>\n",
       "      <td>False</td>\n",
       "      <td>False</td>\n",
       "      <td>True</td>\n",
       "      <td>False</td>\n",
       "      <td>True</td>\n",
       "      <td>1941-12-23</td>\n",
       "      <td>white</td>\n",
       "      <td>nonhispanic</td>\n",
       "      <td>F</td>\n",
       "      <td>NaN</td>\n",
       "      <td>16.1</td>\n",
       "    </tr>\n",
       "  </tbody>\n",
       "</table>\n",
       "</div>"
      ],
      "text/plain": [
       "                               patient_id    t2d  depression    bmi  \\\n",
       "47   ba190ea7-9318-4b89-a17a-907a71ef24fa   True       False   True   \n",
       "53   3f336702-bf73-4fc8-bd59-3ba77fd65d0d   True       False   True   \n",
       "56   d0bbc03d-df4e-44e3-ad4c-b5739dd67887   True       False  False   \n",
       "67   a49b8342-1954-48dc-9322-24bbfe3662c5   True       False  False   \n",
       "91   6dafa93d-3698-4124-9bbd-7429cc2a7374  False       False   True   \n",
       "93   dda6a788-814a-48f2-8ebe-bc57e4cefd92   True       False   True   \n",
       "107  e234ae17-7d4d-4d7f-8eb6-38edc1ebebc2  False       False   True   \n",
       "109  a2e8d9a7-0eb0-4441-adb5-7cc720380f4e  False       False   True   \n",
       "141  941f66eb-5ca6-45cc-b205-6de1f1a59233   True       False   True   \n",
       "143  2e00e359-abc8-49aa-b98c-c0cc554acf34  False       False   True   \n",
       "155  42d200ef-0872-4318-8326-08cd7056b2db   True       False   True   \n",
       "176  703e4c46-ded2-4797-97fe-57fedda2825f  False       False   True   \n",
       "\n",
       "     hypertension  smoking         dob   race    ethnicity gender     zip  \\\n",
       "47           True     True  1923-05-15  white  nonhispanic      F     NaN   \n",
       "53          False     True  1923-06-22  white  nonhispanic      M     NaN   \n",
       "56           True    False  1949-03-16  white  nonhispanic      M     NaN   \n",
       "67          False    False  1913-05-30  black  nonhispanic      M  2119.0   \n",
       "91           True    False  1953-01-20  white  nonhispanic      M  1602.0   \n",
       "93          False     True  1942-07-23  white  nonhispanic      F  2140.0   \n",
       "107          True     True  1911-12-23  white  nonhispanic      M     NaN   \n",
       "109         False    False  1911-12-23  white  nonhispanic      M     NaN   \n",
       "141          True    False  1965-02-12  black  nonhispanic      M     NaN   \n",
       "143         False     True  1951-02-22  white  nonhispanic      F     NaN   \n",
       "155         False    False  1948-03-23  white  nonhispanic      F     NaN   \n",
       "176         False     True  1941-12-23  white  nonhispanic      F     NaN   \n",
       "\n",
       "     eGFR  \n",
       "47   18.0  \n",
       "53   16.0  \n",
       "56   18.9  \n",
       "67   16.9  \n",
       "91   19.3  \n",
       "93   16.1  \n",
       "107  18.0  \n",
       "109  19.3  \n",
       "141  18.0  \n",
       "143  16.2  \n",
       "155  20.0  \n",
       "176  16.1  "
      ]
     },
     "execution_count": 4,
     "metadata": {},
     "output_type": "execute_result"
    }
   ],
   "source": [
    "patients_df[patients_df.eGFR.between(16,20)]"
   ]
  },
  {
   "cell_type": "markdown",
   "id": "873368e9-14c2-4aa5-9a05-01537333a026",
   "metadata": {},
   "source": [
    "## Working With a Patient"
   ]
  },
  {
   "cell_type": "code",
   "execution_count": 5,
   "id": "882e1d49-8fff-4aec-9d3f-f20a47befe07",
   "metadata": {},
   "outputs": [],
   "source": [
    "from CKDPlanDesigner.models import patients, plans, interventions\n",
    "%load_ext autoreload\n",
    "%autoreload patients\n",
    "%autoreload plans\n",
    "%autoreload interventions"
   ]
  },
  {
   "cell_type": "code",
   "execution_count": 6,
   "id": "c7c06e81-bb73-43a3-84ef-5edd28e8e6e7",
   "metadata": {},
   "outputs": [],
   "source": [
    "patient1_config = patients_df.to_dict(orient='index')[0]"
   ]
  },
  {
   "cell_type": "code",
   "execution_count": 7,
   "id": "7313ff51-4f1f-4e55-b9a9-ae9954dd06f2",
   "metadata": {},
   "outputs": [
    {
     "data": {
      "text/plain": [
       "{'patient_id': 'c8403116-d069-4130-aa02-39954fc971b5',\n",
       " 't2d': True,\n",
       " 'depression': False,\n",
       " 'bmi': False,\n",
       " 'hypertension': False,\n",
       " 'smoking': False,\n",
       " 'dob': '1967-03-26',\n",
       " 'race': 'white',\n",
       " 'ethnicity': 'nonhispanic',\n",
       " 'gender': 'F',\n",
       " 'zip': nan,\n",
       " 'eGFR': 66.9}"
      ]
     },
     "execution_count": 7,
     "metadata": {},
     "output_type": "execute_result"
    }
   ],
   "source": [
    "patient1_config"
   ]
  },
  {
   "cell_type": "code",
   "execution_count": 24,
   "id": "6e9d3072-c056-4ac4-9555-66e31d847e70",
   "metadata": {},
   "outputs": [],
   "source": [
    "# patient_config = {'patient_id': 123,2\n",
    "#                   'eGFR': 70,\n",
    "#                   'depression': True\n",
    "#                  }\n",
    "\n",
    "\n",
    "# select the first patient and convert feature vector to a dictionary\n",
    "# we pass this dictionary to the patient class on instantiation\n",
    "patient1_config = patients_df.to_dict(orient='index')[0]\n",
    "p1 = patients.Patient(**patient1_config)\n",
    "\n",
    "patient2_config = patients_df.to_dict(orient='index')[91]\n",
    "# patient2_config = patients_df.to_dict(orient='index')[15]\n",
    "p2 = patients.Patient(**patient2_config)"
   ]
  },
  {
   "cell_type": "markdown",
   "id": "97f73ada-0f6b-48fa-8914-414a375532ad",
   "metadata": {},
   "source": [
    "#### Look at patient 1's charecteristics"
   ]
  },
  {
   "cell_type": "code",
   "execution_count": 25,
   "id": "74b936ce-c308-4206-a295-2dae79c1d30b",
   "metadata": {},
   "outputs": [
    {
     "data": {
      "text/plain": [
       "{'patient_id': 'c8403116-d069-4130-aa02-39954fc971b5',\n",
       " 't2d': True,\n",
       " 'depression': False,\n",
       " 'bmi': False,\n",
       " 'hypertension': False,\n",
       " 'smoking': False,\n",
       " 'dob': '1967-03-26',\n",
       " 'race': 'white',\n",
       " 'ethnicity': 'nonhispanic',\n",
       " 'gender': 'F',\n",
       " 'zip': nan,\n",
       " 'eGFR': 66.9}"
      ]
     },
     "execution_count": 25,
     "metadata": {},
     "output_type": "execute_result"
    }
   ],
   "source": [
    "p1.patient_config"
   ]
  },
  {
   "cell_type": "code",
   "execution_count": 26,
   "id": "30c05c8b-a422-4580-b46b-a8d490f7e327",
   "metadata": {},
   "outputs": [
    {
     "data": {
      "text/plain": [
       "<CKDPlanDesigner.models.stages.Stage2 at 0x7ffc004aee80>"
      ]
     },
     "execution_count": 26,
     "metadata": {},
     "output_type": "execute_result"
    }
   ],
   "source": [
    "# we automatically assign a CKD stage when a patient is created\n",
    "p1.stage"
   ]
  },
  {
   "cell_type": "markdown",
   "id": "9c13e24a-43a4-4515-b5e6-297eed671ec4",
   "metadata": {},
   "source": [
    "### Generate a care plan"
   ]
  },
  {
   "cell_type": "code",
   "execution_count": 27,
   "id": "c2469b60-63e0-4bfd-9df7-e7c719b4eb2d",
   "metadata": {},
   "outputs": [
    {
     "name": "stdout",
     "output_type": "stream",
     "text": [
      "Plan: Delay\n"
     ]
    }
   ],
   "source": [
    "p1.generate_careplan()\n",
    "print(p1.careplan.plan_name)"
   ]
  },
  {
   "cell_type": "code",
   "execution_count": 28,
   "id": "770d7b6f-7ea9-48d8-899d-b9927f052d7b",
   "metadata": {},
   "outputs": [
    {
     "data": {
      "text/plain": [
       "{'patient_id': 'c8403116-d069-4130-aa02-39954fc971b5',\n",
       " 't2d': True,\n",
       " 'depression': False,\n",
       " 'bmi': False,\n",
       " 'hypertension': False,\n",
       " 'smoking': False,\n",
       " 'dob': '1967-03-26',\n",
       " 'race': 'white',\n",
       " 'ethnicity': 'nonhispanic',\n",
       " 'gender': 'F',\n",
       " 'zip': nan,\n",
       " 'eGFR': 66.9}"
      ]
     },
     "execution_count": 28,
     "metadata": {},
     "output_type": "execute_result"
    }
   ],
   "source": [
    "p1.patient_config"
   ]
  },
  {
   "cell_type": "code",
   "execution_count": 29,
   "id": "48fc1d11-3731-45bf-b18f-3da891edcfc5",
   "metadata": {},
   "outputs": [
    {
     "data": {
      "text/plain": [
       "<CKDPlanDesigner.models.plans.EarlyDelayPlan at 0x7ffc004aeef0>"
      ]
     },
     "execution_count": 29,
     "metadata": {},
     "output_type": "execute_result"
    }
   ],
   "source": [
    "p1.careplan"
   ]
  },
  {
   "cell_type": "code",
   "execution_count": 30,
   "id": "73217ee3-36f4-4756-bf63-c80bea72b0cc",
   "metadata": {},
   "outputs": [
    {
     "name": "stdout",
     "output_type": "stream",
     "text": [
      "Plan Components\n"
     ]
    },
    {
     "data": {
      "text/plain": [
       "[('T2D Management', 'Cost Reduction: 0.65')]"
      ]
     },
     "execution_count": 30,
     "metadata": {},
     "output_type": "execute_result"
    }
   ],
   "source": [
    "p1.careplan.list_components()"
   ]
  },
  {
   "cell_type": "markdown",
   "id": "8eae8b3e-3f2e-462c-a534-fc3dc1978c20",
   "metadata": {},
   "source": [
    "### Try it out for a different patient\n",
    "- This patient has more co-morbidities. Check them out!\n",
    "- Because of this, we should expect a more comprehensive care plan even though they're still just stage 2"
   ]
  },
  {
   "cell_type": "code",
   "execution_count": 31,
   "id": "003e07c3-4935-45dd-8709-bf6c8f585881",
   "metadata": {},
   "outputs": [],
   "source": [
    "import yaml"
   ]
  },
  {
   "cell_type": "code",
   "execution_count": 32,
   "id": "49a94a58-aa2a-4ec4-b210-823300629bcb",
   "metadata": {},
   "outputs": [],
   "source": [
    "# yaml_path = os.path.join('/Users/nicholasdeveau/projects/bmi210/bmi210Project/project_code/src/CKDPlanDesigner/configs/ix_config.yaml')\n",
    "# ix_config_yaml = open(yaml_path)\n",
    "# ix_config = yaml.load(ix_config_yaml, Loader=yaml.FullLoader)"
   ]
  },
  {
   "cell_type": "code",
   "execution_count": 33,
   "id": "231b2944-fb6b-46a6-bac3-ba7e134905ea",
   "metadata": {},
   "outputs": [
    {
     "data": {
      "text/plain": [
       "{'patient_id': '6dafa93d-3698-4124-9bbd-7429cc2a7374',\n",
       " 't2d': False,\n",
       " 'depression': False,\n",
       " 'bmi': True,\n",
       " 'hypertension': True,\n",
       " 'smoking': False,\n",
       " 'dob': '1953-01-20',\n",
       " 'race': 'white',\n",
       " 'ethnicity': 'nonhispanic',\n",
       " 'gender': 'M',\n",
       " 'zip': 1602.0,\n",
       " 'eGFR': 19.3}"
      ]
     },
     "execution_count": 33,
     "metadata": {},
     "output_type": "execute_result"
    }
   ],
   "source": [
    "p2.patient_config"
   ]
  },
  {
   "cell_type": "code",
   "execution_count": 34,
   "id": "9153e3e9-71c9-47bb-9827-6e8fbd31add2",
   "metadata": {},
   "outputs": [
    {
     "data": {
      "text/plain": [
       "<CKDPlanDesigner.models.stages.Stage4 at 0x7ffc004aef60>"
      ]
     },
     "execution_count": 34,
     "metadata": {},
     "output_type": "execute_result"
    }
   ],
   "source": [
    "p2.stage"
   ]
  },
  {
   "cell_type": "code",
   "execution_count": 35,
   "id": "43a3fa7b-19ba-4671-996c-1663a4c1c53d",
   "metadata": {},
   "outputs": [
    {
     "name": "stdout",
     "output_type": "stream",
     "text": [
      "Plan Components\n"
     ]
    },
    {
     "data": {
      "text/plain": [
       "['Vascular Access', 'Vascular Access', 'Education and Engagement']"
      ]
     },
     "execution_count": 35,
     "metadata": {},
     "output_type": "execute_result"
    }
   ],
   "source": [
    "p2.generate_careplan()\n",
    "p2.careplan.list_components(show_savings=False)"
   ]
  },
  {
   "cell_type": "code",
   "execution_count": 36,
   "id": "67cfd598-8043-4a6f-9b80-3a8408382320",
   "metadata": {},
   "outputs": [
    {
     "data": {
      "text/plain": [
       "{'patient_id': '6dafa93d-3698-4124-9bbd-7429cc2a7374',\n",
       " 't2d': False,\n",
       " 'depression': False,\n",
       " 'bmi': True,\n",
       " 'hypertension': True,\n",
       " 'smoking': False,\n",
       " 'dob': '1953-01-20',\n",
       " 'race': 'white',\n",
       " 'ethnicity': 'nonhispanic',\n",
       " 'gender': 'M',\n",
       " 'zip': 1602.0,\n",
       " 'eGFR': 19.3}"
      ]
     },
     "execution_count": 36,
     "metadata": {},
     "output_type": "execute_result"
    }
   ],
   "source": [
    "p2.patient_config"
   ]
  },
  {
   "cell_type": "code",
   "execution_count": 38,
   "id": "ad501848-bf36-4ec3-9778-75c19d3a978f",
   "metadata": {},
   "outputs": [
    {
     "data": {
      "text/plain": [
       "{'patient_id': '6dafa93d-3698-4124-9bbd-7429cc2a7374',\n",
       " 't2d': False,\n",
       " 'depression': False,\n",
       " 'bmi': True,\n",
       " 'hypertension': True,\n",
       " 'smoking': False,\n",
       " 'dob': '1953-01-20',\n",
       " 'race': 'white',\n",
       " 'ethnicity': 'nonhispanic',\n",
       " 'gender': 'M',\n",
       " 'zip': 1602.0,\n",
       " 'eGFR': 19.3}"
      ]
     },
     "execution_count": 38,
     "metadata": {},
     "output_type": "execute_result"
    }
   ],
   "source": [
    "p2.patient_config"
   ]
  },
  {
   "cell_type": "code",
   "execution_count": 37,
   "id": "9d84f051-b294-493a-b572-c1ec5b48b735",
   "metadata": {},
   "outputs": [
    {
     "data": {
      "text/plain": [
       "'Discuss diet and exercise. Also emphasize that we can halt progress of CKD at this stage.'"
      ]
     },
     "execution_count": 37,
     "metadata": {},
     "output_type": "execute_result"
    }
   ],
   "source": [
    "p2.careplan.all_components[2].desc_long"
   ]
  },
  {
   "cell_type": "code",
   "execution_count": 34,
   "id": "61534a39-fc83-4327-90bc-99e8c6e5170a",
   "metadata": {},
   "outputs": [
    {
     "name": "stdout",
     "output_type": "stream",
     "text": [
      "Plan Components\n"
     ]
    },
    {
     "data": {
      "text/plain": [
       "['Hypertension Management', 'T2D Management']"
      ]
     },
     "execution_count": 34,
     "metadata": {},
     "output_type": "execute_result"
    }
   ],
   "source": [
    "p2.careplan.list_components(show_savings=False)"
   ]
  },
  {
   "cell_type": "code",
   "execution_count": null,
   "id": "1f794fdc-b5df-402e-8d39-1daf7a8ea314",
   "metadata": {},
   "outputs": [],
   "source": [
    "\"\"\"\n",
    "1) profile patient (patient_config)\n",
    "2) classified into disease (patient.stage)\n",
    "3) unoptimized charecteristics (trey creating this in the ontology)\n",
    "    3a) unoptimmized = some min number of \"bad\" criteria (from patient_config)\n",
    "\"\"\""
   ]
  },
  {
   "cell_type": "code",
   "execution_count": null,
   "id": "2d8dfde8-a354-4ebb-9c27-9f19a056186d",
   "metadata": {},
   "outputs": [],
   "source": []
  }
 ],
 "metadata": {
  "kernelspec": {
   "display_name": "nick",
   "language": "python",
   "name": "nick"
  },
  "language_info": {
   "codemirror_mode": {
    "name": "ipython",
    "version": 3
   },
   "file_extension": ".py",
   "mimetype": "text/x-python",
   "name": "python",
   "nbconvert_exporter": "python",
   "pygments_lexer": "ipython3",
   "version": "3.6.13"
  }
 },
 "nbformat": 4,
 "nbformat_minor": 5
}
