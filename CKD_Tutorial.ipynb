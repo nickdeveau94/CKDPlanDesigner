{
 "cells": [
  {
   "cell_type": "markdown",
   "id": "7a28a8b4-986e-410a-92e9-60f301f4090c",
   "metadata": {},
   "source": [
    "# CKD Plan Designer Tutorial"
   ]
  },
  {
   "cell_type": "markdown",
   "id": "e3ce6045-ff9b-4c9c-a269-916bebe9e460",
   "metadata": {},
   "source": [
    "## Install CKDPlanDesigner Package"
   ]
  },
  {
   "cell_type": "code",
   "execution_count": 34,
   "id": "e8b31d2c-d350-4a06-b403-40ba34cf9d30",
   "metadata": {},
   "outputs": [
    {
     "name": "stdout",
     "output_type": "stream",
     "text": [
      "Obtaining file:///Users/nicholasdeveau/projects/bmi210/bmi210Project/project_code\n",
      "Installing collected packages: CKDPlanDesigner\n",
      "  Attempting uninstall: CKDPlanDesigner\n",
      "    Found existing installation: CKDPlanDesigner 0.0.0\n",
      "    Uninstalling CKDPlanDesigner-0.0.0:\n",
      "      Successfully uninstalled CKDPlanDesigner-0.0.0\n",
      "  Running setup.py develop for CKDPlanDesigner\n",
      "Successfully installed CKDPlanDesigner\n"
     ]
    }
   ],
   "source": [
    "# install package from source code\n",
    "! pip install -e project_code/"
   ]
  },
  {
   "cell_type": "markdown",
   "id": "08344a32-d393-499b-a340-306a6a9b4dad",
   "metadata": {},
   "source": [
    "## Load Data\n",
    "- This tutorial uses the freely available synthea example dataset\n",
    "    - Download it here: https://synthetichealth.github.io/synthea-sample-data/downloads/synthea_sample_data_csv_apr2020.zip\n",
    "    - unzip it to SYNTHEA_PATH\n",
    " "
   ]
  },
  {
   "cell_type": "code",
   "execution_count": 3,
   "id": "5167e07f-2a4a-4309-b3fd-e3871d801ae8",
   "metadata": {},
   "outputs": [],
   "source": [
    "import pandas as pd\n",
    "import os\n",
    "\n",
    "from CKDPlanDesigner.utils import data_preprocessing as pre\n",
    "\n",
    "SYNTHEA_PATH = '/Users/nicholasdeveau/projects/bmi210/bmi210Project_data/synthea_data/'"
   ]
  },
  {
   "cell_type": "markdown",
   "id": "a3349974-4f88-40dc-a43e-144f0aaca54f",
   "metadata": {},
   "source": [
    "#### Here we build our patient dataframe\n",
    "- Feature extraction and preprocessing occurs in utils/data_preprocessing.py\n",
    "- This contains a vecor for each patient containing the required information for plan designing "
   ]
  },
  {
   "cell_type": "code",
   "execution_count": 9,
   "id": "8b6656b1-fcc5-42cd-b53c-7da2673bc738",
   "metadata": {},
   "outputs": [
    {
     "name": "stderr",
     "output_type": "stream",
     "text": [
      "/Users/nicholasdeveau/projects/bmi210/bmi210Project/project_code/src/CKDPlanDesigner/utils/data_preprocessing.py:38: SettingWithCopyWarning: \n",
      "A value is trying to be set on a copy of a slice from a DataFrame.\n",
      "Try using .loc[row_indexer,col_indexer] = value instead\n",
      "\n",
      "See the caveats in the documentation: https://pandas.pydata.org/pandas-docs/stable/user_guide/indexing.html#returning-a-view-versus-a-copy\n",
      "  sel_cond_df['VALUE'] = 1\n"
     ]
    }
   ],
   "source": [
    "patients_df = pre.preprocess_synthea_data(SYNTHEA_PATH)"
   ]
  },
  {
   "cell_type": "code",
   "execution_count": 10,
   "id": "a11a7592-de1f-4e36-a977-28f596d77f3b",
   "metadata": {},
   "outputs": [
    {
     "data": {
      "text/html": [
       "<div>\n",
       "<style scoped>\n",
       "    .dataframe tbody tr th:only-of-type {\n",
       "        vertical-align: middle;\n",
       "    }\n",
       "\n",
       "    .dataframe tbody tr th {\n",
       "        vertical-align: top;\n",
       "    }\n",
       "\n",
       "    .dataframe thead th {\n",
       "        text-align: right;\n",
       "    }\n",
       "</style>\n",
       "<table border=\"1\" class=\"dataframe\">\n",
       "  <thead>\n",
       "    <tr style=\"text-align: right;\">\n",
       "      <th></th>\n",
       "      <th>patient_id</th>\n",
       "      <th>t2d</th>\n",
       "      <th>depression</th>\n",
       "      <th>bmi</th>\n",
       "      <th>hypertension</th>\n",
       "      <th>smoking</th>\n",
       "      <th>dob</th>\n",
       "      <th>race</th>\n",
       "      <th>ethnicity</th>\n",
       "      <th>gender</th>\n",
       "      <th>zip</th>\n",
       "      <th>eGFR</th>\n",
       "      <th>age</th>\n",
       "    </tr>\n",
       "  </thead>\n",
       "  <tbody>\n",
       "    <tr>\n",
       "      <th>0</th>\n",
       "      <td>c8403116-d069-4130-aa02-39954fc971b5</td>\n",
       "      <td>True</td>\n",
       "      <td>False</td>\n",
       "      <td>False</td>\n",
       "      <td>False</td>\n",
       "      <td>False</td>\n",
       "      <td>1967-03-26</td>\n",
       "      <td>white</td>\n",
       "      <td>nonhispanic</td>\n",
       "      <td>F</td>\n",
       "      <td>NaN</td>\n",
       "      <td>66.9</td>\n",
       "      <td>55</td>\n",
       "    </tr>\n",
       "    <tr>\n",
       "      <th>1</th>\n",
       "      <td>73f124a4-e69e-4b8c-a447-e72d23dc54be</td>\n",
       "      <td>True</td>\n",
       "      <td>False</td>\n",
       "      <td>False</td>\n",
       "      <td>True</td>\n",
       "      <td>True</td>\n",
       "      <td>1967-06-14</td>\n",
       "      <td>white</td>\n",
       "      <td>nonhispanic</td>\n",
       "      <td>F</td>\n",
       "      <td>2170.0</td>\n",
       "      <td>70.5</td>\n",
       "      <td>55</td>\n",
       "    </tr>\n",
       "    <tr>\n",
       "      <th>2</th>\n",
       "      <td>31459cc4-45ed-4dee-b160-9f1a148a7724</td>\n",
       "      <td>False</td>\n",
       "      <td>False</td>\n",
       "      <td>True</td>\n",
       "      <td>False</td>\n",
       "      <td>False</td>\n",
       "      <td>1968-08-15</td>\n",
       "      <td>white</td>\n",
       "      <td>nonhispanic</td>\n",
       "      <td>M</td>\n",
       "      <td>NaN</td>\n",
       "      <td>75.4</td>\n",
       "      <td>54</td>\n",
       "    </tr>\n",
       "    <tr>\n",
       "      <th>3</th>\n",
       "      <td>799d0738-d5cd-4161-bdb8-e3c49e21ec66</td>\n",
       "      <td>False</td>\n",
       "      <td>False</td>\n",
       "      <td>True</td>\n",
       "      <td>True</td>\n",
       "      <td>True</td>\n",
       "      <td>1939-12-12</td>\n",
       "      <td>white</td>\n",
       "      <td>nonhispanic</td>\n",
       "      <td>M</td>\n",
       "      <td>2360.0</td>\n",
       "      <td>82.0</td>\n",
       "      <td>83</td>\n",
       "    </tr>\n",
       "    <tr>\n",
       "      <th>4</th>\n",
       "      <td>bae73dce-20fa-4a6a-8e46-b2ed541f9296</td>\n",
       "      <td>True</td>\n",
       "      <td>True</td>\n",
       "      <td>False</td>\n",
       "      <td>False</td>\n",
       "      <td>True</td>\n",
       "      <td>1958-04-27</td>\n",
       "      <td>white</td>\n",
       "      <td>nonhispanic</td>\n",
       "      <td>M</td>\n",
       "      <td>NaN</td>\n",
       "      <td>83.6</td>\n",
       "      <td>64</td>\n",
       "    </tr>\n",
       "  </tbody>\n",
       "</table>\n",
       "</div>"
      ],
      "text/plain": [
       "                             patient_id    t2d  depression    bmi  \\\n",
       "0  c8403116-d069-4130-aa02-39954fc971b5   True       False  False   \n",
       "1  73f124a4-e69e-4b8c-a447-e72d23dc54be   True       False  False   \n",
       "2  31459cc4-45ed-4dee-b160-9f1a148a7724  False       False   True   \n",
       "3  799d0738-d5cd-4161-bdb8-e3c49e21ec66  False       False   True   \n",
       "4  bae73dce-20fa-4a6a-8e46-b2ed541f9296   True        True  False   \n",
       "\n",
       "   hypertension  smoking         dob   race    ethnicity gender     zip  eGFR  \\\n",
       "0         False    False  1967-03-26  white  nonhispanic      F     NaN  66.9   \n",
       "1          True     True  1967-06-14  white  nonhispanic      F  2170.0  70.5   \n",
       "2         False    False  1968-08-15  white  nonhispanic      M     NaN  75.4   \n",
       "3          True     True  1939-12-12  white  nonhispanic      M  2360.0  82.0   \n",
       "4         False     True  1958-04-27  white  nonhispanic      M     NaN  83.6   \n",
       "\n",
       "   age  \n",
       "0   55  \n",
       "1   55  \n",
       "2   54  \n",
       "3   83  \n",
       "4   64  "
      ]
     },
     "execution_count": 10,
     "metadata": {},
     "output_type": "execute_result"
    }
   ],
   "source": [
    "patients_df.head()"
   ]
  },
  {
   "cell_type": "markdown",
   "id": "873368e9-14c2-4aa5-9a05-01537333a026",
   "metadata": {},
   "source": [
    "## Working With a Patient"
   ]
  },
  {
   "cell_type": "code",
   "execution_count": 11,
   "id": "882e1d49-8fff-4aec-9d3f-f20a47befe07",
   "metadata": {},
   "outputs": [],
   "source": [
    "from CKDPlanDesigner.models import patients, plans, interventions\n",
    "%load_ext autoreload\n",
    "%autoreload patients\n",
    "%autoreload plans\n",
    "%autoreload interventions"
   ]
  },
  {
   "cell_type": "code",
   "execution_count": 13,
   "id": "c7c06e81-bb73-43a3-84ef-5edd28e8e6e7",
   "metadata": {},
   "outputs": [],
   "source": [
    "# convert one row of the patient_df to a dictionary. This \n",
    "# dictionary will be our config\n",
    "patient1_config = patients_df.to_dict(orient='index')[5]"
   ]
  },
  {
   "cell_type": "code",
   "execution_count": 15,
   "id": "6e9d3072-c056-4ac4-9555-66e31d847e70",
   "metadata": {},
   "outputs": [],
   "source": [
    "# select a  patient and convert feature vector to a dictionary\n",
    "# we pass this dictionary to the patient class on instantiation\n",
    "patient1_config = patients_df.to_dict(orient='index')[13]\n",
    "p1 = patients.Patient(**patient1_config)\n",
    "\n",
    "# now select another patient\n",
    "patient2_config = patients_df.to_dict(orient='index')[44]\n",
    "# patient2_config = patients_df.to_dict(orient='index')[15]\n",
    "p2 = patients.Patient(**patient2_config)"
   ]
  },
  {
   "cell_type": "markdown",
   "id": "97f73ada-0f6b-48fa-8914-414a375532ad",
   "metadata": {},
   "source": [
    "#### Look at patient 1's characteristics"
   ]
  },
  {
   "cell_type": "code",
   "execution_count": 17,
   "id": "74b936ce-c308-4206-a295-2dae79c1d30b",
   "metadata": {},
   "outputs": [
    {
     "data": {
      "text/plain": [
       "{'patient_id': '844d1c39-6ca2-48df-a3de-f9a12633f69c',\n",
       " 't2d': True,\n",
       " 'depression': False,\n",
       " 'bmi': False,\n",
       " 'hypertension': False,\n",
       " 'smoking': False,\n",
       " 'dob': '1963-07-20',\n",
       " 'race': 'white',\n",
       " 'ethnicity': 'nonhispanic',\n",
       " 'gender': 'F',\n",
       " 'zip': nan,\n",
       " 'eGFR': 8.9,\n",
       " 'age': 59}"
      ]
     },
     "execution_count": 17,
     "metadata": {},
     "output_type": "execute_result"
    }
   ],
   "source": [
    "p1.patient_config"
   ]
  },
  {
   "cell_type": "code",
   "execution_count": 18,
   "id": "30c05c8b-a422-4580-b46b-a8d490f7e327",
   "metadata": {},
   "outputs": [
    {
     "data": {
      "text/plain": [
       "<CKDPlanDesigner.models.stages.Stage5 at 0x7ffb21be57b8>"
      ]
     },
     "execution_count": 18,
     "metadata": {},
     "output_type": "execute_result"
    }
   ],
   "source": [
    "# we automatically assign a CKD stage when a patient is created\n",
    "p1.stage"
   ]
  },
  {
   "cell_type": "markdown",
   "id": "9c13e24a-43a4-4515-b5e6-297eed671ec4",
   "metadata": {},
   "source": [
    "### Generate a care plan"
   ]
  },
  {
   "cell_type": "code",
   "execution_count": 20,
   "id": "c2469b60-63e0-4bfd-9df7-e7c719b4eb2d",
   "metadata": {},
   "outputs": [
    {
     "name": "stdout",
     "output_type": "stream",
     "text": [
      "Plan: Smart Dialysis\n"
     ]
    }
   ],
   "source": [
    "p1.generate_careplan()\n",
    "print(p1.careplan.plan_name)"
   ]
  },
  {
   "cell_type": "code",
   "execution_count": 35,
   "id": "73217ee3-36f4-4756-bf63-c80bea72b0cc",
   "metadata": {},
   "outputs": [
    {
     "name": "stdout",
     "output_type": "stream",
     "text": [
      "Plan Components\n"
     ]
    },
    {
     "data": {
      "text/plain": [
       "['Dialysis', 'Education and Engagement', 'Nephro Engagement']"
      ]
     },
     "execution_count": 35,
     "metadata": {},
     "output_type": "execute_result"
    }
   ],
   "source": [
    "# Here we see the components of a care plan personalized for this patient.\n",
    "p1.careplan.list_components(show_savings=False)"
   ]
  },
  {
   "cell_type": "code",
   "execution_count": 36,
   "id": "1e670b9e-2f62-4548-9dbe-35dd1c504640",
   "metadata": {},
   "outputs": [
    {
     "data": {
      "text/plain": [
       "'Discuss desicion wrt. palliaive care vs. dialysis, emphasizing there is little evidence for outcomes benefit with dialysis at this stage. Also discuss patient on benefits with home dialysis and the simplicity of it. Emphasize that it is not hard at all.'"
      ]
     },
     "execution_count": 36,
     "metadata": {},
     "output_type": "execute_result"
    }
   ],
   "source": [
    "# Custom education content specific to the smart dialysis plan.\n",
    "# This content can be modified by a non-technical user simply by\n",
    "# editing the text in configs/ix_config.yaml\n",
    "p1.careplan.all_components[1].desc_long"
   ]
  },
  {
   "cell_type": "markdown",
   "id": "8eae8b3e-3f2e-462c-a534-fc3dc1978c20",
   "metadata": {},
   "source": [
    "### Try it out for a different patient\n",
    "- This patient is old and has a bad prognosis (e.g. stage 5 / end-stage CKD). Check out the difference in care plan!\n",
    "- Because of this, we should expect a plan that focuses on palliative care."
   ]
  },
  {
   "cell_type": "code",
   "execution_count": 30,
   "id": "8a9cf563-1614-4202-9467-b9cb16e4d29f",
   "metadata": {},
   "outputs": [
    {
     "data": {
      "text/plain": [
       "{'patient_id': 'c9942738-49f3-4459-818f-8da20072ff76',\n",
       " 't2d': True,\n",
       " 'depression': True,\n",
       " 'bmi': False,\n",
       " 'hypertension': True,\n",
       " 'smoking': True,\n",
       " 'dob': '1935-10-27',\n",
       " 'race': 'white',\n",
       " 'ethnicity': 'nonhispanic',\n",
       " 'gender': 'M',\n",
       " 'zip': 2474.0,\n",
       " 'eGFR': 9.5,\n",
       " 'age': 87}"
      ]
     },
     "execution_count": 30,
     "metadata": {},
     "output_type": "execute_result"
    }
   ],
   "source": [
    "# note high age and low eGFR\n",
    "p2.patient_config"
   ]
  },
  {
   "cell_type": "code",
   "execution_count": 31,
   "id": "9153e3e9-71c9-47bb-9827-6e8fbd31add2",
   "metadata": {},
   "outputs": [
    {
     "data": {
      "text/plain": [
       "<CKDPlanDesigner.models.stages.Stage5 at 0x7ffb21be53c8>"
      ]
     },
     "execution_count": 31,
     "metadata": {},
     "output_type": "execute_result"
    }
   ],
   "source": [
    "# stage 5\n",
    "p2.stage"
   ]
  },
  {
   "cell_type": "code",
   "execution_count": 29,
   "id": "43a3fa7b-19ba-4671-996c-1663a4c1c53d",
   "metadata": {},
   "outputs": [
    {
     "name": "stdout",
     "output_type": "stream",
     "text": [
      "Plan Components\n"
     ]
    },
    {
     "data": {
      "text/plain": [
       "['ComfortAndPain']"
      ]
     },
     "execution_count": 29,
     "metadata": {},
     "output_type": "execute_result"
    }
   ],
   "source": [
    "p2.generate_careplan()\n",
    "p2.careplan.list_components(show_savings=False)"
   ]
  },
  {
   "cell_type": "code",
   "execution_count": null,
   "id": "acfddbce-56df-4ede-86b5-a3bcd93ddf33",
   "metadata": {},
   "outputs": [],
   "source": []
  }
 ],
 "metadata": {
  "kernelspec": {
   "display_name": "nick",
   "language": "python",
   "name": "nick"
  },
  "language_info": {
   "codemirror_mode": {
    "name": "ipython",
    "version": 3
   },
   "file_extension": ".py",
   "mimetype": "text/x-python",
   "name": "python",
   "nbconvert_exporter": "python",
   "pygments_lexer": "ipython3",
   "version": "3.6.13"
  }
 },
 "nbformat": 4,
 "nbformat_minor": 5
}
