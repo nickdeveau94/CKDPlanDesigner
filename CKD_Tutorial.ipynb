{
 "cells": [
  {
   "cell_type": "markdown",
   "id": "7a28a8b4-986e-410a-92e9-60f301f4090c",
   "metadata": {},
   "source": [
    "# CKD Plan Designer Tutorial"
   ]
  },
  {
   "cell_type": "markdown",
   "id": "e3ce6045-ff9b-4c9c-a269-916bebe9e460",
   "metadata": {},
   "source": [
    "## Install CKDPlanDesigner Package"
   ]
  },
  {
   "cell_type": "code",
   "execution_count": 6,
   "id": "e8b31d2c-d350-4a06-b403-40ba34cf9d30",
   "metadata": {},
   "outputs": [
    {
     "name": "stdout",
     "output_type": "stream",
     "text": [
      "Obtaining file:///Users/nicholasdeveau/projects/bmi210/bmi210Project/project_code\n",
      "  Preparing metadata (setup.py) ... \u001b[?25ldone\n",
      "\u001b[?25hInstalling collected packages: CKDPlanDesigner\n",
      "  Attempting uninstall: CKDPlanDesigner\n",
      "    Found existing installation: CKDPlanDesigner 0.0.0\n",
      "    Uninstalling CKDPlanDesigner-0.0.0:\n",
      "      Successfully uninstalled CKDPlanDesigner-0.0.0\n",
      "  Running setup.py develop for CKDPlanDesigner\n",
      "Successfully installed CKDPlanDesigner-0.0.0\n"
     ]
    }
   ],
   "source": [
    "! pip install -e project_code/"
   ]
  },
  {
   "cell_type": "markdown",
   "id": "08344a32-d393-499b-a340-306a6a9b4dad",
   "metadata": {},
   "source": [
    "## Load Data\n",
    "- This tutorial uses the freely available synthea example dataset\n",
    "    - Download it here: https://synthetichealth.github.io/synthea-sample-data/downloads/synthea_sample_data_csv_apr2020.zip\n",
    "    - unzip it to SYNTHEA_PATH\n",
    " "
   ]
  },
  {
   "cell_type": "code",
   "execution_count": 1,
   "id": "5167e07f-2a4a-4309-b3fd-e3871d801ae8",
   "metadata": {},
   "outputs": [],
   "source": [
    "import pandas as pd\n",
    "import os\n",
    "\n",
    "from CKDPlanDesigner.utils import data_preprocessing as pre\n",
    "\n",
    "SYNTHEA_PATH = '/Users/nicholasdeveau/projects/bmi210/bmi210Project_data/synthea_data/'"
   ]
  },
  {
   "cell_type": "markdown",
   "id": "a3349974-4f88-40dc-a43e-144f0aaca54f",
   "metadata": {},
   "source": [
    "#### Here we build our patient dataframe\n",
    "- This contains a vecor for each patient containing the required information for plan designing "
   ]
  },
  {
   "cell_type": "code",
   "execution_count": 2,
   "id": "397fbfc9-5724-48ec-81a5-00e27eea6ec0",
   "metadata": {},
   "outputs": [],
   "source": [
    "import datetime"
   ]
  },
  {
   "cell_type": "code",
   "execution_count": 3,
   "id": "8b6656b1-fcc5-42cd-b53c-7da2673bc738",
   "metadata": {},
   "outputs": [
    {
     "name": "stderr",
     "output_type": "stream",
     "text": [
      "/Users/nicholasdeveau/projects/bmi210/bmi210Project/project_code/src/CKDPlanDesigner/utils/data_preprocessing.py:38: SettingWithCopyWarning: \n",
      "A value is trying to be set on a copy of a slice from a DataFrame.\n",
      "Try using .loc[row_indexer,col_indexer] = value instead\n",
      "\n",
      "See the caveats in the documentation: https://pandas.pydata.org/pandas-docs/stable/user_guide/indexing.html#returning-a-view-versus-a-copy\n",
      "  sel_cond_df['VALUE'] = 1\n"
     ]
    }
   ],
   "source": [
    "patients_df = pre.preprocess_synthea_data(SYNTHEA_PATH)"
   ]
  },
  {
   "cell_type": "code",
   "execution_count": 4,
   "id": "a11a7592-de1f-4e36-a977-28f596d77f3b",
   "metadata": {},
   "outputs": [
    {
     "data": {
      "text/html": [
       "<div>\n",
       "<style scoped>\n",
       "    .dataframe tbody tr th:only-of-type {\n",
       "        vertical-align: middle;\n",
       "    }\n",
       "\n",
       "    .dataframe tbody tr th {\n",
       "        vertical-align: top;\n",
       "    }\n",
       "\n",
       "    .dataframe thead th {\n",
       "        text-align: right;\n",
       "    }\n",
       "</style>\n",
       "<table border=\"1\" class=\"dataframe\">\n",
       "  <thead>\n",
       "    <tr style=\"text-align: right;\">\n",
       "      <th></th>\n",
       "      <th>patient_id</th>\n",
       "      <th>t2d</th>\n",
       "      <th>depression</th>\n",
       "      <th>bmi</th>\n",
       "      <th>hypertension</th>\n",
       "      <th>smoking</th>\n",
       "      <th>dob</th>\n",
       "      <th>race</th>\n",
       "      <th>ethnicity</th>\n",
       "      <th>gender</th>\n",
       "      <th>zip</th>\n",
       "      <th>eGFR</th>\n",
       "      <th>age</th>\n",
       "    </tr>\n",
       "  </thead>\n",
       "  <tbody>\n",
       "    <tr>\n",
       "      <th>0</th>\n",
       "      <td>c8403116-d069-4130-aa02-39954fc971b5</td>\n",
       "      <td>True</td>\n",
       "      <td>False</td>\n",
       "      <td>False</td>\n",
       "      <td>False</td>\n",
       "      <td>False</td>\n",
       "      <td>1967-03-26</td>\n",
       "      <td>white</td>\n",
       "      <td>nonhispanic</td>\n",
       "      <td>F</td>\n",
       "      <td>NaN</td>\n",
       "      <td>66.9</td>\n",
       "      <td>55</td>\n",
       "    </tr>\n",
       "    <tr>\n",
       "      <th>1</th>\n",
       "      <td>73f124a4-e69e-4b8c-a447-e72d23dc54be</td>\n",
       "      <td>True</td>\n",
       "      <td>False</td>\n",
       "      <td>False</td>\n",
       "      <td>True</td>\n",
       "      <td>True</td>\n",
       "      <td>1967-06-14</td>\n",
       "      <td>white</td>\n",
       "      <td>nonhispanic</td>\n",
       "      <td>F</td>\n",
       "      <td>2170.0</td>\n",
       "      <td>70.5</td>\n",
       "      <td>55</td>\n",
       "    </tr>\n",
       "    <tr>\n",
       "      <th>2</th>\n",
       "      <td>31459cc4-45ed-4dee-b160-9f1a148a7724</td>\n",
       "      <td>False</td>\n",
       "      <td>False</td>\n",
       "      <td>True</td>\n",
       "      <td>False</td>\n",
       "      <td>False</td>\n",
       "      <td>1968-08-15</td>\n",
       "      <td>white</td>\n",
       "      <td>nonhispanic</td>\n",
       "      <td>M</td>\n",
       "      <td>NaN</td>\n",
       "      <td>75.4</td>\n",
       "      <td>54</td>\n",
       "    </tr>\n",
       "    <tr>\n",
       "      <th>3</th>\n",
       "      <td>799d0738-d5cd-4161-bdb8-e3c49e21ec66</td>\n",
       "      <td>False</td>\n",
       "      <td>False</td>\n",
       "      <td>True</td>\n",
       "      <td>True</td>\n",
       "      <td>True</td>\n",
       "      <td>1939-12-12</td>\n",
       "      <td>white</td>\n",
       "      <td>nonhispanic</td>\n",
       "      <td>M</td>\n",
       "      <td>2360.0</td>\n",
       "      <td>82.0</td>\n",
       "      <td>83</td>\n",
       "    </tr>\n",
       "    <tr>\n",
       "      <th>4</th>\n",
       "      <td>bae73dce-20fa-4a6a-8e46-b2ed541f9296</td>\n",
       "      <td>True</td>\n",
       "      <td>True</td>\n",
       "      <td>False</td>\n",
       "      <td>False</td>\n",
       "      <td>True</td>\n",
       "      <td>1958-04-27</td>\n",
       "      <td>white</td>\n",
       "      <td>nonhispanic</td>\n",
       "      <td>M</td>\n",
       "      <td>NaN</td>\n",
       "      <td>83.6</td>\n",
       "      <td>64</td>\n",
       "    </tr>\n",
       "    <tr>\n",
       "      <th>...</th>\n",
       "      <td>...</td>\n",
       "      <td>...</td>\n",
       "      <td>...</td>\n",
       "      <td>...</td>\n",
       "      <td>...</td>\n",
       "      <td>...</td>\n",
       "      <td>...</td>\n",
       "      <td>...</td>\n",
       "      <td>...</td>\n",
       "      <td>...</td>\n",
       "      <td>...</td>\n",
       "      <td>...</td>\n",
       "      <td>...</td>\n",
       "    </tr>\n",
       "    <tr>\n",
       "      <th>111</th>\n",
       "      <td>83c686df-0a1e-4950-9a2b-c84da98a2652</td>\n",
       "      <td>True</td>\n",
       "      <td>False</td>\n",
       "      <td>False</td>\n",
       "      <td>False</td>\n",
       "      <td>False</td>\n",
       "      <td>1962-01-24</td>\n",
       "      <td>asian</td>\n",
       "      <td>nonhispanic</td>\n",
       "      <td>F</td>\n",
       "      <td>NaN</td>\n",
       "      <td>81.7</td>\n",
       "      <td>60</td>\n",
       "    </tr>\n",
       "    <tr>\n",
       "      <th>112</th>\n",
       "      <td>9dfbf6ed-2378-4c27-9ff7-7e5c0619c236</td>\n",
       "      <td>True</td>\n",
       "      <td>False</td>\n",
       "      <td>True</td>\n",
       "      <td>False</td>\n",
       "      <td>False</td>\n",
       "      <td>1962-11-08</td>\n",
       "      <td>white</td>\n",
       "      <td>nonhispanic</td>\n",
       "      <td>F</td>\n",
       "      <td>NaN</td>\n",
       "      <td>88.6</td>\n",
       "      <td>60</td>\n",
       "    </tr>\n",
       "    <tr>\n",
       "      <th>113</th>\n",
       "      <td>1bacaab1-708b-42fe-8f12-fbe97a725440</td>\n",
       "      <td>True</td>\n",
       "      <td>False</td>\n",
       "      <td>True</td>\n",
       "      <td>False</td>\n",
       "      <td>False</td>\n",
       "      <td>1950-07-25</td>\n",
       "      <td>white</td>\n",
       "      <td>nonhispanic</td>\n",
       "      <td>F</td>\n",
       "      <td>2186.0</td>\n",
       "      <td>79.4</td>\n",
       "      <td>72</td>\n",
       "    </tr>\n",
       "    <tr>\n",
       "      <th>114</th>\n",
       "      <td>73fc00f8-a341-4f62-be27-07c35c3460bc</td>\n",
       "      <td>True</td>\n",
       "      <td>False</td>\n",
       "      <td>True</td>\n",
       "      <td>False</td>\n",
       "      <td>False</td>\n",
       "      <td>1941-05-04</td>\n",
       "      <td>white</td>\n",
       "      <td>nonhispanic</td>\n",
       "      <td>F</td>\n",
       "      <td>1027.0</td>\n",
       "      <td>84.8</td>\n",
       "      <td>81</td>\n",
       "    </tr>\n",
       "    <tr>\n",
       "      <th>115</th>\n",
       "      <td>023a7d29-32b3-4db5-89c8-b88bd7582ec0</td>\n",
       "      <td>True</td>\n",
       "      <td>False</td>\n",
       "      <td>False</td>\n",
       "      <td>False</td>\n",
       "      <td>True</td>\n",
       "      <td>1922-02-14</td>\n",
       "      <td>asian</td>\n",
       "      <td>hispanic</td>\n",
       "      <td>F</td>\n",
       "      <td>2141.0</td>\n",
       "      <td>89.4</td>\n",
       "      <td>100</td>\n",
       "    </tr>\n",
       "  </tbody>\n",
       "</table>\n",
       "<p>116 rows × 13 columns</p>\n",
       "</div>"
      ],
      "text/plain": [
       "                               patient_id    t2d  depression    bmi  \\\n",
       "0    c8403116-d069-4130-aa02-39954fc971b5   True       False  False   \n",
       "1    73f124a4-e69e-4b8c-a447-e72d23dc54be   True       False  False   \n",
       "2    31459cc4-45ed-4dee-b160-9f1a148a7724  False       False   True   \n",
       "3    799d0738-d5cd-4161-bdb8-e3c49e21ec66  False       False   True   \n",
       "4    bae73dce-20fa-4a6a-8e46-b2ed541f9296   True        True  False   \n",
       "..                                    ...    ...         ...    ...   \n",
       "111  83c686df-0a1e-4950-9a2b-c84da98a2652   True       False  False   \n",
       "112  9dfbf6ed-2378-4c27-9ff7-7e5c0619c236   True       False   True   \n",
       "113  1bacaab1-708b-42fe-8f12-fbe97a725440   True       False   True   \n",
       "114  73fc00f8-a341-4f62-be27-07c35c3460bc   True       False   True   \n",
       "115  023a7d29-32b3-4db5-89c8-b88bd7582ec0   True       False  False   \n",
       "\n",
       "     hypertension  smoking         dob   race    ethnicity gender     zip  \\\n",
       "0           False    False  1967-03-26  white  nonhispanic      F     NaN   \n",
       "1            True     True  1967-06-14  white  nonhispanic      F  2170.0   \n",
       "2           False    False  1968-08-15  white  nonhispanic      M     NaN   \n",
       "3            True     True  1939-12-12  white  nonhispanic      M  2360.0   \n",
       "4           False     True  1958-04-27  white  nonhispanic      M     NaN   \n",
       "..            ...      ...         ...    ...          ...    ...     ...   \n",
       "111         False    False  1962-01-24  asian  nonhispanic      F     NaN   \n",
       "112         False    False  1962-11-08  white  nonhispanic      F     NaN   \n",
       "113         False    False  1950-07-25  white  nonhispanic      F  2186.0   \n",
       "114         False    False  1941-05-04  white  nonhispanic      F  1027.0   \n",
       "115         False     True  1922-02-14  asian     hispanic      F  2141.0   \n",
       "\n",
       "     eGFR  age  \n",
       "0    66.9   55  \n",
       "1    70.5   55  \n",
       "2    75.4   54  \n",
       "3    82.0   83  \n",
       "4    83.6   64  \n",
       "..    ...  ...  \n",
       "111  81.7   60  \n",
       "112  88.6   60  \n",
       "113  79.4   72  \n",
       "114  84.8   81  \n",
       "115  89.4  100  \n",
       "\n",
       "[116 rows x 13 columns]"
      ]
     },
     "execution_count": 4,
     "metadata": {},
     "output_type": "execute_result"
    }
   ],
   "source": [
    "patients_df"
   ]
  },
  {
   "cell_type": "markdown",
   "id": "873368e9-14c2-4aa5-9a05-01537333a026",
   "metadata": {},
   "source": [
    "## Working With a Patient"
   ]
  },
  {
   "cell_type": "code",
   "execution_count": 5,
   "id": "882e1d49-8fff-4aec-9d3f-f20a47befe07",
   "metadata": {},
   "outputs": [],
   "source": [
    "from CKDPlanDesigner.models import patients, plans, interventions\n",
    "%load_ext autoreload\n",
    "%autoreload patients\n",
    "%autoreload plans\n",
    "%autoreload interventions"
   ]
  },
  {
   "cell_type": "code",
   "execution_count": 6,
   "id": "c7c06e81-bb73-43a3-84ef-5edd28e8e6e7",
   "metadata": {},
   "outputs": [],
   "source": [
    "patient1_config = patients_df.to_dict(orient='index')[5]"
   ]
  },
  {
   "cell_type": "code",
   "execution_count": 7,
   "id": "7313ff51-4f1f-4e55-b9a9-ae9954dd06f2",
   "metadata": {},
   "outputs": [],
   "source": [
    "def get_age(date_str):\n",
    "    try:\n",
    "        delta = datetime.datetime.now() - datetime.datetime.strptime(str(date_str), '%Y-%M-%d')\n",
    "        return delta.days // 365\n",
    "    except:\n",
    "        return 55 # average age"
   ]
  },
  {
   "cell_type": "code",
   "execution_count": 8,
   "id": "997f9f5d-b4ec-4a5f-9137-d1794ba4950b",
   "metadata": {},
   "outputs": [
    {
     "data": {
      "text/plain": [
       "81"
      ]
     },
     "execution_count": 8,
     "metadata": {},
     "output_type": "execute_result"
    }
   ],
   "source": [
    "get_age(patient1_config['dob'])"
   ]
  },
  {
   "cell_type": "code",
   "execution_count": 9,
   "id": "6e9d3072-c056-4ac4-9555-66e31d847e70",
   "metadata": {},
   "outputs": [],
   "source": [
    "# patient_config = {'patient_id': 123,2\n",
    "#                   'eGFR': 70,\n",
    "#                   'depression': True\n",
    "#                  }\n",
    "\n",
    "\n",
    "# select the first patient and convert feature vector to a dictionary\n",
    "# we pass this dictionary to the patient class on instantiation\n",
    "patient1_config = patients_df.to_dict(orient='index')[0]\n",
    "p1 = patients.Patient(**patient1_config)\n",
    "\n",
    "patient2_config = patients_df.to_dict(orient='index')[91]\n",
    "# patient2_config = patients_df.to_dict(orient='index')[15]\n",
    "p2 = patients.Patient(**patient2_config)"
   ]
  },
  {
   "cell_type": "markdown",
   "id": "97f73ada-0f6b-48fa-8914-414a375532ad",
   "metadata": {},
   "source": [
    "#### Look at patient 1's charecteristics"
   ]
  },
  {
   "cell_type": "code",
   "execution_count": 10,
   "id": "74b936ce-c308-4206-a295-2dae79c1d30b",
   "metadata": {},
   "outputs": [
    {
     "data": {
      "text/plain": [
       "{'patient_id': 'c8403116-d069-4130-aa02-39954fc971b5',\n",
       " 't2d': True,\n",
       " 'depression': False,\n",
       " 'bmi': False,\n",
       " 'hypertension': False,\n",
       " 'smoking': False,\n",
       " 'dob': '1967-03-26',\n",
       " 'race': 'white',\n",
       " 'ethnicity': 'nonhispanic',\n",
       " 'gender': 'F',\n",
       " 'zip': nan,\n",
       " 'eGFR': 66.9,\n",
       " 'age': 55}"
      ]
     },
     "execution_count": 10,
     "metadata": {},
     "output_type": "execute_result"
    }
   ],
   "source": [
    "p1.patient_config"
   ]
  },
  {
   "cell_type": "code",
   "execution_count": 10,
   "id": "30c05c8b-a422-4580-b46b-a8d490f7e327",
   "metadata": {},
   "outputs": [
    {
     "data": {
      "text/plain": [
       "<CKDPlanDesigner.models.stages.Stage2 at 0x7fa4a9ce3048>"
      ]
     },
     "execution_count": 10,
     "metadata": {},
     "output_type": "execute_result"
    }
   ],
   "source": [
    "# we automatically assign a CKD stage when a patient is created\n",
    "p1.stage"
   ]
  },
  {
   "cell_type": "markdown",
   "id": "9c13e24a-43a4-4515-b5e6-297eed671ec4",
   "metadata": {},
   "source": [
    "### Generate a care plan"
   ]
  },
  {
   "cell_type": "code",
   "execution_count": 11,
   "id": "c2469b60-63e0-4bfd-9df7-e7c719b4eb2d",
   "metadata": {},
   "outputs": [
    {
     "name": "stdout",
     "output_type": "stream",
     "text": [
      "Plan: Delay\n"
     ]
    }
   ],
   "source": [
    "p1.generate_careplan()\n",
    "print(p1.careplan.plan_name)"
   ]
  },
  {
   "cell_type": "code",
   "execution_count": 12,
   "id": "770d7b6f-7ea9-48d8-899d-b9927f052d7b",
   "metadata": {},
   "outputs": [
    {
     "data": {
      "text/plain": [
       "{'patient_id': 'c8403116-d069-4130-aa02-39954fc971b5',\n",
       " 't2d': True,\n",
       " 'depression': False,\n",
       " 'bmi': False,\n",
       " 'hypertension': False,\n",
       " 'smoking': False,\n",
       " 'dob': '1967-03-26',\n",
       " 'race': 'white',\n",
       " 'ethnicity': 'nonhispanic',\n",
       " 'gender': 'F',\n",
       " 'zip': nan,\n",
       " 'eGFR': 66.9}"
      ]
     },
     "execution_count": 12,
     "metadata": {},
     "output_type": "execute_result"
    }
   ],
   "source": [
    "p1.patient_config"
   ]
  },
  {
   "cell_type": "code",
   "execution_count": 13,
   "id": "48fc1d11-3731-45bf-b18f-3da891edcfc5",
   "metadata": {},
   "outputs": [
    {
     "data": {
      "text/plain": [
       "<CKDPlanDesigner.models.plans.EarlyDelayPlan at 0x7fdf31c91668>"
      ]
     },
     "execution_count": 13,
     "metadata": {},
     "output_type": "execute_result"
    }
   ],
   "source": [
    "p1.careplan"
   ]
  },
  {
   "cell_type": "code",
   "execution_count": 14,
   "id": "73217ee3-36f4-4756-bf63-c80bea72b0cc",
   "metadata": {},
   "outputs": [
    {
     "name": "stdout",
     "output_type": "stream",
     "text": [
      "Plan Components\n"
     ]
    },
    {
     "data": {
      "text/plain": [
       "[('T2D Management', 'Cost Reduction: 0.65')]"
      ]
     },
     "execution_count": 14,
     "metadata": {},
     "output_type": "execute_result"
    }
   ],
   "source": [
    "p1.careplan.list_components()"
   ]
  },
  {
   "cell_type": "markdown",
   "id": "8eae8b3e-3f2e-462c-a534-fc3dc1978c20",
   "metadata": {},
   "source": [
    "### Try it out for a different patient\n",
    "- This patient has more co-morbidities. Check them out!\n",
    "- Because of this, we should expect a more comprehensive care plan even though they're still just stage 2"
   ]
  },
  {
   "cell_type": "code",
   "execution_count": 15,
   "id": "003e07c3-4935-45dd-8709-bf6c8f585881",
   "metadata": {},
   "outputs": [],
   "source": [
    "import yaml"
   ]
  },
  {
   "cell_type": "code",
   "execution_count": 16,
   "id": "49a94a58-aa2a-4ec4-b210-823300629bcb",
   "metadata": {},
   "outputs": [],
   "source": [
    "# yaml_path = os.path.join('/Users/nicholasdeveau/projects/bmi210/bmi210Project/project_code/src/CKDPlanDesigner/configs/ix_config.yaml')\n",
    "# ix_config_yaml = open(yaml_path)\n",
    "# ix_config = yaml.load(ix_config_yaml, Loader=yaml.FullLoader)"
   ]
  },
  {
   "cell_type": "code",
   "execution_count": 17,
   "id": "231b2944-fb6b-46a6-bac3-ba7e134905ea",
   "metadata": {},
   "outputs": [
    {
     "data": {
      "text/plain": [
       "{'patient_id': '6dafa93d-3698-4124-9bbd-7429cc2a7374',\n",
       " 't2d': False,\n",
       " 'depression': False,\n",
       " 'bmi': True,\n",
       " 'hypertension': True,\n",
       " 'smoking': False,\n",
       " 'dob': '1953-01-20',\n",
       " 'race': 'white',\n",
       " 'ethnicity': 'nonhispanic',\n",
       " 'gender': 'M',\n",
       " 'zip': 1602.0,\n",
       " 'eGFR': 19.3}"
      ]
     },
     "execution_count": 17,
     "metadata": {},
     "output_type": "execute_result"
    }
   ],
   "source": [
    "p2.patient_config"
   ]
  },
  {
   "cell_type": "code",
   "execution_count": 18,
   "id": "9153e3e9-71c9-47bb-9827-6e8fbd31add2",
   "metadata": {},
   "outputs": [
    {
     "data": {
      "text/plain": [
       "<CKDPlanDesigner.models.stages.Stage4 at 0x7fdf10a70ba8>"
      ]
     },
     "execution_count": 18,
     "metadata": {},
     "output_type": "execute_result"
    }
   ],
   "source": [
    "p2.stage"
   ]
  },
  {
   "cell_type": "code",
   "execution_count": 19,
   "id": "43a3fa7b-19ba-4671-996c-1663a4c1c53d",
   "metadata": {},
   "outputs": [
    {
     "name": "stdout",
     "output_type": "stream",
     "text": [
      "Plan Components\n"
     ]
    },
    {
     "data": {
      "text/plain": [
       "['Vascular Access',\n",
       " 'Peritoneal Dialysis',\n",
       " 'Hemodialysis',\n",
       " 'Education and Engagement',\n",
       " 'Nephro Engagement']"
      ]
     },
     "execution_count": 19,
     "metadata": {},
     "output_type": "execute_result"
    }
   ],
   "source": [
    "p2.generate_careplan()\n",
    "p2.careplan.list_components(show_savings=False)"
   ]
  },
  {
   "cell_type": "code",
   "execution_count": 20,
   "id": "67cfd598-8043-4a6f-9b80-3a8408382320",
   "metadata": {},
   "outputs": [
    {
     "data": {
      "text/plain": [
       "{'patient_id': '6dafa93d-3698-4124-9bbd-7429cc2a7374',\n",
       " 't2d': False,\n",
       " 'depression': False,\n",
       " 'bmi': True,\n",
       " 'hypertension': True,\n",
       " 'smoking': False,\n",
       " 'dob': '1953-01-20',\n",
       " 'race': 'white',\n",
       " 'ethnicity': 'nonhispanic',\n",
       " 'gender': 'M',\n",
       " 'zip': 1602.0,\n",
       " 'eGFR': 19.3}"
      ]
     },
     "execution_count": 20,
     "metadata": {},
     "output_type": "execute_result"
    }
   ],
   "source": [
    "p2.patient_config"
   ]
  },
  {
   "cell_type": "code",
   "execution_count": 21,
   "id": "ad501848-bf36-4ec3-9778-75c19d3a978f",
   "metadata": {},
   "outputs": [
    {
     "data": {
      "text/plain": [
       "{'patient_id': '6dafa93d-3698-4124-9bbd-7429cc2a7374',\n",
       " 't2d': False,\n",
       " 'depression': False,\n",
       " 'bmi': True,\n",
       " 'hypertension': True,\n",
       " 'smoking': False,\n",
       " 'dob': '1953-01-20',\n",
       " 'race': 'white',\n",
       " 'ethnicity': 'nonhispanic',\n",
       " 'gender': 'M',\n",
       " 'zip': 1602.0,\n",
       " 'eGFR': 19.3}"
      ]
     },
     "execution_count": 21,
     "metadata": {},
     "output_type": "execute_result"
    }
   ],
   "source": [
    "p2.patient_config"
   ]
  },
  {
   "cell_type": "code",
   "execution_count": 22,
   "id": "9d84f051-b294-493a-b572-c1ec5b48b735",
   "metadata": {},
   "outputs": [
    {
     "name": "stdout",
     "output_type": "stream",
     "text": [
      "Plan Components\n"
     ]
    },
    {
     "data": {
      "text/plain": [
       "[('Vascular Access', 'Cost Reduction: 1'),\n",
       " ('Peritoneal Dialysis', 'Cost Reduction: 1'),\n",
       " ('Hemodialysis', 'Cost Reduction: 1'),\n",
       " ('Education and Engagement', 'Cost Reduction: 1'),\n",
       " ('Nephro Engagement', 'Cost Reduction: 1')]"
      ]
     },
     "execution_count": 22,
     "metadata": {},
     "output_type": "execute_result"
    }
   ],
   "source": [
    "p2.careplan.list_components()"
   ]
  },
  {
   "cell_type": "code",
   "execution_count": 23,
   "id": "61534a39-fc83-4327-90bc-99e8c6e5170a",
   "metadata": {},
   "outputs": [
    {
     "name": "stdout",
     "output_type": "stream",
     "text": [
      "Plan Components\n"
     ]
    },
    {
     "data": {
      "text/plain": [
       "['Vascular Access',\n",
       " 'Peritoneal Dialysis',\n",
       " 'Hemodialysis',\n",
       " 'Education and Engagement',\n",
       " 'Nephro Engagement']"
      ]
     },
     "execution_count": 23,
     "metadata": {},
     "output_type": "execute_result"
    }
   ],
   "source": [
    "p2.careplan.list_components(show_savings=False)"
   ]
  },
  {
   "cell_type": "code",
   "execution_count": null,
   "id": "1f794fdc-b5df-402e-8d39-1daf7a8ea314",
   "metadata": {},
   "outputs": [],
   "source": [
    "\"\"\"\n",
    "1) profile patient (patient_config)\n",
    "2) classified into disease (patient.stage)\n",
    "3) unoptimized charecteristics (trey creating this in the ontology)\n",
    "    3a) unoptimmized = some min number of \"bad\" criteria (from patient_config)\n",
    "\"\"\""
   ]
  },
  {
   "cell_type": "code",
   "execution_count": null,
   "id": "2d8dfde8-a354-4ebb-9c27-9f19a056186d",
   "metadata": {},
   "outputs": [],
   "source": []
  }
 ],
 "metadata": {
  "kernelspec": {
   "display_name": "nick",
   "language": "python",
   "name": "nick"
  },
  "language_info": {
   "codemirror_mode": {
    "name": "ipython",
    "version": 3
   },
   "file_extension": ".py",
   "mimetype": "text/x-python",
   "name": "python",
   "nbconvert_exporter": "python",
   "pygments_lexer": "ipython3",
   "version": "3.6.13"
  }
 },
 "nbformat": 4,
 "nbformat_minor": 5
}
