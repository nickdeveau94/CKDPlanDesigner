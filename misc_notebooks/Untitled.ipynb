{
 "cells": [
  {
   "cell_type": "code",
   "execution_count": 19,
   "id": "12c5fa76-edf7-4a25-86e0-87db443d1eba",
   "metadata": {},
   "outputs": [
    {
     "name": "stdout",
     "output_type": "stream",
     "text": [
      "The autoreload extension is already loaded. To reload it, use:\n",
      "  %reload_ext autoreload\n"
     ]
    }
   ],
   "source": [
    "from CKDPlanDesigner.models import plans, patients\n",
    "from CKDPlanDesigner.utils import data_preprocessing as pre\n",
    "import pandas as pd\n",
    "import os\n",
    "\n",
    "\n",
    "%load_ext autoreload\n",
    "%autoreload"
   ]
  },
  {
   "cell_type": "markdown",
   "id": "4ded9ceb-2e7d-4de3-be22-efaddf10d3bb",
   "metadata": {},
   "source": [
    "### Load Data"
   ]
  },
  {
   "cell_type": "code",
   "execution_count": 20,
   "id": "626f5316-d2cb-40e2-aed6-3d9eed612f01",
   "metadata": {},
   "outputs": [],
   "source": [
    "\n",
    "# def preprocess_synthea_data(synthea_path):\n",
    "#     cond_df = pd.read_csv(os.path.join(synthea_path, 'conditions.csv'))\n",
    "#     depressions_desc = [val for val in set(cond_df.DESCRIPTION) if 'depr' in val]\n",
    "#     ht_desc = [val for val in set(cond_df.DESCRIPTION) if 'Hypertension' in val]\n",
    "#     bmi_desc = [val for val in set(cond_df.DESCRIPTION) if 'Body mass index' in val]\n",
    "#     diabet_desc = [val for val in set(cond_df.DESCRIPTION) if 'diabet' in val]\n",
    "\n",
    "#     cond_sel_vals = depressions_desc + \\\n",
    "#                     ht_desc + \\\n",
    "#                     bmi_desc + \\\n",
    "#                     diabet_desc\n",
    "\n",
    "#     sel_cond_df = cond_df[cond_df.DESCRIPTION.isin(cond_sel_vals)]\n",
    "#     sel_cond_df['VALUE'] = 1\n",
    "#     sel_cond_df = sel_cond_df[['PATIENT', 'DESCRIPTION', 'VALUE']]\n",
    "#     cond_df_wide = pd.pivot(sel_cond_df, index='PATIENT', columns='DESCRIPTION', values='VALUE').fillna(0).reset_index()\n",
    "\n",
    "#     obs_df = pd.read_csv('../bmi210Project_data/synthea_data/observations.csv')\n",
    "#     smoking_desc  = [val for val in set(obs_df['DESCRIPTION']) if 'smok' in val]\n",
    "\n",
    "#     sel_obs_df = obs_df[obs_df.DESCRIPTION.isin(smoking_desc)].sort_values('DATE').drop_duplicates('PATIENT', keep='last')\n",
    "#     smoking_df = sel_obs_df[['PATIENT', 'DESCRIPTION', 'VALUE']]\n",
    "#     smoking_df_wide = pd.pivot(smoking_df, index='PATIENT', columns='DESCRIPTION', values='VALUE').fillna(0).reset_index()\n",
    "\n",
    "#     smoking_mapping = {'Never smoker': 0,\n",
    "#                        'Former smoker': 1,\n",
    "#                        'Current every day smoker': 1}\n",
    "\n",
    "#     smoking_df_wide['Tobacco smoking status NHIS'] = smoking_df_wide['Tobacco smoking status NHIS'].map(smoking_mapping)\n",
    "\n",
    "#     patients_df = pd.read_csv(os.path.join(synthea_path, 'patients.csv'))\n",
    "#     obs_df = pd.read_csv(os.path.join(synthea_path, 'observations.csv'))\n",
    "\n",
    "#     # uncomment for all observation types\n",
    "#     # set(pd.read_csv('synthea_data/observations.csv').DESCRIPTION.values)\n",
    "\n",
    "#     kidney_obs = obs_df[obs_df['DESCRIPTION'] == 'Glomerular filtration rate/1.73 sq M.predicted']\n",
    "#     kidney_obs = kidney_obs[['DATE', 'PATIENT', 'DESCRIPTION', 'VALUE', 'UNITS']].sort_values('DATE').drop_duplicates('PATIENT', keep='last')\n",
    "#     gfr_df = pd.pivot(kidney_obs, index='PATIENT', columns='DESCRIPTION', values='VALUE').reset_index()\n",
    "#     px_df = patients_df.merge(gfr_df, left_on='Id', right_on='PATIENT')\n",
    "\n",
    "#     sel_cols = ['Id',\n",
    "#      'BIRTHDATE',\n",
    "#      'RACE',\n",
    "#      'ETHNICITY',\n",
    "#      'GENDER',\n",
    "#      'ZIP',\n",
    "#      'Glomerular filtration rate/1.73 sq M.predicted']\n",
    "\n",
    "#     col_names = ['Id',\n",
    "#      'BIRTHDATE',\n",
    "#      'RACE',\n",
    "#      'ETHNICITY',\n",
    "#      'GENDER',\n",
    "#      'ZIP',\n",
    "#      'eGFR']\n",
    "\n",
    "#     px_df = px_df[sel_cols]\n",
    "#     px_df.columns = col_names\n",
    "#     px_df['eGFR'] = px_df.eGFR.astype(float)\n",
    "\n",
    "#     tmp = px_df.merge(cond_df_wide, how='left', left_on='Id', right_on='PATIENT').drop('Id', 1)\n",
    "#     # tmp = tmp.merge(obs_df_wide, how='left', on='PATIENT')\n",
    "#     tmp = tmp.merge(smoking_df_wide, how='left', on='PATIENT')\n",
    "\n",
    "#     diabetes_indicator = tmp[diabet_desc].max(axis=1)\n",
    "#     depression_indicator = tmp[depressions_desc].max(axis=1)\n",
    "#     bmi_indicator = tmp[bmi_desc].max(axis=1)\n",
    "#     ht_indicator = tmp[ht_desc].max(axis=1)\n",
    "#     smoking_indicator = tmp[smoking_desc].max(axis=1)\n",
    "#     # smoking_indicator = tmp[smoking_desc].max(axis=1)\n",
    "\n",
    "#     final_df = pd.concat([tmp.PATIENT,\n",
    "#                           diabetes_indicator,\n",
    "#                           depression_indicator,\n",
    "#                           bmi_indicator,\n",
    "#                           ht_indicator,\n",
    "#                           smoking_indicator], axis=1)\n",
    "#     final_df.columns = ['PATIENT',\n",
    "#                         'diabetes',\n",
    "#                         'depression',\n",
    "#                         'bmi',\n",
    "#                         'ht',\n",
    "#                         'smoking']\n",
    "\n",
    "#     final_df = final_df.merge(px_df, how='left', left_on='PATIENT', right_on='Id')\n",
    "#     final_df = final_df[[col for col in final_df.columns if col != 'Id']]\n",
    "#     final_df.columns = ['patient_id',\n",
    "#                         't2d',\n",
    "#                         'depression',\n",
    "#                         'bmi',\n",
    "#                         'hypertension',\n",
    "#                         'smoking',\n",
    "#                         'dob',\n",
    "#                         'race',\n",
    "#                         'ethnicity',\n",
    "#                         'gender',\n",
    "#                         'zip',\n",
    "#                         'eGFR']\n",
    "#     final_df['t2d'] = final_df['t2d'].astype(bool)\n",
    "#     final_df['depression'] = final_df['depression'].astype(bool)\n",
    "#     final_df['bmi'] = final_df['bmi'].astype(bool)\n",
    "#     final_df['hypertension'] = final_df['hypertension'].astype(bool)\n",
    "#     final_df['smoking'] = final_df['smoking'].astype(bool)\n",
    "    \n",
    "#     return final_df"
   ]
  },
  {
   "cell_type": "code",
   "execution_count": 21,
   "id": "61352865-1a8a-47b1-8287-f8d0140940d8",
   "metadata": {},
   "outputs": [
    {
     "name": "stderr",
     "output_type": "stream",
     "text": [
      "/Users/nicholasdeveau/projects/bmi210/bmi210Project/project_code/src/CKDPlanDesigner/utils/data_preprocessing.py:29: SettingWithCopyWarning: \n",
      "A value is trying to be set on a copy of a slice from a DataFrame.\n",
      "Try using .loc[row_indexer,col_indexer] = value instead\n",
      "\n",
      "See the caveats in the documentation: https://pandas.pydata.org/pandas-docs/stable/user_guide/indexing.html#returning-a-view-versus-a-copy\n",
      "  \n"
     ]
    }
   ],
   "source": [
    "patient_df = pre.preprocess_synthea_data(synthea_path='/Users/nicholasdeveau/projects/bmi210/bmi210Project_data/synthea_data/')"
   ]
  },
  {
   "cell_type": "code",
   "execution_count": 22,
   "id": "dbf0834d-6931-4186-849d-66522bd8b8ff",
   "metadata": {},
   "outputs": [
    {
     "name": "stdout",
     "output_type": "stream",
     "text": [
      "The autoreload extension is already loaded. To reload it, use:\n",
      "  %reload_ext autoreload\n"
     ]
    }
   ],
   "source": [
    "from importlib import reload  \n",
    "reload(patients)\n",
    "\n",
    "%load_ext autoreload\n",
    "%autoreload\n",
    "\n",
    "# patient_config = {'patient_id': 123,2\n",
    "#                   'eGFR': 70,\n",
    "#                   'depression': True\n",
    "#                  }\n",
    "\n",
    "patient_config_0 = patient_df.to_dict(orient='index')[0]\n",
    "p0 = patients.Patient(**patient_config_0)\n",
    "\n",
    "patient_config_5 = patient_df.to_dict(orient='index')[5]\n",
    "p5 = patients.Patient(**patient_config_5)"
   ]
  },
  {
   "cell_type": "code",
   "execution_count": 23,
   "id": "af2c8ac0-e874-495a-b2d2-c55658c37eb5",
   "metadata": {},
   "outputs": [
    {
     "data": {
      "text/plain": [
       "{'patient_id': 'c8403116-d069-4130-aa02-39954fc971b5',\n",
       " 't2d': True,\n",
       " 'depression': False,\n",
       " 'bmi': False,\n",
       " 'hypertension': False,\n",
       " 'smoking': False,\n",
       " 'dob': '1967-03-26',\n",
       " 'race': 'white',\n",
       " 'ethnicity': 'nonhispanic',\n",
       " 'gender': 'F',\n",
       " 'zip': nan,\n",
       " 'eGFR': 66.9}"
      ]
     },
     "execution_count": 23,
     "metadata": {},
     "output_type": "execute_result"
    }
   ],
   "source": [
    "p0.patient_config"
   ]
  },
  {
   "cell_type": "code",
   "execution_count": 13,
   "id": "922d1cf9-1d07-4afa-9eeb-0fa7cc95928b",
   "metadata": {},
   "outputs": [
    {
     "name": "stdout",
     "output_type": "stream",
     "text": [
      "instantiating delay plan\n"
     ]
    }
   ],
   "source": [
    "p0.generate_careplan()"
   ]
  },
  {
   "cell_type": "code",
   "execution_count": 14,
   "id": "54e91656-92ff-446d-80af-61bc95df2170",
   "metadata": {},
   "outputs": [
    {
     "data": {
      "text/plain": [
       "[('T2D Management', 'Savings: 0.65')]"
      ]
     },
     "execution_count": 14,
     "metadata": {},
     "output_type": "execute_result"
    }
   ],
   "source": [
    "p0.careplan.list_components(show_savings=True)"
   ]
  },
  {
   "cell_type": "code",
   "execution_count": 42,
   "id": "d6451814-c7f3-42db-b897-1dcfb1d5648d",
   "metadata": {},
   "outputs": [
    {
     "data": {
      "text/plain": [
       "0.65"
      ]
     },
     "execution_count": 42,
     "metadata": {},
     "output_type": "execute_result"
    }
   ],
   "source": [
    "p0.careplan.get_savings()"
   ]
  },
  {
   "cell_type": "code",
   "execution_count": 43,
   "id": "1eab8776-9c57-4c46-a3d1-74c835ba6383",
   "metadata": {},
   "outputs": [
    {
     "name": "stdout",
     "output_type": "stream",
     "text": [
      "instantiating delay plan\n"
     ]
    }
   ],
   "source": [
    "p5.generate_careplan()"
   ]
  },
  {
   "cell_type": "code",
   "execution_count": 44,
   "id": "fb782f40-aa5c-4704-b318-43f86da7f676",
   "metadata": {},
   "outputs": [
    {
     "data": {
      "text/plain": [
       "[('Hypertension Management', 'Savings: 0.5'),\n",
       " ('Dietary Program', 'Savings: 0.7')]"
      ]
     },
     "execution_count": 44,
     "metadata": {},
     "output_type": "execute_result"
    }
   ],
   "source": [
    "p5.careplan.list_components()"
   ]
  },
  {
   "cell_type": "code",
   "execution_count": 39,
   "id": "25c135b6-c742-4e33-b526-026c38346a7c",
   "metadata": {},
   "outputs": [
    {
     "ename": "NameError",
     "evalue": "name 'p1' is not defined",
     "output_type": "error",
     "traceback": [
      "\u001b[0;31m---------------------------------------------------------------------------\u001b[0m",
      "\u001b[0;31mNameError\u001b[0m                                 Traceback (most recent call last)",
      "\u001b[0;32m<ipython-input-39-18ae2f008505>\u001b[0m in \u001b[0;36m<module>\u001b[0;34m\u001b[0m\n\u001b[0;32m----> 1\u001b[0;31m \u001b[0mp1\u001b[0m\u001b[0;34m.\u001b[0m\u001b[0mcareplan\u001b[0m\u001b[0;34m\u001b[0m\u001b[0;34m\u001b[0m\u001b[0m\n\u001b[0m",
      "\u001b[0;31mNameError\u001b[0m: name 'p1' is not defined"
     ]
    }
   ],
   "source": [
    "p1.careplan"
   ]
  },
  {
   "cell_type": "markdown",
   "id": "de61d3e3-7035-4b67-b76a-9d26f031fda1",
   "metadata": {},
   "source": [
    "#### YAML scratch"
   ]
  },
  {
   "cell_type": "code",
   "execution_count": 71,
   "id": "5bd03b2f-003a-44c1-8252-bea7c1a7c819",
   "metadata": {},
   "outputs": [],
   "source": [
    "import yaml\n",
    "a_yaml_file = open('project_code/src/CKDPlanDesigner/config.yaml')\n",
    "parsed_yaml_file = yaml.load(a_yaml_file, Loader=yaml.FullLoader)"
   ]
  },
  {
   "cell_type": "code",
   "execution_count": 72,
   "id": "2391d848-71b1-442c-b3aa-f4d099460ba0",
   "metadata": {},
   "outputs": [
    {
     "data": {
      "text/plain": [
       "{'savings': {'t2d': 0.65, 'ht': 0.5}}"
      ]
     },
     "execution_count": 72,
     "metadata": {},
     "output_type": "execute_result"
    }
   ],
   "source": [
    "parsed_yaml_file"
   ]
  },
  {
   "cell_type": "code",
   "execution_count": null,
   "id": "01d51e7e-0f31-4b34-acc1-c473c99a8bd0",
   "metadata": {},
   "outputs": [],
   "source": []
  }
 ],
 "metadata": {
  "kernelspec": {
   "display_name": "nick",
   "language": "python",
   "name": "nick"
  },
  "language_info": {
   "codemirror_mode": {
    "name": "ipython",
    "version": 3
   },
   "file_extension": ".py",
   "mimetype": "text/x-python",
   "name": "python",
   "nbconvert_exporter": "python",
   "pygments_lexer": "ipython3",
   "version": "3.6.13"
  }
 },
 "nbformat": 4,
 "nbformat_minor": 5
}
