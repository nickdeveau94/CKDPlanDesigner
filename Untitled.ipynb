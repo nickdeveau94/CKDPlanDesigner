{
 "cells": [
  {
   "cell_type": "code",
   "execution_count": 27,
   "id": "12c5fa76-edf7-4a25-86e0-87db443d1eba",
   "metadata": {},
   "outputs": [
    {
     "name": "stdout",
     "output_type": "stream",
     "text": [
      "The autoreload extension is already loaded. To reload it, use:\n",
      "  %reload_ext autoreload\n"
     ]
    }
   ],
   "source": [
    "from CKDPlanDesigner import plans, patients\n",
    "import pandas as pd\n",
    "\n",
    "\n",
    "%load_ext autoreload\n",
    "%autoreload"
   ]
  },
  {
   "cell_type": "markdown",
   "id": "4ded9ceb-2e7d-4de3-be22-efaddf10d3bb",
   "metadata": {},
   "source": [
    "### Load Data"
   ]
  },
  {
   "cell_type": "code",
   "execution_count": 28,
   "id": "a3404b3d-7da5-474c-aa6e-1f5bf0ac3abd",
   "metadata": {},
   "outputs": [
    {
     "data": {
      "text/html": [
       "<div>\n",
       "<style scoped>\n",
       "    .dataframe tbody tr th:only-of-type {\n",
       "        vertical-align: middle;\n",
       "    }\n",
       "\n",
       "    .dataframe tbody tr th {\n",
       "        vertical-align: top;\n",
       "    }\n",
       "\n",
       "    .dataframe thead th {\n",
       "        text-align: right;\n",
       "    }\n",
       "</style>\n",
       "<table border=\"1\" class=\"dataframe\">\n",
       "  <thead>\n",
       "    <tr style=\"text-align: right;\">\n",
       "      <th></th>\n",
       "      <th>PATIENT</th>\n",
       "      <th>DESCRIPTION</th>\n",
       "      <th>VALUE</th>\n",
       "    </tr>\n",
       "  </thead>\n",
       "  <tbody>\n",
       "    <tr>\n",
       "      <th>23</th>\n",
       "      <td>b58731cc-2d8b-4c2d-b327-4cab771af3ef</td>\n",
       "      <td>Body mass index 30+ - obesity (finding)</td>\n",
       "      <td>1</td>\n",
       "    </tr>\n",
       "    <tr>\n",
       "      <th>44</th>\n",
       "      <td>bfb6537b-535a-4f31-9a56-073220f96a17</td>\n",
       "      <td>Prediabetes</td>\n",
       "      <td>1</td>\n",
       "    </tr>\n",
       "    <tr>\n",
       "      <th>45</th>\n",
       "      <td>83719bd7-7a41-4c87-93f9-c5de4db6a14a</td>\n",
       "      <td>Hypertension</td>\n",
       "      <td>1</td>\n",
       "    </tr>\n",
       "    <tr>\n",
       "      <th>63</th>\n",
       "      <td>76982e06-f8b8-4509-9ca3-65a99c8650fe</td>\n",
       "      <td>Body mass index 30+ - obesity (finding)</td>\n",
       "      <td>1</td>\n",
       "    </tr>\n",
       "    <tr>\n",
       "      <th>65</th>\n",
       "      <td>2ffe9369-24e4-414b-8973-258fad09313a</td>\n",
       "      <td>Hypertension</td>\n",
       "      <td>1</td>\n",
       "    </tr>\n",
       "    <tr>\n",
       "      <th>...</th>\n",
       "      <td>...</td>\n",
       "      <td>...</td>\n",
       "      <td>...</td>\n",
       "    </tr>\n",
       "    <tr>\n",
       "      <th>8336</th>\n",
       "      <td>023a7d29-32b3-4db5-89c8-b88bd7582ec0</td>\n",
       "      <td>Prediabetes</td>\n",
       "      <td>1</td>\n",
       "    </tr>\n",
       "    <tr>\n",
       "      <th>8349</th>\n",
       "      <td>6d048a56-edb8-4f29-891d-7a84d75a8e78</td>\n",
       "      <td>Body mass index 30+ - obesity (finding)</td>\n",
       "      <td>1</td>\n",
       "    </tr>\n",
       "    <tr>\n",
       "      <th>8351</th>\n",
       "      <td>6d048a56-edb8-4f29-891d-7a84d75a8e78</td>\n",
       "      <td>Prediabetes</td>\n",
       "      <td>1</td>\n",
       "    </tr>\n",
       "    <tr>\n",
       "      <th>8360</th>\n",
       "      <td>fca3178e-fb68-41c3-8598-702d3ca68b96</td>\n",
       "      <td>Body mass index 30+ - obesity (finding)</td>\n",
       "      <td>1</td>\n",
       "    </tr>\n",
       "    <tr>\n",
       "      <th>8362</th>\n",
       "      <td>fca3178e-fb68-41c3-8598-702d3ca68b96</td>\n",
       "      <td>Prediabetes</td>\n",
       "      <td>1</td>\n",
       "    </tr>\n",
       "  </tbody>\n",
       "</table>\n",
       "<p>1136 rows × 3 columns</p>\n",
       "</div>"
      ],
      "text/plain": [
       "                                   PATIENT  \\\n",
       "23    b58731cc-2d8b-4c2d-b327-4cab771af3ef   \n",
       "44    bfb6537b-535a-4f31-9a56-073220f96a17   \n",
       "45    83719bd7-7a41-4c87-93f9-c5de4db6a14a   \n",
       "63    76982e06-f8b8-4509-9ca3-65a99c8650fe   \n",
       "65    2ffe9369-24e4-414b-8973-258fad09313a   \n",
       "...                                    ...   \n",
       "8336  023a7d29-32b3-4db5-89c8-b88bd7582ec0   \n",
       "8349  6d048a56-edb8-4f29-891d-7a84d75a8e78   \n",
       "8351  6d048a56-edb8-4f29-891d-7a84d75a8e78   \n",
       "8360  fca3178e-fb68-41c3-8598-702d3ca68b96   \n",
       "8362  fca3178e-fb68-41c3-8598-702d3ca68b96   \n",
       "\n",
       "                                  DESCRIPTION  VALUE  \n",
       "23    Body mass index 30+ - obesity (finding)      1  \n",
       "44                                Prediabetes      1  \n",
       "45                               Hypertension      1  \n",
       "63    Body mass index 30+ - obesity (finding)      1  \n",
       "65                               Hypertension      1  \n",
       "...                                       ...    ...  \n",
       "8336                              Prediabetes      1  \n",
       "8349  Body mass index 30+ - obesity (finding)      1  \n",
       "8351                              Prediabetes      1  \n",
       "8360  Body mass index 30+ - obesity (finding)      1  \n",
       "8362                              Prediabetes      1  \n",
       "\n",
       "[1136 rows x 3 columns]"
      ]
     },
     "execution_count": 28,
     "metadata": {},
     "output_type": "execute_result"
    }
   ],
   "source": [
    "sel_cond_df"
   ]
  },
  {
   "cell_type": "code",
   "execution_count": 29,
   "id": "626f5316-d2cb-40e2-aed6-3d9eed612f01",
   "metadata": {},
   "outputs": [
    {
     "name": "stderr",
     "output_type": "stream",
     "text": [
      "/Users/nicholasdeveau/opt/anaconda3/envs/nick/lib/python3.6/site-packages/ipykernel_launcher.py:13: SettingWithCopyWarning: \n",
      "A value is trying to be set on a copy of a slice from a DataFrame.\n",
      "Try using .loc[row_indexer,col_indexer] = value instead\n",
      "\n",
      "See the caveats in the documentation: https://pandas.pydata.org/pandas-docs/stable/user_guide/indexing.html#returning-a-view-versus-a-copy\n",
      "  del sys.path[0]\n"
     ]
    }
   ],
   "source": [
    "cond_df = pd.read_csv('../bmi210Project_data/synthea_data/conditions.csv')\n",
    "depressions_desc = [val for val in set(cond_df.DESCRIPTION) if 'depr' in val]\n",
    "ht_desc = [val for val in set(cond_df.DESCRIPTION) if 'Hypertension' in val]\n",
    "bmi_desc = [val for val in set(cond_df.DESCRIPTION) if 'Body mass index' in val]\n",
    "diabet_desc = [val for val in set(cond_df.DESCRIPTION) if 'diabet' in val]\n",
    "\n",
    "cond_sel_vals = depressions_desc + \\\n",
    "                ht_desc + \\\n",
    "                bmi_desc + \\\n",
    "                diabet_desc\n",
    "\n",
    "sel_cond_df = cond_df[cond_df.DESCRIPTION.isin(cond_sel_vals)]\n",
    "sel_cond_df['VALUE'] = 1\n",
    "sel_cond_df = sel_cond_df[['PATIENT', 'DESCRIPTION', 'VALUE']]\n",
    "cond_df_wide = pd.pivot(sel_cond_df, index='PATIENT', columns='DESCRIPTION', values='VALUE').fillna(0).reset_index()\n",
    "# pd.pivot(sel_cond_df, index='PATIENT', columns='DESCRIPTION').reset_index()"
   ]
  },
  {
   "cell_type": "code",
   "execution_count": 30,
   "id": "43b08df4-3636-4544-8747-5f489f5c886c",
   "metadata": {},
   "outputs": [],
   "source": [
    "obs_df = pd.read_csv('../bmi210Project_data/synthea_data/observations.csv')\n",
    "smoking_desc  = [val for val in set(obs_df['DESCRIPTION']) if 'smok' in val]"
   ]
  },
  {
   "cell_type": "code",
   "execution_count": null,
   "id": "d5297fa2-62f5-481e-80e3-41eb96a2cc61",
   "metadata": {},
   "outputs": [],
   "source": []
  },
  {
   "cell_type": "code",
   "execution_count": 31,
   "id": "e5f9c1dd-5aff-4009-a25b-d3422aa5427a",
   "metadata": {},
   "outputs": [],
   "source": [
    "sel_obs_df = obs_df[obs_df.DESCRIPTION.isin(smoking_desc)].sort_values('DATE').drop_duplicates('PATIENT', keep='last')\n",
    "smoking_df = sel_obs_df[['PATIENT', 'DESCRIPTION', 'VALUE']]\n",
    "smoking_df_wide = pd.pivot(smoking_df, index='PATIENT', columns='DESCRIPTION', values='VALUE').fillna(0).reset_index()\n",
    "\n",
    "smoking_mapping = {'Never smoker': 0,\n",
    "                   'Former smoker': 1,\n",
    "                   'Current every day smoker': 1}\n",
    "\n",
    "smoking_df_wide['Tobacco smoking status NHIS'] = smoking_df_wide['Tobacco smoking status NHIS'].map(smoking_mapping)"
   ]
  },
  {
   "cell_type": "code",
   "execution_count": 32,
   "id": "a83dc498-e72b-4e1e-9f09-957b0f75174d",
   "metadata": {},
   "outputs": [],
   "source": [
    "patients_df = pd.read_csv('../bmi210Project_data/synthea_data/patients.csv')\n",
    "obs_df = pd.read_csv('../bmi210Project_data/synthea_data/observations.csv')\n",
    "\n",
    "# uncomment for all observation types\n",
    "# set(pd.read_csv('synthea_data/observations.csv').DESCRIPTION.values)\n",
    "\n",
    "kidney_obs = obs_df[obs_df['DESCRIPTION'] == 'Glomerular filtration rate/1.73 sq M.predicted']\n",
    "kidney_obs = kidney_obs[['DATE', 'PATIENT', 'DESCRIPTION', 'VALUE', 'UNITS']].sort_values('DATE').drop_duplicates('PATIENT', keep='last')\n",
    "gfr_df = pd.pivot(kidney_obs, index='PATIENT', columns='DESCRIPTION', values='VALUE').reset_index()\n",
    "px_df = patients_df.merge(gfr_df, left_on='Id', right_on='PATIENT')\n",
    "\n",
    "sel_cols = ['Id',\n",
    " 'BIRTHDATE',\n",
    " 'RACE',\n",
    " 'ETHNICITY',\n",
    " 'GENDER',\n",
    " 'ZIP',\n",
    " 'Glomerular filtration rate/1.73 sq M.predicted']\n",
    "\n",
    "col_names = ['Id',\n",
    " 'BIRTHDATE',\n",
    " 'RACE',\n",
    " 'ETHNICITY',\n",
    " 'GENDER',\n",
    " 'ZIP',\n",
    " 'eGFR']\n",
    "\n",
    "px_df = px_df[sel_cols]\n",
    "px_df.columns = col_names\n",
    "px_df['eGFR'] = px_df.eGFR.astype(float)"
   ]
  },
  {
   "cell_type": "code",
   "execution_count": 33,
   "id": "53cd7258-aea4-4438-95f9-6b037741c69a",
   "metadata": {},
   "outputs": [],
   "source": [
    "tmp = px_df.merge(cond_df_wide, how='left', left_on='Id', right_on='PATIENT').drop('Id', 1)\n",
    "# tmp = tmp.merge(obs_df_wide, how='left', on='PATIENT')\n",
    "tmp = tmp.merge(smoking_df_wide, how='left', on='PATIENT')\n",
    "\n",
    "diabetes_indicator = tmp[diabet_desc].max(axis=1)\n",
    "depression_indicator = tmp[depressions_desc].max(axis=1)\n",
    "bmi_indicator = tmp[bmi_desc].max(axis=1)\n",
    "ht_indicator = tmp[ht_desc].max(axis=1)\n",
    "smoking_indicator = tmp[smoking_desc].max(axis=1)\n",
    "# smoking_indicator = tmp[smoking_desc].max(axis=1)\n",
    "\n",
    "final_df = pd.concat([tmp.PATIENT,\n",
    "                      diabetes_indicator,\n",
    "                      depression_indicator,\n",
    "                      bmi_indicator,\n",
    "                      ht_indicator,\n",
    "                      smoking_indicator], axis=1)\n",
    "final_df.columns = ['PATIENT',\n",
    "                    'diabetes',\n",
    "                    'depression',\n",
    "                    'bmi',\n",
    "                    'ht',\n",
    "                    'smoking']\n",
    "\n",
    "final_df = final_df.merge(px_df, how='left', left_on='PATIENT', right_on='Id')\n",
    "final_df = final_df[[col for col in final_df.columns if col != 'Id']]\n",
    "final_df.columns = ['patient_id',\n",
    "                    't2d',\n",
    "                    'depression',\n",
    "                    'bmi',\n",
    "                    'hypertension',\n",
    "                    'smoking',\n",
    "                    'dob',\n",
    "                    'race',\n",
    "                    'ethnicity',\n",
    "                    'gender',\n",
    "                    'zip',\n",
    "                    'eGFR']\n",
    "final_df['t2d'] = final_df['t2d'].astype(bool)\n",
    "final_df['depression'] = final_df['depression'].astype(bool)\n",
    "final_df['bmi'] = final_df['bmi'].astype(bool)\n",
    "final_df['hypertension'] = final_df['hypertension'].astype(bool)\n",
    "final_df['smoking'] = final_df['smoking'].astype(bool)"
   ]
  },
  {
   "cell_type": "code",
   "execution_count": 38,
   "id": "dbf0834d-6931-4186-849d-66522bd8b8ff",
   "metadata": {},
   "outputs": [],
   "source": [
    "from importlib import reload  \n",
    "reload(patients)\n",
    "\n",
    "# patient_config = {'patient_id': 123,\n",
    "#                   'eGFR': 70,\n",
    "#                   'depression': True\n",
    "#                  }\n",
    "\n",
    "patient_config = final_df.to_dict(orient='index')[0]\n",
    "p2 = patients.Patient(**patient_config)"
   ]
  },
  {
   "cell_type": "code",
   "execution_count": 39,
   "id": "af2c8ac0-e874-495a-b2d2-c55658c37eb5",
   "metadata": {},
   "outputs": [
    {
     "data": {
      "text/plain": [
       "{'patient_id': 'c8403116-d069-4130-aa02-39954fc971b5',\n",
       " 't2d': True,\n",
       " 'depression': False,\n",
       " 'bmi': False,\n",
       " 'hypertension': False,\n",
       " 'smoking': False,\n",
       " 'dob': '1967-03-26',\n",
       " 'race': 'white',\n",
       " 'ethnicity': 'nonhispanic',\n",
       " 'gender': 'F',\n",
       " 'zip': nan,\n",
       " 'eGFR': 66.9}"
      ]
     },
     "execution_count": 39,
     "metadata": {},
     "output_type": "execute_result"
    }
   ],
   "source": [
    "p1.patient_config"
   ]
  },
  {
   "cell_type": "code",
   "execution_count": 41,
   "id": "fb782f40-aa5c-4704-b318-43f86da7f676",
   "metadata": {},
   "outputs": [
    {
     "name": "stdout",
     "output_type": "stream",
     "text": [
      "instantiating delay plan\n"
     ]
    }
   ],
   "source": [
    "p2.generate_careplan()"
   ]
  },
  {
   "cell_type": "code",
   "execution_count": 42,
   "id": "a88aa483-d49e-46cf-982e-8a0410cf2f91",
   "metadata": {},
   "outputs": [
    {
     "data": {
      "text/plain": [
       "[<CKDPlanDesigner.interventions.Type2D at 0x7fec21d8ea90>,\n",
       " <CKDPlanDesigner.interventions.Type2D at 0x7fec21d8ebe0>]"
      ]
     },
     "execution_count": 42,
     "metadata": {},
     "output_type": "execute_result"
    }
   ],
   "source": [
    "p2.careplan.list_components()"
   ]
  },
  {
   "cell_type": "code",
   "execution_count": 26,
   "id": "25c135b6-c742-4e33-b526-026c38346a7c",
   "metadata": {},
   "outputs": [
    {
     "data": {
      "text/plain": [
       "<CKDPlanDesigner.plans.DelayPlan at 0x7fec21d90ef0>"
      ]
     },
     "execution_count": 26,
     "metadata": {},
     "output_type": "execute_result"
    }
   ],
   "source": [
    "p1.careplan"
   ]
  },
  {
   "cell_type": "code",
   "execution_count": null,
   "id": "f561dad6-66bd-4ce4-bc59-3887a0b04784",
   "metadata": {},
   "outputs": [],
   "source": []
  }
 ],
 "metadata": {
  "kernelspec": {
   "display_name": "nick",
   "language": "python",
   "name": "nick"
  },
  "language_info": {
   "codemirror_mode": {
    "name": "ipython",
    "version": 3
   },
   "file_extension": ".py",
   "mimetype": "text/x-python",
   "name": "python",
   "nbconvert_exporter": "python",
   "pygments_lexer": "ipython3",
   "version": "3.6.13"
  }
 },
 "nbformat": 4,
 "nbformat_minor": 5
}
