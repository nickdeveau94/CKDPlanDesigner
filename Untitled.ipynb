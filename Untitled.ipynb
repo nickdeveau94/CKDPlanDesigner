{
 "cells": [
  {
   "cell_type": "code",
   "execution_count": 50,
   "id": "12c5fa76-edf7-4a25-86e0-87db443d1eba",
   "metadata": {},
   "outputs": [
    {
     "name": "stdout",
     "output_type": "stream",
     "text": [
      "The autoreload extension is already loaded. To reload it, use:\n",
      "  %reload_ext autoreload\n"
     ]
    }
   ],
   "source": [
    "from CKDPlanDesigner import plans, patients\n",
    "\n",
    "\n",
    "%load_ext autoreload\n",
    "%autoreload"
   ]
  },
  {
   "cell_type": "code",
   "execution_count": 51,
   "id": "dbf0834d-6931-4186-849d-66522bd8b8ff",
   "metadata": {},
   "outputs": [],
   "source": [
    "from importlib import reload  \n",
    "reload(patients)\n",
    "\n",
    "patient_config = {'patient_id': 123,\n",
    "                  'eGFR': 70,\n",
    "                  'depression': True\n",
    "                 }\n",
    "\n",
    "p1 = patients.Patient(**patient_config)"
   ]
  },
  {
   "cell_type": "code",
   "execution_count": 52,
   "id": "af2c8ac0-e874-495a-b2d2-c55658c37eb5",
   "metadata": {},
   "outputs": [
    {
     "data": {
      "text/plain": [
       "{'patient_id': 123, 'eGFR': 70, 'depression': True}"
      ]
     },
     "execution_count": 52,
     "metadata": {},
     "output_type": "execute_result"
    }
   ],
   "source": [
    "p1.patient_config"
   ]
  },
  {
   "cell_type": "code",
   "execution_count": 53,
   "id": "511d914a-95f4-48b8-8dd9-93b52e86ec42",
   "metadata": {},
   "outputs": [
    {
     "data": {
      "text/plain": [
       "{'patient_id': 123, 'eGFR': 70, 'depression': True}"
      ]
     },
     "execution_count": 53,
     "metadata": {},
     "output_type": "execute_result"
    }
   ],
   "source": [
    "p1.stage.patient_config"
   ]
  },
  {
   "cell_type": "code",
   "execution_count": 54,
   "id": "4ae52e7d-ee7f-4568-b7fa-b2f5d86188d1",
   "metadata": {},
   "outputs": [],
   "source": [
    "p1.generate_careplan()"
   ]
  },
  {
   "cell_type": "code",
   "execution_count": 55,
   "id": "a88aa483-d49e-46cf-982e-8a0410cf2f91",
   "metadata": {},
   "outputs": [
    {
     "data": {
      "text/plain": [
       "[<CKDPlanDesigner.interventions.DepressionTreatment at 0x7fb7700da828>]"
      ]
     },
     "execution_count": 55,
     "metadata": {},
     "output_type": "execute_result"
    }
   ],
   "source": [
    "p1.careplan.list_components()"
   ]
  },
  {
   "cell_type": "code",
   "execution_count": 49,
   "id": "25c135b6-c742-4e33-b526-026c38346a7c",
   "metadata": {},
   "outputs": [],
   "source": [
    "p1.careplan.()"
   ]
  },
  {
   "cell_type": "code",
   "execution_count": null,
   "id": "f561dad6-66bd-4ce4-bc59-3887a0b04784",
   "metadata": {},
   "outputs": [],
   "source": []
  }
 ],
 "metadata": {
  "kernelspec": {
   "display_name": "nick",
   "language": "python",
   "name": "nick"
  },
  "language_info": {
   "codemirror_mode": {
    "name": "ipython",
    "version": 3
   },
   "file_extension": ".py",
   "mimetype": "text/x-python",
   "name": "python",
   "nbconvert_exporter": "python",
   "pygments_lexer": "ipython3",
   "version": "3.6.13"
  }
 },
 "nbformat": 4,
 "nbformat_minor": 5
}
